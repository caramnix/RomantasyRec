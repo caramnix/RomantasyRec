{
 "cells": [
  {
   "cell_type": "code",
   "execution_count": null,
   "metadata": {},
   "outputs": [],
   "source": [
    "# pulls all books labeled \"Romantasy\" from Goodreads "
   ]
  },
  {
   "cell_type": "code",
   "execution_count": 108,
   "metadata": {},
   "outputs": [],
   "source": [
    "import pandas as pd\n",
    "import numpy as np\n",
    "import selenium\n",
    "import re\n",
    "from selenium import webdriver\n",
    "from selenium.webdriver.common.keys import Keys\n",
    "from selenium.webdriver.common.by import By\n",
    "import time"
   ]
  },
  {
   "cell_type": "code",
   "execution_count": 109,
   "metadata": {},
   "outputs": [],
   "source": [
    "def clean_element(element): \n",
    "    img_tag = element.find_element(By.TAG_NAME, 'img')\n",
    "    image_link= img_tag.get_attribute('src')\n",
    "    el= element.text\n",
    "    el_list= el.split('\\n')\n",
    "    title_full= el_list[0]\n",
    "    title= title_full.split(\"(\")[0]\n",
    "    #series= title_full.split(\"(\")[1] -- will pull from google\n",
    "    #series_num= re.findall(r'\\d+', series) -- will pull from google\n",
    "    author_full = el_list[1].split(\"(\")\n",
    "    author = author_full[0].split(\"by \")[1]\n",
    "    third_full= el_list[2].split(\"—\")\n",
    "    avg_rating= third_full[0].split(\"rating\")[1]\n",
    "    rating_ct= third_full[1].split(\"rating\")[0]\n",
    "\n",
    "    return [title.strip(), author.strip(), avg_rating.strip(), rating_ct.strip(), image_link]\n"
   ]
  },
  {
   "cell_type": "code",
   "execution_count": 105,
   "metadata": {},
   "outputs": [],
   "source": [
    "# open driver & log-in! \n",
    "driver = webdriver.Chrome()\n",
    "driver.get(\"https://www.goodreads.com/shelf/show/fantasy-romance\")"
   ]
  },
  {
   "cell_type": "code",
   "execution_count": 113,
   "metadata": {},
   "outputs": [],
   "source": [
    "book_list= []\n",
    "for i in range (1,26): \n",
    "    driver.get(\"https://www.goodreads.com/shelf/show/fantasy-romance?page=\"+str(i))\n",
    "    elements = driver.find_elements(By.CLASS_NAME, 'elementList')\n",
    "\n",
    "    for element in elements:\n",
    "        try: \n",
    "            book_list.append(clean_element(element))\n",
    "        except IndexError: # last 2 are weird, not actual books w/ authors, skip \n",
    "            pass\n",
    "\n",
    "    time.sleep(5)\n",
    "\n"
   ]
  },
  {
   "cell_type": "code",
   "execution_count": 114,
   "metadata": {},
   "outputs": [],
   "source": [
    "df = pd.DataFrame(book_list, columns = ['Title', 'Author', 'Rating', 'Count of Ratings', 'img']) "
   ]
  },
  {
   "cell_type": "code",
   "execution_count": 115,
   "metadata": {},
   "outputs": [
    {
     "data": {
      "text/html": [
       "<div>\n",
       "<style scoped>\n",
       "    .dataframe tbody tr th:only-of-type {\n",
       "        vertical-align: middle;\n",
       "    }\n",
       "\n",
       "    .dataframe tbody tr th {\n",
       "        vertical-align: top;\n",
       "    }\n",
       "\n",
       "    .dataframe thead th {\n",
       "        text-align: right;\n",
       "    }\n",
       "</style>\n",
       "<table border=\"1\" class=\"dataframe\">\n",
       "  <thead>\n",
       "    <tr style=\"text-align: right;\">\n",
       "      <th></th>\n",
       "      <th>Title</th>\n",
       "      <th>Author</th>\n",
       "      <th>Rating</th>\n",
       "      <th>Count of Ratings</th>\n",
       "      <th>img</th>\n",
       "    </tr>\n",
       "  </thead>\n",
       "  <tbody>\n",
       "    <tr>\n",
       "      <th>0</th>\n",
       "      <td>A Court of Thorns and Roses</td>\n",
       "      <td>Sarah J. Maas</td>\n",
       "      <td>4.18</td>\n",
       "      <td>3,459,145</td>\n",
       "      <td>https://i.gr-assets.com/images/S/compressed.ph...</td>\n",
       "    </tr>\n",
       "    <tr>\n",
       "      <th>1</th>\n",
       "      <td>A Court of Mist and Fury</td>\n",
       "      <td>Sarah J. Maas</td>\n",
       "      <td>4.65</td>\n",
       "      <td>2,625,974</td>\n",
       "      <td>https://i.gr-assets.com/images/S/compressed.ph...</td>\n",
       "    </tr>\n",
       "    <tr>\n",
       "      <th>2</th>\n",
       "      <td>Fourth Wing</td>\n",
       "      <td>Rebecca Yarros</td>\n",
       "      <td>4.58</td>\n",
       "      <td>2,508,672</td>\n",
       "      <td>https://i.gr-assets.com/images/S/compressed.ph...</td>\n",
       "    </tr>\n",
       "    <tr>\n",
       "      <th>3</th>\n",
       "      <td>A Court of Wings and Ruin</td>\n",
       "      <td>Sarah J. Maas</td>\n",
       "      <td>4.47</td>\n",
       "      <td>2,194,491</td>\n",
       "      <td>https://i.gr-assets.com/images/S/compressed.ph...</td>\n",
       "    </tr>\n",
       "    <tr>\n",
       "      <th>4</th>\n",
       "      <td>From Blood and Ash</td>\n",
       "      <td>Jennifer L. Armentrout</td>\n",
       "      <td>4.22</td>\n",
       "      <td>708,676</td>\n",
       "      <td>https://i.gr-assets.com/images/S/compressed.ph...</td>\n",
       "    </tr>\n",
       "    <tr>\n",
       "      <th>...</th>\n",
       "      <td>...</td>\n",
       "      <td>...</td>\n",
       "      <td>...</td>\n",
       "      <td>...</td>\n",
       "      <td>...</td>\n",
       "    </tr>\n",
       "    <tr>\n",
       "      <th>1245</th>\n",
       "      <td>Blaze of Memory</td>\n",
       "      <td>Nalini Singh</td>\n",
       "      <td>3.96</td>\n",
       "      <td>24,997</td>\n",
       "      <td>https://i.gr-assets.com/images/S/compressed.ph...</td>\n",
       "    </tr>\n",
       "    <tr>\n",
       "      <th>1246</th>\n",
       "      <td>Split or Swallow</td>\n",
       "      <td>Lindsay Straube</td>\n",
       "      <td>3.83</td>\n",
       "      <td>5,662</td>\n",
       "      <td>https://i.gr-assets.com/images/S/compressed.ph...</td>\n",
       "    </tr>\n",
       "    <tr>\n",
       "      <th>1247</th>\n",
       "      <td>Autumn of the Grimoire</td>\n",
       "      <td>J.L. Vampa</td>\n",
       "      <td>4.05</td>\n",
       "      <td>3,185</td>\n",
       "      <td>https://i.gr-assets.com/images/S/compressed.ph...</td>\n",
       "    </tr>\n",
       "    <tr>\n",
       "      <th>1248</th>\n",
       "      <td>Curious Tides</td>\n",
       "      <td>Pascale Lacelle</td>\n",
       "      <td>3.81</td>\n",
       "      <td>10,090</td>\n",
       "      <td>https://i.gr-assets.com/images/S/compressed.ph...</td>\n",
       "    </tr>\n",
       "    <tr>\n",
       "      <th>1249</th>\n",
       "      <td>The Prince of Prohibition</td>\n",
       "      <td>Marilyn Marks</td>\n",
       "      <td>4.09</td>\n",
       "      <td>1,358</td>\n",
       "      <td>https://i.gr-assets.com/images/S/compressed.ph...</td>\n",
       "    </tr>\n",
       "  </tbody>\n",
       "</table>\n",
       "<p>1250 rows × 5 columns</p>\n",
       "</div>"
      ],
      "text/plain": [
       "                            Title                  Author Rating  \\\n",
       "0     A Court of Thorns and Roses           Sarah J. Maas   4.18   \n",
       "1        A Court of Mist and Fury           Sarah J. Maas   4.65   \n",
       "2                     Fourth Wing          Rebecca Yarros   4.58   \n",
       "3       A Court of Wings and Ruin           Sarah J. Maas   4.47   \n",
       "4              From Blood and Ash  Jennifer L. Armentrout   4.22   \n",
       "...                           ...                     ...    ...   \n",
       "1245              Blaze of Memory            Nalini Singh   3.96   \n",
       "1246             Split or Swallow         Lindsay Straube   3.83   \n",
       "1247       Autumn of the Grimoire              J.L. Vampa   4.05   \n",
       "1248                Curious Tides         Pascale Lacelle   3.81   \n",
       "1249    The Prince of Prohibition           Marilyn Marks   4.09   \n",
       "\n",
       "     Count of Ratings                                                img  \n",
       "0           3,459,145  https://i.gr-assets.com/images/S/compressed.ph...  \n",
       "1           2,625,974  https://i.gr-assets.com/images/S/compressed.ph...  \n",
       "2           2,508,672  https://i.gr-assets.com/images/S/compressed.ph...  \n",
       "3           2,194,491  https://i.gr-assets.com/images/S/compressed.ph...  \n",
       "4             708,676  https://i.gr-assets.com/images/S/compressed.ph...  \n",
       "...               ...                                                ...  \n",
       "1245           24,997  https://i.gr-assets.com/images/S/compressed.ph...  \n",
       "1246            5,662  https://i.gr-assets.com/images/S/compressed.ph...  \n",
       "1247            3,185  https://i.gr-assets.com/images/S/compressed.ph...  \n",
       "1248           10,090  https://i.gr-assets.com/images/S/compressed.ph...  \n",
       "1249            1,358  https://i.gr-assets.com/images/S/compressed.ph...  \n",
       "\n",
       "[1250 rows x 5 columns]"
      ]
     },
     "execution_count": 115,
     "metadata": {},
     "output_type": "execute_result"
    }
   ],
   "source": [
    "df"
   ]
  },
  {
   "cell_type": "code",
   "execution_count": 116,
   "metadata": {},
   "outputs": [],
   "source": [
    "df.to_csv(\"fantasy_romance_titles_authors.csv\", index=False)"
   ]
  },
  {
   "cell_type": "code",
   "execution_count": 102,
   "metadata": {},
   "outputs": [
    {
     "data": {
      "text/plain": [
       "<selenium.webdriver.remote.webelement.WebElement (session=\"06f556572ea2e6c3181322ffca56d2b4\", element=\"f.035E3019EE0AB16711222B97CCBAC6F9.d.705FE92E8E3C7F2DC6D38760769EF6F3.e.8943\")>"
      ]
     },
     "execution_count": 102,
     "metadata": {},
     "output_type": "execute_result"
    }
   ],
   "source": [
    "element"
   ]
  },
  {
   "cell_type": "code",
   "execution_count": null,
   "metadata": {},
   "outputs": [],
   "source": []
  }
 ],
 "metadata": {
  "kernelspec": {
   "display_name": "RomantasyRec",
   "language": "python",
   "name": "python3"
  },
  "language_info": {
   "codemirror_mode": {
    "name": "ipython",
    "version": 3
   },
   "file_extension": ".py",
   "mimetype": "text/x-python",
   "name": "python",
   "nbconvert_exporter": "python",
   "pygments_lexer": "ipython3",
   "version": "3.12.8"
  }
 },
 "nbformat": 4,
 "nbformat_minor": 2
}
