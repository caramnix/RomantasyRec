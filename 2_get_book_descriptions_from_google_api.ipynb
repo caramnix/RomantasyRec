{
 "cells": [
  {
   "cell_type": "code",
   "execution_count": null,
   "metadata": {},
   "outputs": [],
   "source": [
    "# Gets decription of books scraped in 1_get_romantasy_data from google books api! Also cleans this data to be ready for modeling.  "
   ]
  },
  {
   "cell_type": "code",
   "execution_count": 58,
   "metadata": {},
   "outputs": [],
   "source": [
    "import json\n",
    "from urllib.request import urlopen\n",
    "import pandas as pd\n",
    "import numpy as np\n",
    "from simplejson import JSONDecodeError\n",
    "import time\n",
    "from urllib.error import HTTPError"
   ]
  },
  {
   "cell_type": "code",
   "execution_count": 157,
   "metadata": {},
   "outputs": [
    {
     "data": {
      "text/html": [
       "<div>\n",
       "<style scoped>\n",
       "    .dataframe tbody tr th:only-of-type {\n",
       "        vertical-align: middle;\n",
       "    }\n",
       "\n",
       "    .dataframe tbody tr th {\n",
       "        vertical-align: top;\n",
       "    }\n",
       "\n",
       "    .dataframe thead th {\n",
       "        text-align: right;\n",
       "    }\n",
       "</style>\n",
       "<table border=\"1\" class=\"dataframe\">\n",
       "  <thead>\n",
       "    <tr style=\"text-align: right;\">\n",
       "      <th></th>\n",
       "      <th>Title</th>\n",
       "      <th>Author</th>\n",
       "      <th>Rating</th>\n",
       "      <th>Count of Ratings</th>\n",
       "      <th>img</th>\n",
       "    </tr>\n",
       "  </thead>\n",
       "  <tbody>\n",
       "    <tr>\n",
       "      <th>0</th>\n",
       "      <td>A Court of Thorns and Roses</td>\n",
       "      <td>Sarah J. Maas</td>\n",
       "      <td>4.18</td>\n",
       "      <td>3,459,145</td>\n",
       "      <td>https://i.gr-assets.com/images/S/compressed.ph...</td>\n",
       "    </tr>\n",
       "    <tr>\n",
       "      <th>1</th>\n",
       "      <td>A Court of Mist and Fury</td>\n",
       "      <td>Sarah J. Maas</td>\n",
       "      <td>4.65</td>\n",
       "      <td>2,625,974</td>\n",
       "      <td>https://i.gr-assets.com/images/S/compressed.ph...</td>\n",
       "    </tr>\n",
       "    <tr>\n",
       "      <th>2</th>\n",
       "      <td>Fourth Wing</td>\n",
       "      <td>Rebecca Yarros</td>\n",
       "      <td>4.58</td>\n",
       "      <td>2,508,672</td>\n",
       "      <td>https://i.gr-assets.com/images/S/compressed.ph...</td>\n",
       "    </tr>\n",
       "    <tr>\n",
       "      <th>3</th>\n",
       "      <td>A Court of Wings and Ruin</td>\n",
       "      <td>Sarah J. Maas</td>\n",
       "      <td>4.47</td>\n",
       "      <td>2,194,491</td>\n",
       "      <td>https://i.gr-assets.com/images/S/compressed.ph...</td>\n",
       "    </tr>\n",
       "    <tr>\n",
       "      <th>4</th>\n",
       "      <td>From Blood and Ash</td>\n",
       "      <td>Jennifer L. Armentrout</td>\n",
       "      <td>4.22</td>\n",
       "      <td>708,676</td>\n",
       "      <td>https://i.gr-assets.com/images/S/compressed.ph...</td>\n",
       "    </tr>\n",
       "    <tr>\n",
       "      <th>...</th>\n",
       "      <td>...</td>\n",
       "      <td>...</td>\n",
       "      <td>...</td>\n",
       "      <td>...</td>\n",
       "      <td>...</td>\n",
       "    </tr>\n",
       "    <tr>\n",
       "      <th>1245</th>\n",
       "      <td>Blaze of Memory</td>\n",
       "      <td>Nalini Singh</td>\n",
       "      <td>3.96</td>\n",
       "      <td>24,997</td>\n",
       "      <td>https://i.gr-assets.com/images/S/compressed.ph...</td>\n",
       "    </tr>\n",
       "    <tr>\n",
       "      <th>1246</th>\n",
       "      <td>Split or Swallow</td>\n",
       "      <td>Lindsay Straube</td>\n",
       "      <td>3.83</td>\n",
       "      <td>5,662</td>\n",
       "      <td>https://i.gr-assets.com/images/S/compressed.ph...</td>\n",
       "    </tr>\n",
       "    <tr>\n",
       "      <th>1247</th>\n",
       "      <td>Autumn of the Grimoire</td>\n",
       "      <td>J.L. Vampa</td>\n",
       "      <td>4.05</td>\n",
       "      <td>3,185</td>\n",
       "      <td>https://i.gr-assets.com/images/S/compressed.ph...</td>\n",
       "    </tr>\n",
       "    <tr>\n",
       "      <th>1248</th>\n",
       "      <td>Curious Tides</td>\n",
       "      <td>Pascale Lacelle</td>\n",
       "      <td>3.81</td>\n",
       "      <td>10,090</td>\n",
       "      <td>https://i.gr-assets.com/images/S/compressed.ph...</td>\n",
       "    </tr>\n",
       "    <tr>\n",
       "      <th>1249</th>\n",
       "      <td>The Prince of Prohibition</td>\n",
       "      <td>Marilyn Marks</td>\n",
       "      <td>4.09</td>\n",
       "      <td>1,358</td>\n",
       "      <td>https://i.gr-assets.com/images/S/compressed.ph...</td>\n",
       "    </tr>\n",
       "  </tbody>\n",
       "</table>\n",
       "<p>1250 rows × 5 columns</p>\n",
       "</div>"
      ],
      "text/plain": [
       "                            Title                  Author  Rating  \\\n",
       "0     A Court of Thorns and Roses           Sarah J. Maas    4.18   \n",
       "1        A Court of Mist and Fury           Sarah J. Maas    4.65   \n",
       "2                     Fourth Wing          Rebecca Yarros    4.58   \n",
       "3       A Court of Wings and Ruin           Sarah J. Maas    4.47   \n",
       "4              From Blood and Ash  Jennifer L. Armentrout    4.22   \n",
       "...                           ...                     ...     ...   \n",
       "1245              Blaze of Memory            Nalini Singh    3.96   \n",
       "1246             Split or Swallow         Lindsay Straube    3.83   \n",
       "1247       Autumn of the Grimoire              J.L. Vampa    4.05   \n",
       "1248                Curious Tides         Pascale Lacelle    3.81   \n",
       "1249    The Prince of Prohibition           Marilyn Marks    4.09   \n",
       "\n",
       "     Count of Ratings                                                img  \n",
       "0           3,459,145  https://i.gr-assets.com/images/S/compressed.ph...  \n",
       "1           2,625,974  https://i.gr-assets.com/images/S/compressed.ph...  \n",
       "2           2,508,672  https://i.gr-assets.com/images/S/compressed.ph...  \n",
       "3           2,194,491  https://i.gr-assets.com/images/S/compressed.ph...  \n",
       "4             708,676  https://i.gr-assets.com/images/S/compressed.ph...  \n",
       "...               ...                                                ...  \n",
       "1245           24,997  https://i.gr-assets.com/images/S/compressed.ph...  \n",
       "1246            5,662  https://i.gr-assets.com/images/S/compressed.ph...  \n",
       "1247            3,185  https://i.gr-assets.com/images/S/compressed.ph...  \n",
       "1248           10,090  https://i.gr-assets.com/images/S/compressed.ph...  \n",
       "1249            1,358  https://i.gr-assets.com/images/S/compressed.ph...  \n",
       "\n",
       "[1250 rows x 5 columns]"
      ]
     },
     "execution_count": 157,
     "metadata": {},
     "output_type": "execute_result"
    }
   ],
   "source": [
    "df= pd.read_csv(\"fantasy_romance_titles_authors.csv\")\n",
    "df"
   ]
  },
  {
   "cell_type": "code",
   "execution_count": 173,
   "metadata": {},
   "outputs": [],
   "source": [
    "# pull list of api links to loop over -- this is so we can check if we have already pulled data for one of the links and don't do it twice! \n",
    "api_list_full= []\n",
    "title_list=[]\n",
    "author_list=[]\n",
    "rating_list=[]\n",
    "image_link_list=[]\n",
    "count_of_rating_list=[] \n",
    "for i in range(0, len(df)): \n",
    "    title= df.iloc[i][\"Title\"]\n",
    "    title = title.replace(\"’\", '')\n",
    "    title= title.replace('ü', 'u')\n",
    "    author= df.iloc[i][\"Author\"]\n",
    "    author= author.replace('.', '')\n",
    "    if 'é' in author: \n",
    "        author = author.replace('é', 'e')\n",
    "    if 'ü' in author: \n",
    "        author = author.replace('ü', 'u')\n",
    "    if \"ñ\" in author: \n",
    "        author = author.replace('ñ', 'n')\n",
    "    api = \"https://www.googleapis.com/books/v1/volumes?q=intitle:\" + str(title) +\"+inauthor:\" + str(author) +\"&maxResults=1\"\n",
    "    api= api.replace(\" \", \"%20\")\n",
    "    api_list_full.append(api)\n",
    "    title_list.append(title)\n",
    "    author_list.append(author)\n",
    "    rating_list.append(df.iloc[i][\"Rating\"])\n",
    "    count_of_rating_list.append(df.iloc[i][\"Count of Ratings\"])\n",
    "    image_link_list.append(df.iloc[i][\"img\"])"
   ]
  },
  {
   "cell_type": "code",
   "execution_count": 162,
   "metadata": {},
   "outputs": [],
   "source": [
    "# now get book data from api link! \n",
    "\n",
    "def get_book_data(api, title, author, avg_rating, count_of_ratings, image_link): \n",
    "    \n",
    "    # send a request and get a JSON response\n",
    "    try: \n",
    "        resp = urlopen(api)\n",
    "    except UnicodeEncodeError: \n",
    "        print(author)\n",
    "        print(api)\n",
    "    # parse JSON into Python as a dictionary\n",
    "    try: \n",
    "        book = json.load(resp)\n",
    "    except JSONDecodeError:  # if we get a weird decode error, skip and print api! \n",
    "        print(\"json: \" + str(api))\n",
    "        pass \n",
    "\n",
    "    if book[\"totalItems\"] != 0: \n",
    "        book= book['items'][0] #-- not an index, just json quirk\n",
    "        try: \n",
    "            publisher= book['volumeInfo']['publisher']\n",
    "        except KeyError: \n",
    "            publisher = \"N/A\"\n",
    "        try: \n",
    "            published_date= book['volumeInfo']['publishedDate'] \n",
    "        except KeyError: \n",
    "            published_date = \"N/A\"\n",
    "        try: \n",
    "            description= book['volumeInfo']['description']\n",
    "        except KeyError: \n",
    "            description= 'N/A'\n",
    "            print(\"descr: \" + str(api))\n",
    "        try: \n",
    "            page_count=book['volumeInfo']['pageCount']\n",
    "        except KeyError: \n",
    "            page_count= 'N/A'\n",
    "            print(\"page_count: \" + str(api))\n",
    "        try: \n",
    "            isbn= book['volumeInfo']['industryIdentifiers'][0]['identifier']\n",
    "        except KeyError: \n",
    "            isbn= 'N/A'\n",
    "            print(\"isbn: \" + str(api))\n",
    "        try: \n",
    "            maturity_rating=book['volumeInfo']['maturityRating']\n",
    "        except KeyError: \n",
    "            maturity_rating=\"N/A\"\n",
    "        #try: \n",
    "        #    image_link= book['volumeInfo']['imageLinks']['thumbnail'] \n",
    "       # except KeyError: \n",
    "       #     image_link= 'N/A'\n",
    "       #     print(\"image_link: \" + str(api))\n",
    "        \n",
    "        return ({\"api_link\" : api, \"title\" : title, \"author\": author, \"avg_rating\": avg_rating, \"count_of_ratings\": count_of_ratings,\n",
    "                 \"publisher\": publisher, \"published_date\": published_date, \"description\": description, \"page_count\": page_count, \n",
    "                 \"isbn\": isbn, \"maturity_rating\": maturity_rating, \"image_link\": image_link})\n"
   ]
  },
  {
   "cell_type": "code",
   "execution_count": 159,
   "metadata": {},
   "outputs": [
    {
     "data": {
      "text/plain": [
       "{'api_link': 'https://www.googleapis.com/books/v1/volumes?q=intitle:A%20Court%20of%20Thorns%20and%20Roses+inauthor:Sarah%20J%20Maas&maxResults=1',\n",
       " 'title': 'A Court of Thorns and Roses',\n",
       " 'author': 'Sarah J Maas',\n",
       " 'avg_rating': np.float64(4.18),\n",
       " 'count_of_ratings': '3,459,145',\n",
       " 'publisher': 'Bloomsbury Publishing',\n",
       " 'published_date': '2020-10-01',\n",
       " 'description': \"The first instalment of the GLOBAL PHENOMENON and TikTok sensation, from multi-million selling and #1 Sunday Times bestselling author Sarah J. Maas Maas has established herself as a fantasy fiction titan – Time Harry Potter magic, Taylor Swift sass, Fifty Shades-level athleticism – The Sunday Times With bits of Buffy, Game of Thrones and Outlander, this is a glorious series of total joy – Stylist Spiced with slick plotting and atmospheric world-building ... a page-turning delight – Guardian ****** Feyre is a huntress, but when she kills what she thinks is a wolf in the woods, a terrifying creature arrives to demand retribution. Dragged to a treacherous magical land she knows about only from legends, Feyre discovers that her captor, Tamlin, is not truly a beast, but one of the lethal, immortal Fae. And there's more to the Fae than the legends suggest. As Feyre adapts to her new home, her feelings for Tamlin begin to change. Icy hostility turns to fiery passion that burns through every lie she's been told about the beautiful, dangerous world of the Fae. But shadows are creeping in, and Tamlin has a dark secret that he cannot share. Fate brought Feyre to Tamlin for a reason, but saving him from the darkness that threatens his world will lead her down a path that she can never return from. Enter the world of Sarah J. Maas and discover the sweeping romantic fantasy that everyone's talking about for yourself. ****** 5* reader reviews 'This is the first fantasy book I've ever read . . . I'm hooked. I'm addicted' 'I'm a standard romance girl but this swept me off my feet' 'Her writing is exquisite; her characters complex . . . and worlds all-consuming' 'This book has ignited my spark for reading again'\",\n",
       " 'page_count': 451,\n",
       " 'isbn': '9781526634245',\n",
       " 'maturity_rating': 'NOT_MATURE',\n",
       " 'image_link': 'http://books.google.com/books/content?id=VswAEAAAQBAJ&printsec=frontcover&img=1&zoom=1&edge=curl&source=gbs_api'}"
      ]
     },
     "execution_count": 159,
     "metadata": {},
     "output_type": "execute_result"
    }
   ],
   "source": [
    "#example of get_book_data in action\n",
    "i= 0\n",
    "get_book_data(api_list_full[i], title_list[i], author_list[i], rating_list[i], count_of_rating_list[i])"
   ]
  },
  {
   "cell_type": "code",
   "execution_count": 160,
   "metadata": {},
   "outputs": [],
   "source": [
    "# now do it for all the books! keep separate so can iterate and debug without making all the requests again \n",
    "full_book_dictionary={}"
   ]
  },
  {
   "cell_type": "code",
   "execution_count": 176,
   "metadata": {},
   "outputs": [],
   "source": [
    "for i in range(len(api_list_full)): \n",
    "    if api_list_full[i] not in full_book_dictionary.keys(): \n",
    "        try: \n",
    "            full_book_dictionary[api_list_full[i]]= get_book_data(api_list_full[i], title_list[i], author_list[i], rating_list[i], count_of_rating_list[i], image_link_list[i])\n",
    "        except HTTPError: # if we've passed too many requests, wait for two minutes\n",
    "            time.sleep(30)\n",
    "            full_book_dictionary[api_list_full[i]]= get_book_data(api_list_full[i], title_list[i], author_list[i], rating_list[i], count_of_rating_list[i], image_link_list[i])\n",
    "    else: \n",
    "        pass # we've already got the data for it! this helps cut down on duplicate requests :) "
   ]
  },
  {
   "cell_type": "code",
   "execution_count": 177,
   "metadata": {},
   "outputs": [
    {
     "data": {
      "text/plain": [
       "1197"
      ]
     },
     "execution_count": 177,
     "metadata": {},
     "output_type": "execute_result"
    }
   ],
   "source": [
    "len(full_book_dictionary) # -- those that are missing did not match to google books! "
   ]
  },
  {
   "cell_type": "code",
   "execution_count": 22,
   "metadata": {},
   "outputs": [
    {
     "data": {
      "text/plain": [
       "dict_keys(['https://www.googleapis.com/books/v1/volumes?q=intitle:A%20Court%20of%20Thorns%20and%20Roses+inauthor:Sarah%20J%20Maas&maxResults=1', 'https://www.googleapis.com/books/v1/volumes?q=intitle:A%20Court%20of%20Mist%20and%20Fury+inauthor:Sarah%20J%20Maas&maxResults=1', 'https://www.googleapis.com/books/v1/volumes?q=intitle:Fourth%20Wing+inauthor:Rebecca%20Yarros&maxResults=1', 'https://www.googleapis.com/books/v1/volumes?q=intitle:A%20Court%20of%20Wings%20and%20Ruin+inauthor:Sarah%20J%20Maas&maxResults=1', 'https://www.googleapis.com/books/v1/volumes?q=intitle:From%20Blood%20and%20Ash+inauthor:Jennifer%20L%20Armentrout&maxResults=1', 'https://www.googleapis.com/books/v1/volumes?q=intitle:A%20Court%20of%20Silver%20Flames+inauthor:Sarah%20J%20Maas&maxResults=1', 'https://www.googleapis.com/books/v1/volumes?q=intitle:A%20Court%20of%20Frost%20and%20Starlight+inauthor:Sarah%20J%20Maas&maxResults=1', 'https://www.googleapis.com/books/v1/volumes?q=intitle:The%20Serpent%20and%20the%20Wings%20of%20Night+inauthor:Carissa%20Broadbent&maxResults=1', 'https://www.googleapis.com/books/v1/volumes?q=intitle:House%20of%20Earth%20and%20Blood+inauthor:Sarah%20J%20Maas&maxResults=1', 'https://www.googleapis.com/books/v1/volumes?q=intitle:Iron%20Flame+inauthor:Rebecca%20Yarros&maxResults=1', 'https://www.googleapis.com/books/v1/volumes?q=intitle:Throne%20of%20Glass+inauthor:Sarah%20J%20Maas&maxResults=1', 'https://www.googleapis.com/books/v1/volumes?q=intitle:The%20Cruel%20Prince+inauthor:Holly%20Black&maxResults=1', 'https://www.googleapis.com/books/v1/volumes?q=intitle:A%20Kingdom%20of%20Flesh%20and%20Fire+inauthor:Jennifer%20L%20Armentrout&maxResults=1', 'https://www.googleapis.com/books/v1/volumes?q=intitle:The%20Bridge%20Kingdom+inauthor:Danielle%20L%20Jensen&maxResults=1', 'https://www.googleapis.com/books/v1/volumes?q=intitle:Radiance+inauthor:Grace%20Draven&maxResults=1', 'https://www.googleapis.com/books/v1/volumes?q=intitle:Divine%20Rivals+inauthor:Rebecca%20Ross&maxResults=1', 'https://www.googleapis.com/books/v1/volumes?q=intitle:Once%20Upon%20a%20Broken%20Heart+inauthor:Stephanie%20Garber&maxResults=1', 'https://www.googleapis.com/books/v1/volumes?q=intitle:Crown%20of%20Midnight+inauthor:Sarah%20J%20Maas&maxResults=1', 'https://www.googleapis.com/books/v1/volumes?q=intitle:House%20of%20Sky%20and%20Breath+inauthor:Sarah%20J%20Maas&maxResults=1', 'https://www.googleapis.com/books/v1/volumes?q=intitle:Gild+inauthor:Raven%20Kennedy&maxResults=1', 'https://www.googleapis.com/books/v1/volumes?q=intitle:Heir%20of%20Fire+inauthor:Sarah%20J%20Maas&maxResults=1', 'https://www.googleapis.com/books/v1/volumes?q=intitle:The%20Crown%20of%20Gilded%20Bones+inauthor:Jennifer%20L%20Armentrout&maxResults=1', 'https://www.googleapis.com/books/v1/volumes?q=intitle:Powerless+inauthor:Lauren%20Roberts&maxResults=1', 'https://www.googleapis.com/books/v1/volumes?q=intitle:Rhapsodic+inauthor:Laura%20Thalassa&maxResults=1', 'https://www.googleapis.com/books/v1/volumes?q=intitle:Daughter%20of%20No%20Worlds+inauthor:Carissa%20Broadbent&maxResults=1', 'https://www.googleapis.com/books/v1/volumes?q=intitle:Queen%20of%20Shadows+inauthor:Sarah%20J%20Maas&maxResults=1', 'https://www.googleapis.com/books/v1/volumes?q=intitle:Empire%20of%20Storms+inauthor:Sarah%20J%20Maas&maxResults=1', 'https://www.googleapis.com/books/v1/volumes?q=intitle:One%20Dark%20Window+inauthor:Rachel%20Gillig&maxResults=1', 'https://www.googleapis.com/books/v1/volumes?q=intitle:Kingdom%20of%20the%20Wicked+inauthor:Kerri%20Maniscalco&maxResults=1', 'https://www.googleapis.com/books/v1/volumes?q=intitle:The%20Wicked%20King+inauthor:Holly%20Black&maxResults=1', 'https://www.googleapis.com/books/v1/volumes?q=intitle:A%20Touch%20of%20Darkness+inauthor:Scarlett%20St%20Clair&maxResults=1', 'https://www.googleapis.com/books/v1/volumes?q=intitle:A%20Promise%20of%20Fire+inauthor:Amanda%20Bouchet&maxResults=1', 'https://www.googleapis.com/books/v1/volumes?q=intitle:Kingdom%20of%20Ash+inauthor:Sarah%20J%20Maas&maxResults=1', 'https://www.googleapis.com/books/v1/volumes?q=intitle:A%20Shadow%20in%20the%20Ember+inauthor:Jennifer%20L%20Armentrout&maxResults=1', 'https://www.googleapis.com/books/v1/volumes?q=intitle:The%20Queen%20of%20Nothing+inauthor:Holly%20Black&maxResults=1', 'https://www.googleapis.com/books/v1/volumes?q=intitle:Serpent%20&%20Dove+inauthor:Shel&maxResults=1', 'https://www.googleapis.com/books/v1/volumes?q=intitle:Tower%20of%20Dawn+inauthor:Sarah%20J%20Maas&maxResults=1', 'https://www.googleapis.com/books/v1/volumes?q=intitle:Bride+inauthor:Ali%20Hazelwood&maxResults=1', 'https://www.googleapis.com/books/v1/volumes?q=intitle:The%20Ashes%20&%20the%20Star-Cursed%20King+inauthor:Carissa%20Broadbent&maxResults=1', 'https://www.googleapis.com/books/v1/volumes?q=intitle:King%20of%20Battle%20and%20Blood+inauthor:Scarlett%20St%20Clair&maxResults=1', 'https://www.googleapis.com/books/v1/volumes?q=intitle:A%20Deal%20with%20the%20Elf%20King+inauthor:Elise%20Kova&maxResults=1', 'https://www.googleapis.com/books/v1/volumes?q=intitle:The%20Awakening+inauthor:Caroline%20Peckham&maxResults=1', 'https://www.googleapis.com/books/v1/volumes?q=intitle:The%20Winter%20King+inauthor:CL%20Wilson&maxResults=1', 'https://www.googleapis.com/books/v1/volumes?q=intitle:House%20of%20Flame%20and%20Shadow+inauthor:Sarah%20J%20Maas&maxResults=1', 'https://www.googleapis.com/books/v1/volumes?q=intitle:The%20War%20of%20Two%20Queens+inauthor:Jennifer%20L%20Armentrout&maxResults=1', 'https://www.googleapis.com/books/v1/volumes?q=intitle:When%20the%20Moon%20Hatched+inauthor:Sarah%20A%20Parker&maxResults=1', 'https://www.googleapis.com/books/v1/volumes?q=intitle:Caraval+inauthor:Stephanie%20Garber&maxResults=1', 'https://www.googleapis.com/books/v1/volumes?q=intitle:Quicksilver+inauthor:Callie%20Hart&maxResults=1', 'https://www.googleapis.com/books/v1/volumes?q=intitle:A%20Fate%20Inked%20in%20Blood+inauthor:Danielle%20L%20Jensen&maxResults=1', 'https://www.googleapis.com/books/v1/volumes?q=intitle:The%20Ballad%20of%20Never%20After+inauthor:Stephanie%20Garber&maxResults=1', 'https://www.googleapis.com/books/v1/volumes?q=intitle:Pestilence+inauthor:Laura%20Thalassa&maxResults=1', 'https://www.googleapis.com/books/v1/volumes?q=intitle:The%20Shadows%20Between%20Us+inauthor:Tricia%20Levenseller&maxResults=1', 'https://www.googleapis.com/books/v1/volumes?q=intitle:Glint+inauthor:Raven%20Kennedy&maxResults=1', 'https://www.googleapis.com/books/v1/volumes?q=intitle:The%20Traitor%20Queen+inauthor:Danielle%20L%20Jensen&maxResults=1', 'https://www.googleapis.com/books/v1/volumes?q=intitle:The%20Book%20of%20Azrael+inauthor:Amber%20V%20Nicole&maxResults=1', 'https://www.googleapis.com/books/v1/volumes?q=intitle:Heartless%20Hunter+inauthor:Kristen%20Ciccarelli&maxResults=1', 'https://www.googleapis.com/books/v1/volumes?q=intitle:What%20Lies%20Beyond%20the%20Veil+inauthor:Harper%20L%20Woods&maxResults=1', 'https://www.googleapis.com/books/v1/volumes?q=intitle:Kingdom%20of%20the%20Cursed+inauthor:Kerri%20Maniscalco&maxResults=1', \"https://www.googleapis.com/books/v1/volumes?q=intitle:The%20Assassin's%20Blade+inauthor:Sarah%20J%20Maas&maxResults=1\", 'https://www.googleapis.com/books/v1/volumes?q=intitle:These%20Hollow%20Vows+inauthor:Lexi%20Ryan&maxResults=1', 'https://www.googleapis.com/books/v1/volumes?q=intitle:Master%20of%20Crows+inauthor:Grace%20Draven&maxResults=1', 'https://www.googleapis.com/books/v1/volumes?q=intitle:Gleam+inauthor:Raven%20Kennedy&maxResults=1', 'https://www.googleapis.com/books/v1/volumes?q=intitle:Neon%20Gods+inauthor:Katee%20Robert&maxResults=1', 'https://www.googleapis.com/books/v1/volumes?q=intitle:A%20Dawn%20of%20Onyx+inauthor:Kate%20Golden&maxResults=1', 'https://www.googleapis.com/books/v1/volumes?q=intitle:Dance%20of%20Thieves+inauthor:Mary%20E%20Pearson&maxResults=1', 'https://www.googleapis.com/books/v1/volumes?q=intitle:Spark%20of%20the%20Everflame+inauthor:Penn%20Cole&maxResults=1', 'https://www.googleapis.com/books/v1/volumes?q=intitle:Twilight+inauthor:Stephenie%20Meyer&maxResults=1', 'https://www.googleapis.com/books/v1/volumes?q=intitle:Lord%20of%20the%20Fading%20Lands+inauthor:CL%20Wilson&maxResults=1', 'https://www.googleapis.com/books/v1/volumes?q=intitle:The%20Witch%20Collector+inauthor:Charissa%20Weaks&maxResults=1', 'https://www.googleapis.com/books/v1/volumes?q=intitle:A%20Curse%20for%20True%20Love+inauthor:Stephanie%20Garber&maxResults=1', 'https://www.googleapis.com/books/v1/volumes?q=intitle:Shatter%20Me+inauthor:Tahereh%20Mafi&maxResults=1', 'https://www.googleapis.com/books/v1/volumes?q=intitle:Belladonna+inauthor:Adalyn%20Grace&maxResults=1', 'https://www.googleapis.com/books/v1/volumes?q=intitle:Red%20Queen+inauthor:Victoria%20Aveyard&maxResults=1', 'https://www.googleapis.com/books/v1/volumes?q=intitle:Shadow%20and%20Bone+inauthor:Leigh%20Bardugo&maxResults=1', 'https://www.googleapis.com/books/v1/volumes?q=intitle:The%20Ever%20King+inauthor:LJ%20Andrews&maxResults=1', 'https://www.googleapis.com/books/v1/volumes?q=intitle:A%20Fate%20of%20Wrath%20&%20Flame+inauthor:KA%20Tucker&maxResults=1', 'https://www.googleapis.com/books/v1/volumes?q=intitle:Six%20Scorched%20Roses+inauthor:Carissa%20Broadbent&maxResults=1', 'https://www.googleapis.com/books/v1/volumes?q=intitle:Two%20Twisted%20Crowns+inauthor:Rachel%20Gillig&maxResults=1', 'https://www.googleapis.com/books/v1/volumes?q=intitle:Broken%20Bonds+inauthor:J%20Bree&maxResults=1', 'https://www.googleapis.com/books/v1/volumes?q=intitle:A%20Court%20This%20Cruel%20&%20Lovely+inauthor:Stacia%20Stark&maxResults=1', 'https://www.googleapis.com/books/v1/volumes?q=intitle:Throne%20of%20the%20Fallen+inauthor:Kerri%20Maniscalco&maxResults=1', 'https://www.googleapis.com/books/v1/volumes?q=intitle:Assistant%20to%20the%20Villain+inauthor:Hannah%20Nicole%20Maehrer&maxResults=1', 'https://www.googleapis.com/books/v1/volumes?q=intitle:Half%20a%20Soul+inauthor:Olivia%20Atwater&maxResults=1', 'https://www.googleapis.com/books/v1/volumes?q=intitle:Entreat%20Me+inauthor:Grace%20Draven&maxResults=1', 'https://www.googleapis.com/books/v1/volumes?q=intitle:Sorcery%20of%20Thorns+inauthor:Margaret%20Rogerson&maxResults=1', 'https://www.googleapis.com/books/v1/volumes?q=intitle:To%20Kill%20a%20Kingdom+inauthor:Alexandra%20Christo&maxResults=1', 'https://www.googleapis.com/books/v1/volumes?q=intitle:Blood%20&%20Steel+inauthor:Helen%20Scheuerer&maxResults=1', 'https://www.googleapis.com/books/v1/volumes?q=intitle:Fall%20of%20Ruin%20and%20Wrath+inauthor:Jennifer%20L%20Armentrout&maxResults=1', 'https://www.googleapis.com/books/v1/volumes?q=intitle:A%20Kingdom%20of%20Stars%20and%20Shadows+inauthor:Holly%20Renee&maxResults=1', 'https://www.googleapis.com/books/v1/volumes?q=intitle:Poison%20Study+inauthor:Maria%20V%20Snyder&maxResults=1', 'https://www.googleapis.com/books/v1/volumes?q=intitle:Six%20of%20Crows+inauthor:Leigh%20Bardugo&maxResults=1', 'https://www.googleapis.com/books/v1/volumes?q=intitle:Eidolon+inauthor:Grace%20Draven&maxResults=1', 'https://www.googleapis.com/books/v1/volumes?q=intitle:Ruthless%20Fae+inauthor:Caroline%20Peckham&maxResults=1', 'https://www.googleapis.com/books/v1/volumes?q=intitle:A%20Curse%20So%20Dark%20and%20Lonely+inauthor:Brigid%20Kemmerer&maxResults=1', 'https://www.googleapis.com/books/v1/volumes?q=intitle:The%20Invisible%20Life%20of%20Addie%20LaRue+inauthor:Victoria%20E%20Schwab&maxResults=1', \"https://www.googleapis.com/books/v1/volumes?q=intitle:Emily%20Wilde's%20Encyclopaedia%20of%20Faeries+inauthor:Heather%20Fawcett&maxResults=1\", 'https://www.googleapis.com/books/v1/volumes?q=intitle:Ruthless%20Vows+inauthor:Rebecca%20Ross&maxResults=1', 'https://www.googleapis.com/books/v1/volumes?q=intitle:A%20Discovery%20of%20Witches+inauthor:Deborah%20Harkness&maxResults=1', 'https://www.googleapis.com/books/v1/volumes?q=intitle:Trial%20of%20the%20Sun%20Queen+inauthor:Nisha%20J%20Tuli&maxResults=1', 'https://www.googleapis.com/books/v1/volumes?q=intitle:Graceling+inauthor:Kristin%20Cashore&maxResults=1', 'https://www.googleapis.com/books/v1/volumes?q=intitle:Lightlark+inauthor:Alex%20Aster&maxResults=1', 'https://www.googleapis.com/books/v1/volumes?q=intitle:Glow+inauthor:Raven%20Kennedy&maxResults=1', 'https://www.googleapis.com/books/v1/volumes?q=intitle:Kingdom%20of%20the%20Feared+inauthor:Kerri%20Maniscalco&maxResults=1', 'https://www.googleapis.com/books/v1/volumes?q=intitle:A%20Heart%20of%20Blood%20and%20Ashes+inauthor:Milla%20Vane&maxResults=1', 'https://www.googleapis.com/books/v1/volumes?q=intitle:A%20Strange%20Hymn+inauthor:Laura%20Thalassa&maxResults=1', 'https://www.googleapis.com/books/v1/volumes?q=intitle:The%20Reckoning+inauthor:Caroline%20Peckham&maxResults=1', 'https://www.googleapis.com/books/v1/volumes?q=intitle:A%20Light%20in%20the%20Flame+inauthor:Jennifer%20L%20Armentrout&maxResults=1', 'https://www.googleapis.com/books/v1/volumes?q=intitle:This%20Woven%20Kingdom+inauthor:Tahereh%20Mafi&maxResults=1', 'https://www.googleapis.com/books/v1/volumes?q=intitle:A%20Ruin%20of%20Roses+inauthor:KF%20Breene&maxResults=1', 'https://www.googleapis.com/books/v1/volumes?q=intitle:Savage%20Lands+inauthor:Stacey%20Marie%20Brown&maxResults=1', 'https://www.googleapis.com/books/v1/volumes?q=intitle:An%20Enchantment%20of%20Ravens+inauthor:Margaret%20Rogerson&maxResults=1', 'https://www.googleapis.com/books/v1/volumes?q=intitle:New%20Moon+inauthor:Stephenie%20Meyer&maxResults=1', 'https://www.googleapis.com/books/v1/volumes?q=intitle:The%20Undertaking%20of%20Hart%20and%20Mercy+inauthor:Megan%20Bannen&maxResults=1', 'https://www.googleapis.com/books/v1/volumes?q=intitle:Eclipse+inauthor:Stephenie%20Meyer&maxResults=1', 'https://www.googleapis.com/books/v1/volumes?q=intitle:Phoenix%20Unbound+inauthor:Grace%20Draven&maxResults=1', 'https://www.googleapis.com/books/v1/volumes?q=intitle:The%20Wrath%20and%20the%20Dawn+inauthor:Renee%20Ahdieh&maxResults=1', 'https://www.googleapis.com/books/v1/volumes?q=intitle:Phantasma+inauthor:Kaylie%20Smith&maxResults=1', 'https://www.googleapis.com/books/v1/volumes?q=intitle:House%20of%20Beating%20Wings+inauthor:Olivia%20Wildenstein&maxResults=1', 'https://www.googleapis.com/books/v1/volumes?q=intitle:A%20Touch%20of%20Ruin+inauthor:Scarlett%20St%20Clair&maxResults=1', 'https://www.googleapis.com/books/v1/volumes?q=intitle:That%20Time%20I%20Got%20Drunk%20and%20Saved%20a%20Demon+inauthor:Kimberly%20Lemming&maxResults=1', 'https://www.googleapis.com/books/v1/volumes?q=intitle:The%20Kiss%20of%20Deception+inauthor:Mary%20E%20Pearson&maxResults=1', 'https://www.googleapis.com/books/v1/volumes?q=intitle:An%20Ember%20in%20the%20Ashes+inauthor:Sabaa%20Tahir&maxResults=1', 'https://www.googleapis.com/books/v1/volumes?q=intitle:Legendary+inauthor:Stephanie%20Garber&maxResults=1', 'https://www.googleapis.com/books/v1/volumes?q=intitle:Daughter%20of%20the%20Pirate%20King+inauthor:Tricia%20Levenseller&maxResults=1', 'https://www.googleapis.com/books/v1/volumes?q=intitle:Wildest%20Dreams+inauthor:Kristen%20Ashley&maxResults=1', 'https://www.googleapis.com/books/v1/volumes?q=intitle:City%20of%20Bones+inauthor:Cassandra%20Clare&maxResults=1', 'https://www.googleapis.com/books/v1/volumes?q=intitle:Warprize+inauthor:Elizabeth%20Vaughan&maxResults=1', 'https://www.googleapis.com/books/v1/volumes?q=intitle:The%20Never%20King+inauthor:Nikki%20St%20Crowe&maxResults=1', 'https://www.googleapis.com/books/v1/volumes?q=intitle:A%20Hunger%20Like%20No%20Other+inauthor:Kresley%20Cole&maxResults=1', 'https://www.googleapis.com/books/v1/volumes?q=intitle:Reckless+inauthor:Lauren%20Roberts&maxResults=1', 'https://www.googleapis.com/books/v1/volumes?q=intitle:Bonded%20by%20Thorns+inauthor:Elizabeth%20Helen&maxResults=1', 'https://www.googleapis.com/books/v1/volumes?q=intitle:The%20Song%20of%20the%20Marked+inauthor:SM%20Gaither&maxResults=1', 'https://www.googleapis.com/books/v1/volumes?q=intitle:Breath%20of%20Fire+inauthor:Amanda%20Bouchet&maxResults=1', 'https://www.googleapis.com/books/v1/volumes?q=intitle:Shadow%20Princess+inauthor:Caroline%20Peckham&maxResults=1', 'https://www.googleapis.com/books/v1/volumes?q=intitle:Breaking%20Dawn+inauthor:Stephenie%20Meyer&maxResults=1', 'https://www.googleapis.com/books/v1/volumes?q=intitle:Fortuna%20Sworn+inauthor:KJ%20Sutton&maxResults=1', 'https://www.googleapis.com/books/v1/volumes?q=intitle:A%20Soul%20of%20Ash%20and%20Blood+inauthor:Jennifer%20L%20Armentrout&maxResults=1', 'https://www.googleapis.com/books/v1/volumes?q=intitle:Dark%20Lover+inauthor:JR%20Ward&maxResults=1', 'https://www.googleapis.com/books/v1/volumes?q=intitle:Slaying%20the%20Vampire%20Conqueror+inauthor:Carissa%20Broadbent&maxResults=1', 'https://www.googleapis.com/books/v1/volumes?q=intitle:Uprooted+inauthor:Naomi%20Novik&maxResults=1', 'https://www.googleapis.com/books/v1/volumes?q=intitle:The%20Night%20Circus+inauthor:Erin%20Morgenstern&maxResults=1', 'https://www.googleapis.com/books/v1/volumes?q=intitle:Clockwork%20Angel+inauthor:Cassandra%20Clare&maxResults=1', 'https://www.googleapis.com/books/v1/volumes?q=intitle:Curse%20of%20Shadows%20and%20Thorns+inauthor:LJ%20Andrews&maxResults=1', 'https://www.googleapis.com/books/v1/volumes?q=intitle:Lady%20of%20Darkness+inauthor:Melissa%20K%20Roehrich&maxResults=1', 'https://www.googleapis.com/books/v1/volumes?q=intitle:Finale+inauthor:Stephanie%20Garber&maxResults=1', 'https://www.googleapis.com/books/v1/volumes?q=intitle:The%20Bird%20and%20the%20Sword+inauthor:Amy%20Harmon&maxResults=1', 'https://www.googleapis.com/books/v1/volumes?q=intitle:The%20Coven+inauthor:Harper%20L%20Woods&maxResults=1', 'https://www.googleapis.com/books/v1/volumes?q=intitle:The%20Prison%20Healer+inauthor:Lynette%20Noni&maxResults=1', 'https://www.googleapis.com/books/v1/volumes?q=intitle:Air%20Awakens+inauthor:Elise%20Kova&maxResults=1', 'https://www.googleapis.com/books/v1/volumes?q=intitle:Court%20of%20Blood%20and%20Bindings+inauthor:Lisette%20Marshall&maxResults=1', 'https://www.googleapis.com/books/v1/volumes?q=intitle:Fear%20the%20Flames+inauthor:Olivia%20Rose%20Darling&maxResults=1', 'https://www.googleapis.com/books/v1/volumes?q=intitle:The%20Golden%20Dynasty+inauthor:Kristen%20Ashley&maxResults=1', 'https://www.googleapis.com/books/v1/volumes?q=intitle:Cursed%20Fates+inauthor:Caroline%20Peckham&maxResults=1', 'https://www.googleapis.com/books/v1/volumes?q=intitle:A%20Soul%20to%20Keep+inauthor:Opal%20Reyne&maxResults=1', 'https://www.googleapis.com/books/v1/volumes?q=intitle:City%20of%20Gods%20and%20Monsters+inauthor:Kayla%20Edwards&maxResults=1', 'https://www.googleapis.com/books/v1/volumes?q=intitle:The%20Veiled%20Kingdom+inauthor:Holly%20Renee&maxResults=1', 'https://www.googleapis.com/books/v1/volumes?q=intitle:Children%20of%20Fallen%20Gods+inauthor:Carissa%20Broadbent&maxResults=1', \"https://www.googleapis.com/books/v1/volumes?q=intitle:Paladin's%20Grace+inauthor:T%20Kingfisher&maxResults=1\", 'https://www.googleapis.com/books/v1/volumes?q=intitle:Daughter%20of%20Smoke%20&%20Bone+inauthor:Laini%20Taylor&maxResults=1', 'https://www.googleapis.com/books/v1/volumes?q=intitle:The%20Very%20Secret%20Society%20of%20Irregular%20Witches+inauthor:Sangu%20Mandanna&maxResults=1', 'https://www.googleapis.com/books/v1/volumes?q=intitle:Dark%20Harmony+inauthor:Laura%20Thalassa&maxResults=1', 'https://www.googleapis.com/books/v1/volumes?q=intitle:Burn%20for%20Me+inauthor:Ilona%20Andrews&maxResults=1', 'https://www.googleapis.com/books/v1/volumes?q=intitle:Darkfever+inauthor:Karen%20Marie%20Moning&maxResults=1', 'https://www.googleapis.com/books/v1/volumes?q=intitle:Swordheart+inauthor:T%20Kingfisher&maxResults=1', 'https://www.googleapis.com/books/v1/volumes?q=intitle:A%20River%20Enchanted+inauthor:Rebecca%20Ross&maxResults=1', 'https://www.googleapis.com/books/v1/volumes?q=intitle:Heavenly%20Bodies+inauthor:Imani%20Erriu&maxResults=1', 'https://www.googleapis.com/books/v1/volumes?q=intitle:Fated%20Throne+inauthor:Caroline%20Peckham&maxResults=1', 'https://www.googleapis.com/books/v1/volumes?q=intitle:A%20Dance%20with%20the%20Fae%20Prince+inauthor:Elise%20Kova&maxResults=1', 'https://www.googleapis.com/books/v1/volumes?q=intitle:Defy%20the%20Night+inauthor:Brigid%20Kemmerer&maxResults=1', 'https://www.googleapis.com/books/v1/volumes?q=intitle:Lady%20of%20Light%20and%20Shadows+inauthor:CL%20Wilson&maxResults=1', 'https://www.googleapis.com/books/v1/volumes?q=intitle:Blood%20&%20Honey+inauthor:Shel&maxResults=1', 'https://www.googleapis.com/books/v1/volumes?q=intitle:River%20of%20Shadows+inauthor:Karina%20Halle&maxResults=1', 'https://www.googleapis.com/books/v1/volumes?q=intitle:Unravel%20Me+inauthor:Tahereh%20Mafi&maxResults=1', 'https://www.googleapis.com/books/v1/volumes?q=intitle:The%20Hurricane%20Wars+inauthor:Thea%20Guanzon&maxResults=1', 'https://www.googleapis.com/books/v1/volumes?q=intitle:We%20Hunt%20the%20Flame+inauthor:Hafsah%20Faizal&maxResults=1', 'https://www.googleapis.com/books/v1/volumes?q=intitle:War+inauthor:Laura%20Thalassa&maxResults=1', 'https://www.googleapis.com/books/v1/volumes?q=intitle:Flames%20of%20Chaos+inauthor:Amelia%20Hutchins&maxResults=1', 'https://www.googleapis.com/books/v1/volumes?q=intitle:To%20Bleed%20a%20Crystal%20Bloom+inauthor:Sarah%20A%20Parker&maxResults=1', 'https://www.googleapis.com/books/v1/volumes?q=intitle:These%20Violent%20Delights+inauthor:Chloe%20Gong&maxResults=1', 'https://www.googleapis.com/books/v1/volumes?q=intitle:The%20High%20Mountain%20Court+inauthor:AK%20Mulford&maxResults=1', 'https://www.googleapis.com/books/v1/volumes?q=intitle:The%20North%20Wind+inauthor:Alexandria%20Warwick&maxResults=1', 'https://www.googleapis.com/books/v1/volumes?q=intitle:City%20of%20Thorns+inauthor:CN%20Crawford&maxResults=1', 'https://www.googleapis.com/books/v1/volumes?q=intitle:Bound%20to%20the%20Battle%20God+inauthor:Ru&maxResults=1', 'https://www.googleapis.com/books/v1/volumes?q=intitle:Fighting%20Destiny+inauthor:Amelia%20Hutchins&maxResults=1', 'https://www.googleapis.com/books/v1/volumes?q=intitle:Reign%20&%20Ruin+inauthor:JD%20Evans&maxResults=1', 'https://www.googleapis.com/books/v1/volumes?q=intitle:Heartless+inauthor:Marissa%20Meyer&maxResults=1', 'https://www.googleapis.com/books/v1/volumes?q=intitle:Siege%20and%20Storm+inauthor:Leigh%20Bardugo&maxResults=1', 'https://www.googleapis.com/books/v1/volumes?q=intitle:A%20Kiss%20of%20Iron+inauthor:Clare%20Sager&maxResults=1', 'https://www.googleapis.com/books/v1/volumes?q=intitle:Promise%20of%20Darkness+inauthor:Bec%20McMaster&maxResults=1', 'https://www.googleapis.com/books/v1/volumes?q=intitle:Crave+inauthor:Tracy%20Wolff&maxResults=1', 'https://www.googleapis.com/books/v1/volumes?q=intitle:Heart%20on%20Fire+inauthor:Amanda%20Bouchet&maxResults=1', 'https://www.googleapis.com/books/v1/volumes?q=intitle:The%20Road%20of%20Bones+inauthor:Demi%20Winters&maxResults=1', 'https://www.googleapis.com/books/v1/volumes?q=intitle:Frost+inauthor:CN%20Crawford&maxResults=1', 'https://www.googleapis.com/books/v1/volumes?q=intitle:A%20Touch%20of%20Malice+inauthor:Scarlett%20St%20Clair&maxResults=1', 'https://www.googleapis.com/books/v1/volumes?q=intitle:Throne%20in%20the%20Dark+inauthor:AK%20Caggiano&maxResults=1', 'https://www.googleapis.com/books/v1/volumes?q=intitle:Cinder+inauthor:Marissa%20Meyer&maxResults=1', 'https://www.googleapis.com/books/v1/volumes?q=intitle:Dragon%20Bound+inauthor:Thea%20Harrison&maxResults=1', 'https://www.googleapis.com/books/v1/volumes?q=intitle:Dark%20Fae+inauthor:Caroline%20Peckham&maxResults=1', 'https://www.googleapis.com/books/v1/volumes?q=intitle:Ignite%20Me+inauthor:Tahereh%20Mafi&maxResults=1', 'https://www.googleapis.com/books/v1/volumes?q=intitle:Cruel%20Beauty+inauthor:Rosamund%20Hodge&maxResults=1', \"https://www.googleapis.com/books/v1/volumes?q=intitle:Angels'%20Blood+inauthor:Nalini%20Singh&maxResults=1\", 'https://www.googleapis.com/books/v1/volumes?q=intitle:A%20Fire%20in%20the%20Flesh+inauthor:Jennifer%20L%20Armentrout&maxResults=1', 'https://www.googleapis.com/books/v1/volumes?q=intitle:Daughter%20of%20the%20Forest+inauthor:Juliet%20Marillier&maxResults=1', \"https://www.googleapis.com/books/v1/volumes?q=intitle:How%20Does%20It%20Feel?+inauthor:Jeneane%20O'Riley&maxResults=1\", 'https://www.googleapis.com/books/v1/volumes?q=intitle:Daughter%20of%20the%20Moon%20Goddess+inauthor:Sue%20Lynn%20Tan&maxResults=1', \"https://www.googleapis.com/books/v1/volumes?q=intitle:The%20Winner's%20Curse+inauthor:Marie%20Rutkoski&maxResults=1\", 'https://www.googleapis.com/books/v1/volumes?q=intitle:Savage%20Bonds+inauthor:J%20Bree&maxResults=1', 'https://www.googleapis.com/books/v1/volumes?q=intitle:Blood%20Mercy+inauthor:Vela%20Roth&maxResults=1', 'https://www.googleapis.com/books/v1/volumes?q=intitle:Obsidian+inauthor:Jennifer%20L%20Armentrout&maxResults=1', 'https://www.googleapis.com/books/v1/volumes?q=intitle:The%20Selection+inauthor:Kiera%20Cass&maxResults=1', 'https://www.googleapis.com/books/v1/volumes?q=intitle:Bewitched+inauthor:Laura%20Thalassa&maxResults=1', 'https://www.googleapis.com/books/v1/volumes?q=intitle:Ice%20Planet%20Barbarians+inauthor:Ru&maxResults=1', 'https://www.googleapis.com/books/v1/volumes?q=intitle:Rain%20of%20Shadows%20and%20Endings+inauthor:Melissa%20K%20Roehrich&maxResults=1', 'https://www.googleapis.com/books/v1/volumes?q=intitle:Heartless%20Sky+inauthor:Caroline%20Peckham&maxResults=1', 'https://www.googleapis.com/books/v1/volumes?q=intitle:These%20Twisted%20Bonds+inauthor:Lexi%20Ryan&maxResults=1', 'https://www.googleapis.com/books/v1/volumes?q=intitle:A%20Game%20of%20Fate+inauthor:Scarlett%20St%20Clair&maxResults=1', 'https://www.googleapis.com/books/v1/volumes?q=intitle:Ruin%20and%20Rising+inauthor:Leigh%20Bardugo&maxResults=1', 'https://www.googleapis.com/books/v1/volumes?q=intitle:Famine+inauthor:Laura%20Thalassa&maxResults=1', 'https://www.googleapis.com/books/v1/volumes?q=intitle:The%20Ex%20Hex+inauthor:Erin%20Sterling&maxResults=1', \"https://www.googleapis.com/books/v1/volumes?q=intitle:The%20Dragon's%20Bride+inauthor:Katee%20Robert&maxResults=1\", 'https://www.googleapis.com/books/v1/volumes?q=intitle:The%20Inadequate%20Heir+inauthor:Danielle%20L%20Jensen&maxResults=1', 'https://www.googleapis.com/books/v1/volumes?q=intitle:Blood%20Bonds+inauthor:J%20Bree&maxResults=1', 'https://www.googleapis.com/books/v1/volumes?q=intitle:The%20Crown%20of%20Oaths%20and%20Curses+inauthor:J%20Bree&maxResults=1', 'https://www.googleapis.com/books/v1/volumes?q=intitle:King%20of%20Sword%20and%20Sky+inauthor:CL%20Wilson&maxResults=1', 'https://www.googleapis.com/books/v1/volumes?q=intitle:Electric%20Idol+inauthor:Katee%20Robert&maxResults=1', 'https://www.googleapis.com/books/v1/volumes?q=intitle:Her%20Soul%20to%20Take+inauthor:Harley%20Laroux&maxResults=1', 'https://www.googleapis.com/books/v1/volumes?q=intitle:Dragon%20Actually+inauthor:GA%20Aiken&maxResults=1', 'https://www.googleapis.com/books/v1/volumes?q=intitle:City%20of%20Ashes+inauthor:Cassandra%20Clare&maxResults=1', 'https://www.googleapis.com/books/v1/volumes?q=intitle:House%20of%20Bane%20and%20Blood+inauthor:Alexis%20L%20Menard&maxResults=1', 'https://www.googleapis.com/books/v1/volumes?q=intitle:Mother%20of%20Death%20&%20Dawn+inauthor:Carissa%20Broadbent&maxResults=1', 'https://www.googleapis.com/books/v1/volumes?q=intitle:Forced%20Bonds+inauthor:J%20Bree&maxResults=1', 'https://www.googleapis.com/books/v1/volumes?q=intitle:The%20Foxglove%20King+inauthor:Hannah%20F%20Whitten&maxResults=1', 'https://www.googleapis.com/books/v1/volumes?q=intitle:Vow%20of%20Thieves+inauthor:Mary%20E%20Pearson&maxResults=1', 'https://www.googleapis.com/books/v1/volumes?q=intitle:Clockwork%20Prince+inauthor:Cassandra%20Clare&maxResults=1', 'https://www.googleapis.com/books/v1/volumes?q=intitle:Hooked+inauthor:Emily%20McIntire&maxResults=1', 'https://www.googleapis.com/books/v1/volumes?q=intitle:City%20of%20Glass+inauthor:Cassandra%20Clare&maxResults=1', 'https://www.googleapis.com/books/v1/volumes?q=intitle:Bow%20Before%20the%20Elf%20Queen+inauthor:JM%20Kearl&maxResults=1', 'https://www.googleapis.com/books/v1/volumes?q=intitle:Little%20Fire+inauthor:Hollee%20Mands&maxResults=1', 'https://www.googleapis.com/books/v1/volumes?q=intitle:The%20Stolen%20Heir+inauthor:Holly%20Black&maxResults=1', 'https://www.googleapis.com/books/v1/volumes?q=intitle:The%20Spellshop+inauthor:Sarah%20Beth%20Durst&maxResults=1', 'https://www.googleapis.com/books/v1/volumes?q=intitle:Tragic%20Bonds+inauthor:J%20Bree&maxResults=1', 'https://www.googleapis.com/books/v1/volumes?q=intitle:Crooked%20Kingdom+inauthor:Leigh%20Bardugo&maxResults=1', 'https://www.googleapis.com/books/v1/volumes?q=intitle:The%20Unseelie%20Prince+inauthor:Kathryn%20Ann%20Kingsley&maxResults=1', 'https://www.googleapis.com/books/v1/volumes?q=intitle:Clockwork%20Princess+inauthor:Cassandra%20Clare&maxResults=1', 'https://www.googleapis.com/books/v1/volumes?q=intitle:The%20Savage%20and%20the%20Swan+inauthor:Ella%20Fields&maxResults=1', 'https://www.googleapis.com/books/v1/volumes?q=intitle:For%20the%20Wolf+inauthor:Hannah%20F%20Whitten&maxResults=1', 'https://www.googleapis.com/books/v1/volumes?q=intitle:Crown%20of%20Crystal%20Flame+inauthor:CL%20Wilson&maxResults=1', 'https://www.googleapis.com/books/v1/volumes?q=intitle:Queen%20of%20Song%20and%20Souls+inauthor:CL%20Wilson&maxResults=1', 'https://www.googleapis.com/books/v1/volumes?q=intitle:Captive%20Prince+inauthor:CS%20Pacat&maxResults=1', 'https://www.googleapis.com/books/v1/volumes?q=intitle:Death+inauthor:Laura%20Thalassa&maxResults=1', 'https://www.googleapis.com/books/v1/volumes?q=intitle:Glow%20of%20the%20Everflame+inauthor:Penn%20Cole&maxResults=1', 'https://www.googleapis.com/books/v1/volumes?q=intitle:Bride%20of%20the%20Shadow%20King+inauthor:Sylvia%20Mercedes&maxResults=1', 'https://www.googleapis.com/books/v1/volumes?q=intitle:The%20Iron%20King+inauthor:Julie%20Kagawa&maxResults=1', 'https://www.googleapis.com/books/v1/volumes?q=intitle:Hush,%20Hush+inauthor:Becca%20Fitzpatrick&maxResults=1', 'https://www.googleapis.com/books/v1/volumes?q=intitle:Fable+inauthor:Adrienne%20Young&maxResults=1', 'https://www.googleapis.com/books/v1/volumes?q=intitle:Metal%20Slinger+inauthor:Rachel%20Schneider&maxResults=1', 'https://www.googleapis.com/books/v1/volumes?q=intitle:How%20the%20King%20of%20Elfhame%20Learned%20to%20Hate%20Stories+inauthor:Holly%20Black&maxResults=1', 'https://www.googleapis.com/books/v1/volumes?q=intitle:Feather+inauthor:Olivia%20Wildenstein&maxResults=1', 'https://www.googleapis.com/books/v1/volumes?q=intitle:The%20Jasad%20Heir+inauthor:Sara%20Hashem&maxResults=1', 'https://www.googleapis.com/books/v1/volumes?q=intitle:The%20Dark%20One+inauthor:Nikki%20St%20Crowe&maxResults=1', 'https://www.googleapis.com/books/v1/volumes?q=intitle:Queen%20of%20Myth%20and%20Monsters+inauthor:Scarlett%20St%20Clair&maxResults=1', \"https://www.googleapis.com/books/v1/volumes?q=intitle:Pathfinder's%20Way+inauthor:TA%20White&maxResults=1\", \"https://www.googleapis.com/books/v1/volumes?q=intitle:Kushiel's%20Dart+inauthor:Jacqueline%20Carey&maxResults=1\", 'https://www.googleapis.com/books/v1/volumes?q=intitle:The%20Songbird%20&%20the%20Heart%20of%20Stone+inauthor:Carissa%20Broadbent&maxResults=1', 'https://www.googleapis.com/books/v1/volumes?q=intitle:A%20Study%20in%20Drowning+inauthor:Ava%20Reid&maxResults=1', 'https://www.googleapis.com/books/v1/volumes?q=intitle:What%20Hunts%20Inside%20the%20Shadows+inauthor:Harper%20L%20Woods&maxResults=1', 'https://www.googleapis.com/books/v1/volumes?q=intitle:Slave%20to%20Sensation+inauthor:Nalini%20Singh&maxResults=1', 'https://www.googleapis.com/books/v1/volumes?q=intitle:Halfway%20to%20the%20Grave+inauthor:Jeaniene%20Frost&maxResults=1', 'https://www.googleapis.com/books/v1/volumes?q=intitle:Heart%20of%20the%20Fae+inauthor:Emma%20Hamm&maxResults=1', 'https://www.googleapis.com/books/v1/volumes?q=intitle:Fantastical+inauthor:Kristen%20Ashley&maxResults=1', 'https://www.googleapis.com/books/v1/volumes?q=intitle:Outlander+inauthor:Diana%20Gabaldon&maxResults=1', 'https://www.googleapis.com/books/v1/volumes?q=intitle:Gold+inauthor:Raven%20Kennedy&maxResults=1', 'https://www.googleapis.com/books/v1/volumes?q=intitle:Between%20Wrath%20and%20Mercy+inauthor:Jess%20Wisecup&maxResults=1', 'https://www.googleapis.com/books/v1/volumes?q=intitle:Storm%20and%20Fury+inauthor:Jennifer%20L%20Armentrout&maxResults=1', 'https://www.googleapis.com/books/v1/volumes?q=intitle:Magic%20Bites+inauthor:Ilona%20Andrews&maxResults=1', 'https://www.googleapis.com/books/v1/volumes?q=intitle:Sorrow%20and%20Starlight+inauthor:Caroline%20Peckham&maxResults=1', 'https://www.googleapis.com/books/v1/volumes?q=intitle:Legendborn+inauthor:Tracy%20Deonn&maxResults=1', 'https://www.googleapis.com/books/v1/volumes?q=intitle:Wicked+inauthor:Jennifer%20L%20Armentrout&maxResults=1', 'https://www.googleapis.com/books/v1/volumes?q=intitle:City%20of%20Fallen%20Angels+inauthor:Cassandra%20Clare&maxResults=1', 'https://www.googleapis.com/books/v1/volumes?q=intitle:Powerful+inauthor:Lauren%20Roberts&maxResults=1', 'https://www.googleapis.com/books/v1/volumes?q=intitle:Song%20of%20the%20Forever%20Rains+inauthor:EJ%20Mellow&maxResults=1', 'https://www.googleapis.com/books/v1/volumes?q=intitle:The%20Emperor%20of%20Evening%20Stars+inauthor:Laura%20Thalassa&maxResults=1', 'https://www.googleapis.com/books/v1/volumes?q=intitle:Gods%20&%20Monsters+inauthor:Shel&maxResults=1', 'https://www.googleapis.com/books/v1/volumes?q=intitle:Restore%20Me+inauthor:Tahereh%20Mafi&maxResults=1', 'https://www.googleapis.com/books/v1/volumes?q=intitle:Daughter%20of%20the%20Siren%20Queen+inauthor:Tricia%20Levenseller&maxResults=1', 'https://www.googleapis.com/books/v1/volumes?q=intitle:Vampire%20Academy+inauthor:Richelle%20Mead&maxResults=1', 'https://www.googleapis.com/books/v1/volumes?q=intitle:That%20Time%20I%20Got%20Drunk%20and%20Yeeted%20a%20Love%20Potion%20at%20a%20Werewolf+inauthor:Kimberly%20Lemming&maxResults=1', 'https://www.googleapis.com/books/v1/volumes?q=intitle:Court%20of%20the%20Vampire%20Queen+inauthor:Katee%20Robert&maxResults=1', 'https://www.googleapis.com/books/v1/volumes?q=intitle:Strange%20the%20Dreamer+inauthor:Laini%20Taylor&maxResults=1', 'https://www.googleapis.com/books/v1/volumes?q=intitle:Anastasia+inauthor:Sophie%20Lark&maxResults=1', 'https://www.googleapis.com/books/v1/volumes?q=intitle:White%20Hot+inauthor:Ilona%20Andrews&maxResults=1', 'https://www.googleapis.com/books/v1/volumes?q=intitle:The%20Stars%20Are%20Dying+inauthor:CC%20Penaranda&maxResults=1', 'https://www.googleapis.com/books/v1/volumes?q=intitle:The%20Song%20of%20Achilles+inauthor:Madeline%20Miller&maxResults=1', 'https://www.googleapis.com/books/v1/volumes?q=intitle:The%20Heart%20of%20Betrayal+inauthor:Mary%20E%20Pearson&maxResults=1', 'https://www.googleapis.com/books/v1/volumes?q=intitle:Anathema+inauthor:Keri%20Lake&maxResults=1', 'https://www.googleapis.com/books/v1/volumes?q=intitle:Unbroken%20Bonds+inauthor:J%20Bree&maxResults=1', 'https://www.googleapis.com/books/v1/volumes?q=intitle:A%20Duel%20with%20the%20Vampire%20Lord+inauthor:Elise%20Kova&maxResults=1', 'https://www.googleapis.com/books/v1/volumes?q=intitle:The%20Priory%20of%20the%20Orange%20Tree+inauthor:Samantha%20Shannon&maxResults=1', 'https://www.googleapis.com/books/v1/volumes?q=intitle:Legends%20&%20Lattes+inauthor:Travis%20Baldree&maxResults=1', 'https://www.googleapis.com/books/v1/volumes?q=intitle:A%20Ship%20of%20Bones%20&%20Teeth+inauthor:Karina%20Halle&maxResults=1', 'https://www.googleapis.com/books/v1/volumes?q=intitle:Untainted+inauthor:Lilian%20T%20James&maxResults=1', 'https://www.googleapis.com/books/v1/volumes?q=intitle:The%20Sea%20King+inauthor:CL%20Wilson&maxResults=1', 'https://www.googleapis.com/books/v1/volumes?q=intitle:Angelfall+inauthor:Susan%20Ee&maxResults=1', 'https://www.googleapis.com/books/v1/volumes?q=intitle:Viciously%20Yours+inauthor:Jamie%20Applegate%20Hunter&maxResults=1', 'https://www.googleapis.com/books/v1/volumes?q=intitle:The%20Umbra%20King+inauthor:Jamie%20Applegate%20Hunter&maxResults=1', 'https://www.googleapis.com/books/v1/volumes?q=intitle:The%20Unmarked%20Witch+inauthor:Miranda%20Lyn&maxResults=1', 'https://www.googleapis.com/books/v1/volumes?q=intitle:Daughter%20of%20the%20Drowned%20Empire+inauthor:Frankie%20Diane%20Mallis&maxResults=1', 'https://www.googleapis.com/books/v1/volumes?q=intitle:Fallen+inauthor:Lauren%20Kate&maxResults=1', 'https://www.googleapis.com/books/v1/volumes?q=intitle:Trickery+inauthor:Jaymin%20Eve&maxResults=1', 'https://www.googleapis.com/books/v1/volumes?q=intitle:City%20of%20Lost%20Souls+inauthor:Cassandra%20Clare&maxResults=1', 'https://www.googleapis.com/books/v1/volumes?q=intitle:Manacled+inauthor:SenLinYu&maxResults=1', 'https://www.googleapis.com/books/v1/volumes?q=intitle:Emily%20Wildes%20Map%20of%20the%20Otherlands+inauthor:Heather%20Fawcett&maxResults=1', 'https://www.googleapis.com/books/v1/volumes?q=intitle:Court%20of%20Ravens%20and%20Ruin+inauthor:Eliza%20Raine&maxResults=1', 'https://www.googleapis.com/books/v1/volumes?q=intitle:Kingdom%20of%20Villains+inauthor:Ella%20Fields&maxResults=1', 'https://www.googleapis.com/books/v1/volumes?q=intitle:Glass%20Sword+inauthor:Victoria%20Aveyard&maxResults=1', 'https://www.googleapis.com/books/v1/volumes?q=intitle:A%20Fragile%20Enchantment+inauthor:Allison%20Saft&maxResults=1', 'https://www.googleapis.com/books/v1/volumes?q=intitle:The%20Throne%20of%20Broken%20Gods+inauthor:Amber%20V%20Nicole&maxResults=1', 'https://www.googleapis.com/books/v1/volumes?q=intitle:A%20Broken%20Blade+inauthor:Melissa%20Blair&maxResults=1', 'https://www.googleapis.com/books/v1/volumes?q=intitle:Magic%20Study+inauthor:Maria%20V%20Snyder&maxResults=1', 'https://www.googleapis.com/books/v1/volumes?q=intitle:Foxglove+inauthor:Adalyn%20Grace&maxResults=1', 'https://www.googleapis.com/books/v1/volumes?q=intitle:Stolen%20Songbird+inauthor:Danielle%20L%20Jensen&maxResults=1', 'https://www.googleapis.com/books/v1/volumes?q=intitle:Spinning%20Silver+inauthor:Naomi%20Novik&maxResults=1', 'https://www.googleapis.com/books/v1/volumes?q=intitle:City%20of%20Heavenly%20Fire+inauthor:Cassandra%20Clare&maxResults=1', 'https://www.googleapis.com/books/v1/volumes?q=intitle:Defy%20Me+inauthor:Tahereh%20Mafi&maxResults=1', 'https://www.googleapis.com/books/v1/volumes?q=intitle:Curse%20of%20the%20Wolf%20King+inauthor:Tessonja%20Odette&maxResults=1', 'https://www.googleapis.com/books/v1/volumes?q=intitle:Slaying%20the%20Shadow%20Prince+inauthor:Helen%20Scheuerer&maxResults=1', 'https://www.googleapis.com/books/v1/volumes?q=intitle:A%20Far%20Wilder%20Magic+inauthor:Allison%20Saft&maxResults=1', 'https://www.googleapis.com/books/v1/volumes?q=intitle:White%20Hot%20Kiss+inauthor:Jennifer%20L%20Armentrout&maxResults=1', 'https://www.googleapis.com/books/v1/volumes?q=intitle:White%20Horse%20Black%20Nights+inauthor:Evie%20Marceau&maxResults=1', 'https://www.googleapis.com/books/v1/volumes?q=intitle:Wolf%20Gone%20Wild+inauthor:Juliette%20Cross&maxResults=1', 'https://www.googleapis.com/books/v1/volumes?q=intitle:Signs%20of%20Cupidity+inauthor:Raven%20Kennedy&maxResults=1', 'https://www.googleapis.com/books/v1/volumes?q=intitle:A%20Kingdom%20This%20Cursed%20and%20Empty+inauthor:Stacia%20Stark&maxResults=1', 'https://www.googleapis.com/books/v1/volumes?q=intitle:Six%20Crimson%20Cranes+inauthor:Elizabeth%20Lim&maxResults=1', 'https://www.googleapis.com/books/v1/volumes?q=intitle:Psycho%20Shifters+inauthor:Jasmine%20Mas&maxResults=1', 'https://www.googleapis.com/books/v1/volumes?q=intitle:Promised%20in%20Fire+inauthor:Jasmine%20Walt&maxResults=1', 'https://www.googleapis.com/books/v1/volumes?q=intitle:An%20Heir%20Comes%20to%20Rise+inauthor:CC%20Penaranda&maxResults=1', 'https://www.googleapis.com/books/v1/volumes?q=intitle:The%20Rose%20&%20the%20Dagger+inauthor:Renee%20Ahdieh&maxResults=1', 'https://www.googleapis.com/books/v1/volumes?q=intitle:The%20Longing%20of%20Lone%20Wolves+inauthor:Lana%20Pecherczyk&maxResults=1', 'https://www.googleapis.com/books/v1/volumes?q=intitle:Lover%20Eternal+inauthor:JR%20Ward&maxResults=1', 'https://www.googleapis.com/books/v1/volumes?q=intitle:Furyborn+inauthor:Claire%20Legrand&maxResults=1', 'https://www.googleapis.com/books/v1/volumes?q=intitle:The%20Games%20Gods%20Play+inauthor:Abigail%20Owen&maxResults=1', 'https://www.googleapis.com/books/v1/volumes?q=intitle:Nightbane+inauthor:Alex%20Aster&maxResults=1', 'https://www.googleapis.com/books/v1/volumes?q=intitle:Their%20Vicious%20Darling+inauthor:Nikki%20St%20Crowe&maxResults=1', 'https://www.googleapis.com/books/v1/volumes?q=intitle:The%20Girl%20Who%20Fell%20Beneath%20the%20Sea+inauthor:Axie%20Oh&maxResults=1', 'https://www.googleapis.com/books/v1/volumes?q=intitle:Midnight%20Sun+inauthor:Stephenie%20Meyer&maxResults=1', 'https://www.googleapis.com/books/v1/volumes?q=intitle:Shadow%20of%20Night+inauthor:Deborah%20Harkness&maxResults=1', 'https://www.googleapis.com/books/v1/volumes?q=intitle:Apprentice%20to%20the%20Villain+inauthor:Hannah%20Nicole%20Maehrer&maxResults=1', 'https://www.googleapis.com/books/v1/volumes?q=intitle:Heat%20of%20the%20Everflame+inauthor:Penn%20Cole&maxResults=1', 'https://www.googleapis.com/books/v1/volumes?q=intitle:Dragon%20Unleashed+inauthor:Grace%20Draven&maxResults=1', 'https://www.googleapis.com/books/v1/volumes?q=intitle:Lady%20Midnight+inauthor:Cassandra%20Clare&maxResults=1', 'https://www.googleapis.com/books/v1/volumes?q=intitle:Lover%20Awakened+inauthor:JR%20Ward&maxResults=1', 'https://www.googleapis.com/books/v1/volumes?q=intitle:Court%20of%20Winter+inauthor:Krista%20Street&maxResults=1', 'https://www.googleapis.com/books/v1/volumes?q=intitle:Queen%20of%20Roses+inauthor:Briar%20Boleyn&maxResults=1', 'https://www.googleapis.com/books/v1/volumes?q=intitle:Rule%20of%20the%20Aurora%20King+inauthor:Nisha%20J%20Tuli&maxResults=1', 'https://www.googleapis.com/books/v1/volumes?q=intitle:A%20Taste%20of%20Gold%20and%20Iron+inauthor:Alexandra%20Rowland&maxResults=1', 'https://www.googleapis.com/books/v1/volumes?q=intitle:Morning%20Glory%20Milking%20Farm+inauthor:CM%20Nascosta&maxResults=1', 'https://www.googleapis.com/books/v1/volumes?q=intitle:Destroy%20Me+inauthor:Tahereh%20Mafi&maxResults=1', 'https://www.googleapis.com/books/v1/volumes?q=intitle:Warsworn+inauthor:Elizabeth%20Vaughan&maxResults=1', 'https://www.googleapis.com/books/v1/volumes?q=intitle:Where%20the%20Dark%20Stands%20Still+inauthor:AB%20Poranek&maxResults=1', 'https://www.googleapis.com/books/v1/volumes?q=intitle:Nectar%20of%20the%20Wicked+inauthor:Ella%20Fields&maxResults=1', 'https://www.googleapis.com/books/v1/volumes?q=intitle:Scarred+inauthor:Emily%20McIntire&maxResults=1', 'https://www.googleapis.com/books/v1/volumes?q=intitle:The%20Beauty%20of%20Darkness+inauthor:Mary%20E%20Pearson&maxResults=1', 'https://www.googleapis.com/books/v1/volumes?q=intitle:Fire+inauthor:Kristin%20Cashore&maxResults=1', 'https://www.googleapis.com/books/v1/volumes?q=intitle:A%20Court%20of%20Honey%20and%20Ash+inauthor:Shannon%20Mayer&maxResults=1', 'https://www.googleapis.com/books/v1/volumes?q=intitle:The%20Ippos%20King+inauthor:Grace%20Draven&maxResults=1', 'https://www.googleapis.com/books/v1/volumes?q=intitle:Ash%20Princess+inauthor:Laura%20Sebastian&maxResults=1', 'https://www.googleapis.com/books/v1/volumes?q=intitle:The%20House%20in%20the%20Cerulean%20Sea+inauthor:TJ%20Klune&maxResults=1', 'https://www.googleapis.com/books/v1/volumes?q=intitle:A%20Marvellous%20Light+inauthor:Freya%20Marske&maxResults=1', 'https://www.googleapis.com/books/v1/volumes?q=intitle:The%20Endless%20War+inauthor:Danielle%20L%20Jensen&maxResults=1', 'https://www.googleapis.com/books/v1/volumes?q=intitle:Ledge+inauthor:Stacey%20McEwan&maxResults=1', 'https://www.googleapis.com/books/v1/volumes?q=intitle:Chain%20of%20Gold+inauthor:Cassandra%20Clare&maxResults=1', 'https://www.googleapis.com/books/v1/volumes?q=intitle:The%20City%20of%20Brass+inauthor:SA%20Chakraborty&maxResults=1', 'https://www.googleapis.com/books/v1/volumes?q=intitle:Scarlet+inauthor:Marissa%20Meyer&maxResults=1', \"https://www.googleapis.com/books/v1/volumes?q=intitle:Heart's%20Blood+inauthor:Juliet%20Marillier&maxResults=1\", 'https://www.googleapis.com/books/v1/volumes?q=intitle:Born%20of%20Blood%20and%20Ash+inauthor:Jennifer%20L%20Armentrout&maxResults=1', 'https://www.googleapis.com/books/v1/volumes?q=intitle:Half-Blood+inauthor:Jennifer%20L%20Armentrout&maxResults=1', 'https://www.googleapis.com/books/v1/volumes?q=intitle:Warlord+inauthor:Elizabeth%20Vaughan&maxResults=1', 'https://www.googleapis.com/books/v1/volumes?q=intitle:Hollow%20Heathens:%20Book%20of%20Blackwell+inauthor:Nicole%20Fiorina&maxResults=1', 'https://www.googleapis.com/books/v1/volumes?q=intitle:Imagine%20Me+inauthor:Tahereh%20Mafi&maxResults=1', 'https://www.googleapis.com/books/v1/volumes?q=intitle:Star%20of%20the%20Morning+inauthor:Lynn%20Kurland&maxResults=1', 'https://www.googleapis.com/books/v1/volumes?q=intitle:Fairydale+inauthor:Veronica%20Lancet&maxResults=1', 'https://www.googleapis.com/books/v1/volumes?q=intitle:Twin%20Crowns+inauthor:Catherine%20Doyle&maxResults=1', 'https://www.googleapis.com/books/v1/volumes?q=intitle:A%20Touch%20of%20Chaos+inauthor:Scarlett%20St%20Clair&maxResults=1', 'https://www.googleapis.com/books/v1/volumes?q=intitle:Wild%20Lands+inauthor:Stacey%20Marie%20Brown&maxResults=1', 'https://www.googleapis.com/books/v1/volumes?q=intitle:The%20Princess%20Bride+inauthor:William%20Goldman&maxResults=1', 'https://www.googleapis.com/books/v1/volumes?q=intitle:A%20Kingdom%20of%20Blood%20and%20Betrayal+inauthor:Holly%20Renee&maxResults=1', 'https://www.googleapis.com/books/v1/volumes?q=intitle:A%20Cursed%20Kiss+inauthor:Jenny%20Hickman&maxResults=1', 'https://www.googleapis.com/books/v1/volumes?q=intitle:Blood%20of%20Hercules+inauthor:Jasmine%20Mas&maxResults=1', 'https://www.googleapis.com/books/v1/volumes?q=intitle:These%20Infinite%20Threads+inauthor:Tahereh%20Mafi&maxResults=1', 'https://www.googleapis.com/books/v1/volumes?q=intitle:A%20Curse%20of%20Blood%20&%20Stone+inauthor:KA%20Tucker&maxResults=1', 'https://www.googleapis.com/books/v1/volumes?q=intitle:Howls%20Moving%20Castle+inauthor:Diana%20Wynne%20Jones&maxResults=1', 'https://www.googleapis.com/books/v1/volumes?q=intitle:A%20Lady%20of%20Rooksgrave%20Manor+inauthor:Kathryn%20Moon&maxResults=1', 'https://www.googleapis.com/books/v1/volumes?q=intitle:The%20Elite+inauthor:Kiera%20Cass&maxResults=1', 'https://www.googleapis.com/books/v1/volumes?q=intitle:City%20of%20Ruin+inauthor:Charissa%20Weaks&maxResults=1', 'https://www.googleapis.com/books/v1/volumes?q=intitle:A%20Throne%20of%20Ruin+inauthor:KF%20Breene&maxResults=1', 'https://www.googleapis.com/books/v1/volumes?q=intitle:Wildfire+inauthor:Ilona%20Andrews&maxResults=1', 'https://www.googleapis.com/books/v1/volumes?q=intitle:The%20Raven%20Boys+inauthor:Maggie%20Stiefvater&maxResults=1', 'https://www.googleapis.com/books/v1/volumes?q=intitle:Savage%20Fae+inauthor:Caroline%20Peckham&maxResults=1', \"https://www.googleapis.com/books/v1/volumes?q=intitle:King's%20Cage+inauthor:Victoria%20Aveyard&maxResults=1\", 'https://www.googleapis.com/books/v1/volumes?q=intitle:Fire%20Falling+inauthor:Elise%20Kova&maxResults=1', 'https://www.googleapis.com/books/v1/volumes?q=intitle:Broken%20Dove+inauthor:Kristen%20Ashley&maxResults=1', 'https://www.googleapis.com/books/v1/volumes?q=intitle:King%20of%20Scars+inauthor:Leigh%20Bardugo&maxResults=1', 'https://www.googleapis.com/books/v1/volumes?q=intitle:This%20Vicious%20Grace+inauthor:Emily%20Thiede&maxResults=1', 'https://www.googleapis.com/books/v1/volumes?q=intitle:The%20Midwinter%20Mail-Order%20Bride+inauthor:Kati%20Wilde&maxResults=1', 'https://www.googleapis.com/books/v1/volumes?q=intitle:The%20Brush%20of%20Black%20Wings+inauthor:Grace%20Draven&maxResults=1', 'https://www.googleapis.com/books/v1/volumes?q=intitle:Faebound+inauthor:Saara%20El-Arifi&maxResults=1', 'https://www.googleapis.com/books/v1/volumes?q=intitle:A%20Torch%20Against%20the%20Night+inauthor:Sabaa%20Tahir&maxResults=1', 'https://www.googleapis.com/books/v1/volumes?q=intitle:Touch%20of%20Power+inauthor:Maria%20V%20Snyder&maxResults=1', 'https://www.googleapis.com/books/v1/volumes?q=intitle:The%20Last%20Dragon%20King+inauthor:Leia%20Stone&maxResults=1', 'https://www.googleapis.com/books/v1/volumes?q=intitle:Cress+inauthor:Marissa%20Meyer&maxResults=1', 'https://www.googleapis.com/books/v1/volumes?q=intitle:The%20Ever%20Queen+inauthor:LJ%20Andrews&maxResults=1', 'https://www.googleapis.com/books/v1/volumes?q=intitle:Lore%20of%20the%20Wilds+inauthor:Analeigh%20Sbrana&maxResults=1', 'https://www.googleapis.com/books/v1/volumes?q=intitle:Blood%20Orange+inauthor:Karina%20Halle&maxResults=1', 'https://www.googleapis.com/books/v1/volumes?q=intitle:A%20King%20so%20Cold+inauthor:Ella%20Fields&maxResults=1', 'https://www.googleapis.com/books/v1/volumes?q=intitle:A%20Heart%20So%20Fierce%20and%20Broken+inauthor:Brigid%20Kemmerer&maxResults=1', 'https://www.googleapis.com/books/v1/volumes?q=intitle:House%20of%20Salt%20and%20Sorrows+inauthor:Erin%20A%20Craig&maxResults=1', \"https://www.googleapis.com/books/v1/volumes?q=intitle:A%20Warrior's%20Fate+inauthor:Melissa%20Kieran&maxResults=1\", 'https://www.googleapis.com/books/v1/volumes?q=intitle:Daughter%20of%20the%20Blood+inauthor:Anne%20Bishop&maxResults=1', 'https://www.googleapis.com/books/v1/volumes?q=intitle:A%20Promise%20of%20Peridot+inauthor:Kate%20Golden&maxResults=1', \"https://www.googleapis.com/books/v1/volumes?q=intitle:The%20Half-Orc's%20Maiden%20Bride+inauthor:Ru&maxResults=1\", 'https://www.googleapis.com/books/v1/volumes?q=intitle:One%20for%20My%20Enemy+inauthor:Olivie%20Blake&maxResults=1', 'https://www.googleapis.com/books/v1/volumes?q=intitle:On%20the%20Edge+inauthor:Ilona%20Andrews&maxResults=1', 'https://www.googleapis.com/books/v1/volumes?q=intitle:Woven%20by%20Gold+inauthor:Elizabeth%20Helen&maxResults=1', 'https://www.googleapis.com/books/v1/volumes?q=intitle:Of%20Mist%20and%20Shadow+inauthor:Jenna%20Wolfhart&maxResults=1', \"https://www.googleapis.com/books/v1/volumes?q=intitle:A%20Witch's%20Guide%20to%20Fake%20Dating%20a%20Demon+inauthor:Sarah%20Hawley&maxResults=1\", 'https://www.googleapis.com/books/v1/volumes?q=intitle:Peaches%20&%20Honey:%20These%20Immortal%20Truths+inauthor:R%20Raeta&maxResults=1', 'https://www.googleapis.com/books/v1/volumes?q=intitle:Dead%20Lands+inauthor:Stacey%20Marie%20Brown&maxResults=1', 'https://www.googleapis.com/books/v1/volumes?q=intitle:Sky%20in%20the%20Deep+inauthor:Adrienne%20Young&maxResults=1', \"https://www.googleapis.com/books/v1/volumes?q=intitle:Bone%20Crier's%20Moon+inauthor:Kathryn%20Purdie&maxResults=1\", 'https://www.googleapis.com/books/v1/volumes?q=intitle:Captive%20Prince:%20Volume%20Two+inauthor:CS%20Pacat&maxResults=1', 'https://www.googleapis.com/books/v1/volumes?q=intitle:Barbarian%20Alien+inauthor:Ru&maxResults=1', 'https://www.googleapis.com/books/v1/volumes?q=intitle:Onyx+inauthor:Jennifer%20L%20Armentrout&maxResults=1', 'https://www.googleapis.com/books/v1/volumes?q=intitle:King%20of%20Flesh%20and%20Bone+inauthor:Liv%20Zander&maxResults=1', 'https://www.googleapis.com/books/v1/volumes?q=intitle:Wintersong+inauthor:S%20Jae-Jones&maxResults=1', 'https://www.googleapis.com/books/v1/volumes?q=intitle:Burn+inauthor:Suzanne%20Wright&maxResults=1', 'https://www.googleapis.com/books/v1/volumes?q=intitle:Shadowfever+inauthor:Karen%20Marie%20Moning&maxResults=1', 'https://www.googleapis.com/books/v1/volumes?q=intitle:Forged%20by%20Magic+inauthor:Jenna%20Wolfhart&maxResults=1', 'https://www.googleapis.com/books/v1/volumes?q=intitle:The%20Lady%20and%20the%20Orc+inauthor:Finley%20Fenn&maxResults=1', 'https://www.googleapis.com/books/v1/volumes?q=intitle:Wolfsong+inauthor:TJ%20Klune&maxResults=1', 'https://www.googleapis.com/books/v1/volumes?q=intitle:What%20the%20River%20Knows+inauthor:Isabel%20Ibanez&maxResults=1', 'https://www.googleapis.com/books/v1/volumes?q=intitle:Vows%20&%20Ruins+inauthor:Helen%20Scheuerer&maxResults=1', 'https://www.googleapis.com/books/v1/volumes?q=intitle:Heir%20of%20Broken%20Fate+inauthor:Mads%20Rafferty&maxResults=1', 'https://www.googleapis.com/books/v1/volumes?q=intitle:House%20of%20Pounding%20Hearts+inauthor:Olivia%20Wildenstein&maxResults=1', 'https://www.googleapis.com/books/v1/volumes?q=intitle:Scarlet%20Princess+inauthor:Robin%20D%20Mahle&maxResults=1', 'https://www.googleapis.com/books/v1/volumes?q=intitle:Wicked%20Beauty+inauthor:Katee%20Robert&maxResults=1', 'https://www.googleapis.com/books/v1/volumes?q=intitle:Vicious%20Fae+inauthor:Caroline%20Peckham&maxResults=1', 'https://www.googleapis.com/books/v1/volumes?q=intitle:The%20Awakening+inauthor:Nora%20Roberts&maxResults=1', 'https://www.googleapis.com/books/v1/volumes?q=intitle:To%20Carve%20a%20Fae%20Heart+inauthor:Tessonja%20Odette&maxResults=1', 'https://www.googleapis.com/books/v1/volumes?q=intitle:Sea%20of%20Ruin+inauthor:Pam%20Godwin&maxResults=1', 'https://www.googleapis.com/books/v1/volumes?q=intitle:Sworn%20to%20the%20Shadow%20God+inauthor:Ru&maxResults=1', 'https://www.googleapis.com/books/v1/volumes?q=intitle:Lothaire+inauthor:Kresley%20Cole&maxResults=1', 'https://www.googleapis.com/books/v1/volumes?q=intitle:Restless%20Stars+inauthor:Caroline%20Peckham&maxResults=1', 'https://www.googleapis.com/books/v1/volumes?q=intitle:The%20Awakening%20as%20Told%20by%20the%20Boys+inauthor:Caroline%20Peckham&maxResults=1', 'https://www.googleapis.com/books/v1/volumes?q=intitle:Rejected+inauthor:Jaymin%20Eve&maxResults=1', 'https://www.googleapis.com/books/v1/volumes?q=intitle:Trick+inauthor:Natalia%20Jaster&maxResults=1', 'https://www.googleapis.com/books/v1/volumes?q=intitle:Fire%20in%20His%20Blood+inauthor:Ru&maxResults=1', \"https://www.googleapis.com/books/v1/volumes?q=intitle:The%20Winner's%20Crime+inauthor:Marie%20Rutkoski&maxResults=1\", 'https://www.googleapis.com/books/v1/volumes?q=intitle:Divergent+inauthor:Veronica%20Roth&maxResults=1', 'https://www.googleapis.com/books/v1/volumes?q=intitle:Court%20of%20Ice%20and%20Ash+inauthor:LJ%20Andrews&maxResults=1', 'https://www.googleapis.com/books/v1/volumes?q=intitle:Lore%20Olympus:%20Volume%20One+inauthor:Rachel%20Smythe&maxResults=1', \"https://www.googleapis.com/books/v1/volumes?q=intitle:The%20Fae%20King's%20Curse+inauthor:Jamie%20Schlosser&maxResults=1\", 'https://www.googleapis.com/books/v1/volumes?q=intitle:The%20Beautiful+inauthor:Renee%20Ahdieh&maxResults=1', 'https://www.googleapis.com/books/v1/volumes?q=intitle:War%20Storm+inauthor:Victoria%20Aveyard&maxResults=1', 'https://www.googleapis.com/books/v1/volumes?q=intitle:A%20Fire%20in%20the%20Sky+inauthor:Sophie%20Jordan&maxResults=1', 'https://www.googleapis.com/books/v1/volumes?q=intitle:The%20Fake%20Mate+inauthor:Lana%20Ferguson&maxResults=1', 'https://www.googleapis.com/books/v1/volumes?q=intitle:The%20Wolf%20and%20the%20Woodsman+inauthor:Ava%20Reid&maxResults=1', 'https://www.googleapis.com/books/v1/volumes?q=intitle:Dark%20King+inauthor:CN%20Crawford&maxResults=1', 'https://www.googleapis.com/books/v1/volumes?q=intitle:Mountains%20Made%20of%20Glass+inauthor:Scarlett%20St%20Clair&maxResults=1', 'https://www.googleapis.com/books/v1/volumes?q=intitle:The%20Blood%20Traitor+inauthor:Lynette%20Noni&maxResults=1', 'https://www.googleapis.com/books/v1/volumes?q=intitle:Warrior%20Fae+inauthor:Caroline%20Peckham&maxResults=1', 'https://www.googleapis.com/books/v1/volumes?q=intitle:A%20Vow%20So%20Bold%20and%20Deadly+inauthor:Brigid%20Kemmerer&maxResults=1', 'https://www.googleapis.com/books/v1/volumes?q=intitle:Restless%20Slumber+inauthor:KJ%20Sutton&maxResults=1', 'https://www.googleapis.com/books/v1/volumes?q=intitle:A%20Darker%20Shade%20of%20Magic+inauthor:Victoria%20E%20Schwab&maxResults=1', 'https://www.googleapis.com/books/v1/volumes?q=intitle:Five%20Broken%20Blades+inauthor:Mai%20Corland&maxResults=1', 'https://www.googleapis.com/books/v1/volumes?q=intitle:A%20Game%20of%20Retribution+inauthor:Scarlett%20St%20Clair&maxResults=1', 'https://www.googleapis.com/books/v1/volumes?q=intitle:A%20Dowry%20of%20Blood+inauthor:ST%20Gibson&maxResults=1', 'https://www.googleapis.com/books/v1/volumes?q=intitle:Kiss%20the%20Fae+inauthor:Natalia%20Jaster&maxResults=1', 'https://www.googleapis.com/books/v1/volumes?q=intitle:The%20Mark%20of%20the%20Tala+inauthor:Jeffe%20Kennedy&maxResults=1', 'https://www.googleapis.com/books/v1/volumes?q=intitle:Beautiful%20Creatures+inauthor:Kami%20Garcia&maxResults=1', \"https://www.googleapis.com/books/v1/volumes?q=intitle:The%20King's%20Spinster%20Bride+inauthor:Ru&maxResults=1\", 'https://www.googleapis.com/books/v1/volumes?q=intitle:Halfling+inauthor:SE%20Wendel&maxResults=1', 'https://www.googleapis.com/books/v1/volumes?q=intitle:Dark%20Night%20Golden%20Dawn+inauthor:Allison%20Carr%20Waechter&maxResults=1', 'https://www.googleapis.com/books/v1/volumes?q=intitle:Helfyre+inauthor:Mariel%20Pomeroy&maxResults=1', 'https://www.googleapis.com/books/v1/volumes?q=intitle:Fireborne+inauthor:Rosaria%20Munda&maxResults=1', 'https://www.googleapis.com/books/v1/volumes?q=intitle:Desperate%20Measures+inauthor:Katee%20Robert&maxResults=1', 'https://www.googleapis.com/books/v1/volumes?q=intitle:Nevernight+inauthor:Jay%20Kristoff&maxResults=1', 'https://www.googleapis.com/books/v1/volumes?q=intitle:Once%20Burned+inauthor:Jeaniene%20Frost&maxResults=1', 'https://www.googleapis.com/books/v1/volumes?q=intitle:Soulless+inauthor:Gail%20Carriger&maxResults=1', 'https://www.googleapis.com/books/v1/volumes?q=intitle:Lover%20Revealed+inauthor:JR%20Ward&maxResults=1', 'https://www.googleapis.com/books/v1/volumes?q=intitle:Nocticadia+inauthor:Keri%20Lake&maxResults=1', 'https://www.googleapis.com/books/v1/volumes?q=intitle:Whispers%20of%20the%20Deep+inauthor:Emma%20Hamm&maxResults=1', 'https://www.googleapis.com/books/v1/volumes?q=intitle:That%20Time%20I%20Got%20Drunk%20And%20Saved%20a%20Human+inauthor:Kimberly%20Lemming&maxResults=1', 'https://www.googleapis.com/books/v1/volumes?q=intitle:The%20Fae%20Princes+inauthor:Nikki%20St%20Crowe&maxResults=1', 'https://www.googleapis.com/books/v1/volumes?q=intitle:A%20Strange%20and%20Stubborn%20Endurance+inauthor:Foz%20Meadows&maxResults=1', 'https://www.googleapis.com/books/v1/volumes?q=intitle:Broken%20Fae+inauthor:Caroline%20Peckham&maxResults=1', 'https://www.googleapis.com/books/v1/volumes?q=intitle:Beneath%20Black%20Sails+inauthor:Clare%20Sager&maxResults=1', 'https://www.googleapis.com/books/v1/volumes?q=intitle:Beyond%20the%20Highland%20Mist+inauthor:Karen%20Marie%20Moning&maxResults=1', 'https://www.googleapis.com/books/v1/volumes?q=intitle:Dreams%20of%20Gods%20&%20Monsters+inauthor:Laini%20Taylor&maxResults=1', 'https://www.googleapis.com/books/v1/volumes?q=intitle:Cry%20Wolf+inauthor:Patricia%20Briggs&maxResults=1', 'https://www.googleapis.com/books/v1/volumes?q=intitle:No%20Rest%20for%20the%20Wicked+inauthor:Kresley%20Cole&maxResults=1', 'https://www.googleapis.com/books/v1/volumes?q=intitle:A%20Feather%20So%20Black+inauthor:Lyra%20Selene&maxResults=1', 'https://www.googleapis.com/books/v1/volumes?q=intitle:The%20Last%20Storm+inauthor:JD%20Linton&maxResults=1', 'https://www.googleapis.com/books/v1/volumes?q=intitle:Our%20Violent%20Ends+inauthor:Chloe%20Gong&maxResults=1', \"https://www.googleapis.com/books/v1/volumes?q=intitle:Wicked%20Deeds%20on%20a%20Winter's%20Night+inauthor:Kresley%20Cole&maxResults=1\", \"https://www.googleapis.com/books/v1/volumes?q=intitle:A%20Winter's%20Promise+inauthor:Christelle%20Dabos&maxResults=1\", 'https://www.googleapis.com/books/v1/volumes?q=intitle:About%20a%20Dragon+inauthor:GA%20Aiken&maxResults=1', 'https://www.googleapis.com/books/v1/volumes?q=intitle:The%20Wraith%20King+inauthor:Juliette%20Cross&maxResults=1', 'https://www.googleapis.com/books/v1/volumes?q=intitle:The%20Curse%20of%20Saints+inauthor:Kate%20Dramis&maxResults=1', 'https://www.googleapis.com/books/v1/volumes?q=intitle:Origin+inauthor:Jennifer%20L%20Armentrout&maxResults=1', 'https://www.googleapis.com/books/v1/volumes?q=intitle:Lady%20of%20Shadows+inauthor:Melissa%20K%20Roehrich&maxResults=1', 'https://www.googleapis.com/books/v1/volumes?q=intitle:Violet%20Made%20of%20Thorns+inauthor:Gina%20Chen&maxResults=1', 'https://www.googleapis.com/books/v1/volumes?q=intitle:The%20Faceless%20Mage+inauthor:Kenley%20Davidson&maxResults=1', 'https://www.googleapis.com/books/v1/volumes?q=intitle:Fantasy%20of%20Frost+inauthor:Kelly%20St%20Clare&maxResults=1', 'https://www.googleapis.com/books/v1/volumes?q=intitle:The%20Dagger%20and%20the%20Flame+inauthor:Catherine%20Doyle&maxResults=1', 'https://www.googleapis.com/books/v1/volumes?q=intitle:Avalon%20Tower+inauthor:CN%20Crawford&maxResults=1', 'https://www.googleapis.com/books/v1/volumes?q=intitle:The%20Knight%20and%20the%20Moth+inauthor:Rachel%20Gillig&maxResults=1', 'https://www.googleapis.com/books/v1/volumes?q=intitle:The%20Wren%20in%20the%20Holly%20Library+inauthor:KA%20Linde&maxResults=1', 'https://www.googleapis.com/books/v1/volumes?q=intitle:Wisteria+inauthor:Adalyn%20Grace&maxResults=1', 'https://www.googleapis.com/books/v1/volumes?q=intitle:Sword%20Catcher+inauthor:Cassandra%20Clare&maxResults=1', 'https://www.googleapis.com/books/v1/volumes?q=intitle:The%20Black%20Witch+inauthor:Laurie%20Forest&maxResults=1', 'https://www.googleapis.com/books/v1/volumes?q=intitle:Opposition+inauthor:Jennifer%20L%20Armentrout&maxResults=1', 'https://www.googleapis.com/books/v1/volumes?q=intitle:Mystic%20and%20Rider+inauthor:Sharon%20Shinn&maxResults=1', \"https://www.googleapis.com/books/v1/volumes?q=intitle:Kushiel's%20Chosen+inauthor:Jacqueline%20Carey&maxResults=1\", 'https://www.googleapis.com/books/v1/volumes?q=intitle:The%20Wolf%20King+inauthor:Lauren%20Palphreyman&maxResults=1', 'https://www.googleapis.com/books/v1/volumes?q=intitle:Flame%20and%20Sparrow+inauthor:SM%20Gaither&maxResults=1', 'https://www.googleapis.com/books/v1/volumes?q=intitle:The%20Prisoners%20Throne+inauthor:Holly%20Black&maxResults=1', 'https://www.googleapis.com/books/v1/volumes?q=intitle:A%20Trial%20of%20Sorcerers+inauthor:Elise%20Kova&maxResults=1', 'https://www.googleapis.com/books/v1/volumes?q=intitle:Power%20of%20Five+inauthor:Alex%20Lidell&maxResults=1', 'https://www.googleapis.com/books/v1/volumes?q=intitle:Four%20Psychos+inauthor:Kristy%20Cunning&maxResults=1', \"https://www.googleapis.com/books/v1/volumes?q=intitle:The%20Winner's%20Kiss+inauthor:Marie%20Rutkoski&maxResults=1\", \"https://www.googleapis.com/books/v1/volumes?q=intitle:Water's%20Wrath+inauthor:Elise%20Kova&maxResults=1\", 'https://www.googleapis.com/books/v1/volumes?q=intitle:Lover%20Unbound+inauthor:JR%20Ward&maxResults=1', 'https://www.googleapis.com/books/v1/volumes?q=intitle:Slaying%20the%20Shifter%20Prince+inauthor:Clare%20Sager&maxResults=1', 'https://www.googleapis.com/books/v1/volumes?q=intitle:Mistlefoe+inauthor:Kimberly%20Lemming&maxResults=1', 'https://www.googleapis.com/books/v1/volumes?q=intitle:On%20These%20Black%20Sands+inauthor:Vanessa%20Rasanen&maxResults=1', 'https://www.googleapis.com/books/v1/volumes?q=intitle:The%20Hunger%20Games+inauthor:Suzanne%20Collins&maxResults=1', 'https://www.googleapis.com/books/v1/volumes?q=intitle:Clean%20Sweep+inauthor:Ilona%20Andrews&maxResults=1', \"https://www.googleapis.com/books/v1/volumes?q=intitle:Kushiel's%20Avatar+inauthor:Jacqueline%20Carey&maxResults=1\", 'https://www.googleapis.com/books/v1/volumes?q=intitle:Amid%20Clouds%20and%20Bones+inauthor:Ella%20Fields&maxResults=1', 'https://www.googleapis.com/books/v1/volumes?q=intitle:Goldfinch+inauthor:Raven%20Kennedy&maxResults=1', 'https://www.googleapis.com/books/v1/volumes?q=intitle:Immortal%20Longings+inauthor:Chloe%20Gong&maxResults=1', 'https://www.googleapis.com/books/v1/volumes?q=intitle:A%20Kingdom%20of%20Ruin+inauthor:KF%20Breene&maxResults=1', 'https://www.googleapis.com/books/v1/volumes?q=intitle:Black%20Sunshine+inauthor:Karina%20Halle&maxResults=1', 'https://www.googleapis.com/books/v1/volumes?q=intitle:Ten%20Thousand%20Stitches+inauthor:Olivia%20Atwater&maxResults=1', 'https://www.googleapis.com/books/v1/volumes?q=intitle:Crush+inauthor:Tracy%20Wolff&maxResults=1', 'https://www.googleapis.com/books/v1/volumes?q=intitle:Escaping%20Destiny+inauthor:Amelia%20Hutchins&maxResults=1', 'https://www.googleapis.com/books/v1/volumes?q=intitle:A%20Kingdom%20of%20Venom%20and%20Vows+inauthor:Holly%20Renee&maxResults=1', 'https://www.googleapis.com/books/v1/volumes?q=intitle:House%20of%20Lies%20and%20Sorrow+inauthor:Emily%20Blackwood&maxResults=1', \"https://www.googleapis.com/books/v1/volumes?q=intitle:Paladin's%20Hope+inauthor:T%20Kingfisher&maxResults=1\", 'https://www.googleapis.com/books/v1/volumes?q=intitle:Bad%20Lands+inauthor:Stacey%20Marie%20Brown&maxResults=1', 'https://www.googleapis.com/books/v1/volumes?q=intitle:Gilded+inauthor:Marissa%20Meyer&maxResults=1', 'https://www.googleapis.com/books/v1/volumes?q=intitle:Emerald%20Blaze+inauthor:Ilona%20Andrews&maxResults=1', 'https://www.googleapis.com/books/v1/volumes?q=intitle:Fortune%20Favors%20the%20Cruel+inauthor:Kel%20Carpenter&maxResults=1', 'https://www.googleapis.com/books/v1/volumes?q=intitle:Spin%20the%20Dawn+inauthor:Elizabeth%20Lim&maxResults=1', 'https://www.googleapis.com/books/v1/volumes?q=intitle:Fracture%20Me+inauthor:Tahereh%20Mafi&maxResults=1', 'https://www.googleapis.com/books/v1/volumes?q=intitle:Kingdom%20of%20Blood%20and%20Salt+inauthor:Alexis%20Calder&maxResults=1', 'https://www.googleapis.com/books/v1/volumes?q=intitle:Winter%20Gods%20&%20Serpents+inauthor:Wendy%20Heiss&maxResults=1', 'https://www.googleapis.com/books/v1/volumes?q=intitle:The%20Wisteria%20Society%20of%20Lady%20Scoundrels+inauthor:India%20Holton&maxResults=1', 'https://www.googleapis.com/books/v1/volumes?q=intitle:Fierce%20Heart+inauthor:Tara%20Grayce&maxResults=1', 'https://www.googleapis.com/books/v1/volumes?q=intitle:No%20Man%20Can%20Tame+inauthor:Miranda%20Honfleur&maxResults=1', 'https://www.googleapis.com/books/v1/volumes?q=intitle:Magic%20Strikes+inauthor:Ilona%20Andrews&maxResults=1', 'https://www.googleapis.com/books/v1/volumes?q=intitle:Mysteries%20of%20Thorn%20Manor+inauthor:Margaret%20Rogerson&maxResults=1', 'https://www.googleapis.com/books/v1/volumes?q=intitle:Dreams%20Lie%20Beneath+inauthor:Rebecca%20Ross&maxResults=1', 'https://www.googleapis.com/books/v1/volumes?q=intitle:Believe%20Me+inauthor:Tahereh%20Mafi&maxResults=1', 'https://www.googleapis.com/books/v1/volumes?q=intitle:The%20Atlas%20Six+inauthor:Olivie%20Blake&maxResults=1', 'https://www.googleapis.com/books/v1/volumes?q=intitle:Shardless+inauthor:Stephanie%20Fisher&maxResults=1', 'https://www.googleapis.com/books/v1/volumes?q=intitle:Empire%20of%20Sand+inauthor:Tasha%20Suri&maxResults=1', 'https://www.googleapis.com/books/v1/volumes?q=intitle:Court%20of%20Shadows+inauthor:CN%20Crawford&maxResults=1', 'https://www.googleapis.com/books/v1/volumes?q=intitle:Torn+inauthor:Jennifer%20L%20Armentrout&maxResults=1', 'https://www.googleapis.com/books/v1/volumes?q=intitle:Crystal%20Crowned+inauthor:Elise%20Kova&maxResults=1', 'https://www.googleapis.com/books/v1/volumes?q=intitle:Visions%20of%20Heat+inauthor:Nalini%20Singh&maxResults=1', 'https://www.googleapis.com/books/v1/volumes?q=intitle:Ambrosia+inauthor:CN%20Crawford&maxResults=1', 'https://www.googleapis.com/books/v1/volumes?q=intitle:The%20Darkness%20Within%20Us+inauthor:Tricia%20Levenseller&maxResults=1', 'https://www.googleapis.com/books/v1/volumes?q=intitle:Stardust+inauthor:Neil%20Gaiman&maxResults=1', 'https://www.googleapis.com/books/v1/volumes?q=intitle:Dark%20Wizard+inauthor:Jeffe%20Kennedy&maxResults=1', 'https://www.googleapis.com/books/v1/volumes?q=intitle:The%20Queen%20and%20the%20Cure+inauthor:Amy%20Harmon&maxResults=1', \"https://www.googleapis.com/books/v1/volumes?q=intitle:Dark%20Needs%20at%20Night's%20Edge+inauthor:Kresley%20Cole&maxResults=1\", 'https://www.googleapis.com/books/v1/volumes?q=intitle:Shadow%20Kiss+inauthor:Richelle%20Mead&maxResults=1', 'https://www.googleapis.com/books/v1/volumes?q=intitle:Lord%20of%20Embers+inauthor:CN%20Crawford&maxResults=1', 'https://www.googleapis.com/books/v1/volumes?q=intitle:All%20This%20Twisted%20Glory+inauthor:Tahereh%20Mafi&maxResults=1', 'https://www.googleapis.com/books/v1/volumes?q=intitle:Lord%20of%20Shadows+inauthor:Cassandra%20Clare&maxResults=1', 'https://www.googleapis.com/books/v1/volumes?q=intitle:Stone%20Cold%20Touch+inauthor:Jennifer%20L%20Armentrout&maxResults=1', 'https://www.googleapis.com/books/v1/volumes?q=intitle:Lord%20of%20Gold%20and%20Glory+inauthor:Lisette%20Marshall&maxResults=1', 'https://www.googleapis.com/books/v1/volumes?q=intitle:Crown%20of%20Blood%20and%20Ruin+inauthor:LJ%20Andrews&maxResults=1', 'https://www.googleapis.com/books/v1/volumes?q=intitle:The%20Primal%20of%20Blood%20and%20Bone+inauthor:Jennifer%20L%20Armentrout&maxResults=1', 'https://www.googleapis.com/books/v1/volumes?q=intitle:Origins%20of%20an%20Academy%20Bully+inauthor:Caroline%20Peckham&maxResults=1', 'https://www.googleapis.com/books/v1/volumes?q=intitle:The%20Lost%20Sisters+inauthor:Holly%20Black&maxResults=1', 'https://www.googleapis.com/books/v1/volumes?q=intitle:Nightshade+inauthor:Keri%20Lake&maxResults=1', 'https://www.googleapis.com/books/v1/volumes?q=intitle:The%20Cursed+inauthor:Harper%20L%20Woods&maxResults=1', 'https://www.googleapis.com/books/v1/volumes?q=intitle:A%20Soul%20to%20Heal+inauthor:Opal%20Reyne&maxResults=1', 'https://www.googleapis.com/books/v1/volumes?q=intitle:Radiant%20Sin+inauthor:Katee%20Robert&maxResults=1', 'https://www.googleapis.com/books/v1/volumes?q=intitle:The%20Moonfire%20Bride+inauthor:Sylvia%20Mercedes&maxResults=1', 'https://www.googleapis.com/books/v1/volumes?q=intitle:Crescendo+inauthor:Becca%20Fitzpatrick&maxResults=1', 'https://www.googleapis.com/books/v1/volumes?q=intitle:Magic%20Bleeds+inauthor:Ilona%20Andrews&maxResults=1', 'https://www.googleapis.com/books/v1/volumes?q=intitle:Beauty:%20A%20Retelling%20of%20the%20Story%20of%20Beauty%20and%20the%20Beast+inauthor:Robin%20McKinley&maxResults=1', 'https://www.googleapis.com/books/v1/volumes?q=intitle:Frostbite+inauthor:Richelle%20Mead&maxResults=1', 'https://www.googleapis.com/books/v1/volumes?q=intitle:Fate%20&%20Furies+inauthor:Helen%20Scheuerer&maxResults=1', 'https://www.googleapis.com/books/v1/volumes?q=intitle:Psycho%20Fae+inauthor:Jasmine%20Mas&maxResults=1', 'https://www.googleapis.com/books/v1/volumes?q=intitle:Filthy%20Rich%20Vampire+inauthor:Geneva%20Lee&maxResults=1', 'https://www.googleapis.com/books/v1/volumes?q=intitle:A%20Fire%20Endless+inauthor:Rebecca%20Ross&maxResults=1', 'https://www.googleapis.com/books/v1/volumes?q=intitle:Kiss%20of%20the%20Blood%20Prince+inauthor:Alessa%20Thorn&maxResults=1', 'https://www.googleapis.com/books/v1/volumes?q=intitle:Iron%20and%20Magic+inauthor:Ilona%20Andrews&maxResults=1', 'https://www.googleapis.com/books/v1/volumes?q=intitle:Red%20Winter+inauthor:Annette%20Marie&maxResults=1', 'https://www.googleapis.com/books/v1/volumes?q=intitle:Land%20of%20the%20Beautiful%20Dead+inauthor:R%20Lee%20Smith&maxResults=1', 'https://www.googleapis.com/books/v1/volumes?q=intitle:A%20Dark%20and%20Drowning%20Tide+inauthor:Allison%20Saft&maxResults=1', 'https://www.googleapis.com/books/v1/volumes?q=intitle:The%20First%20Girl%20Child+inauthor:Amy%20Harmon&maxResults=1', 'https://www.googleapis.com/books/v1/volumes?q=intitle:Kingdom%20of%20Exiles+inauthor:Maxym%20M%20Martineau&maxResults=1', 'https://www.googleapis.com/books/v1/volumes?q=intitle:Persuasion+inauthor:Jaymin%20Eve&maxResults=1', 'https://www.googleapis.com/books/v1/volumes?q=intitle:The%20Undying%20King+inauthor:Grace%20Draven&maxResults=1', \"https://www.googleapis.com/books/v1/volumes?q=intitle:The%20Fire%20Lord's%20Lover+inauthor:Kathryne%20Kennedy&maxResults=1\", 'https://www.googleapis.com/books/v1/volumes?q=intitle:Beguilement+inauthor:Lois%20McMaster%20Bujold&maxResults=1', \"https://www.googleapis.com/books/v1/volumes?q=intitle:King's%20Bride+inauthor:Beck%20Michaels&maxResults=1\", 'https://www.googleapis.com/books/v1/volumes?q=intitle:The%20Wolf%20and%20the%20Witch+inauthor:Charissa%20Weaks&maxResults=1', 'https://www.googleapis.com/books/v1/volumes?q=intitle:The%20Unmaking%20of%20June%20Farrow+inauthor:Adrienne%20Young&maxResults=1', 'https://www.googleapis.com/books/v1/volumes?q=intitle:Malice+inauthor:Heather%20Walter&maxResults=1', 'https://www.googleapis.com/books/v1/volumes?q=intitle:The%20Jasmine%20Throne+inauthor:Tasha%20Suri&maxResults=1', 'https://www.googleapis.com/books/v1/volumes?q=intitle:The%20Lord%20of%20Stariel+inauthor:AJ%20Lancaster&maxResults=1', \"https://www.googleapis.com/books/v1/volumes?q=intitle:Mist's%20Edge+inauthor:TA%20White&maxResults=1\", 'https://www.googleapis.com/books/v1/volumes?q=intitle:Bring%20Me%20Their%20Hearts+inauthor:Sara%20Wolf&maxResults=1', 'https://www.googleapis.com/books/v1/volumes?q=intitle:Rubinrot+inauthor:Kerstin%20Gier&maxResults=1', \"https://www.googleapis.com/books/v1/volumes?q=intitle:Archangel's%20Consort+inauthor:Nalini%20Singh&maxResults=1\", 'https://www.googleapis.com/books/v1/volumes?q=intitle:What%20a%20Dragon%20Should%20Know+inauthor:GA%20Aiken&maxResults=1', 'https://www.googleapis.com/books/v1/volumes?q=intitle:Lover%20Avenged+inauthor:JR%20Ward&maxResults=1', 'https://www.googleapis.com/books/v1/volumes?q=intitle:A%20Rivalry%20of%20Hearts+inauthor:Tessonja%20Odette&maxResults=1', 'https://www.googleapis.com/books/v1/volumes?q=intitle:Throne%20of%20Secrets+inauthor:Kerri%20Maniscalco&maxResults=1', 'https://www.googleapis.com/books/v1/volumes?q=intitle:The%20Undermining%20of%20Twyla%20and%20Frank+inauthor:Megan%20Bannen&maxResults=1', 'https://www.googleapis.com/books/v1/volumes?q=intitle:Hunt%20on%20Dark%20Waters+inauthor:Katee%20Robert&maxResults=1', 'https://www.googleapis.com/books/v1/volumes?q=intitle:Summoned%20to%20the%20Wilds+inauthor:AK%20Caggiano&maxResults=1', 'https://www.googleapis.com/books/v1/volumes?q=intitle:Bound%20&%20Barbed+inauthor:Samantha%20R%20Goode&maxResults=1', 'https://www.googleapis.com/books/v1/volumes?q=intitle:Desire%20in%20His%20Blood+inauthor:Zoey%20Draven&maxResults=1', 'https://www.googleapis.com/books/v1/volumes?q=intitle:Moon%20Touched+inauthor:Elizabeth%20Briggs&maxResults=1', 'https://www.googleapis.com/books/v1/volumes?q=intitle:Heart%20of%20Fire+inauthor:Bec%20McMaster&maxResults=1', 'https://www.googleapis.com/books/v1/volumes?q=intitle:The%20Magpie%20Lord+inauthor:KJ%20Charles&maxResults=1', 'https://www.googleapis.com/books/v1/volumes?q=intitle:Last%20Sacrifice+inauthor:Richelle%20Mead&maxResults=1', 'https://www.googleapis.com/books/v1/volumes?q=intitle:Son%20of%20the%20Shadows+inauthor:Juliet%20Marillier&maxResults=1', 'https://www.googleapis.com/books/v1/volumes?q=intitle:The%20Power%20of%20Hades+inauthor:Eliza%20Raine&maxResults=1', 'https://www.googleapis.com/books/v1/volumes?q=intitle:A%20Duet%20with%20the%20Siren%20Duke+inauthor:Elise%20Kova&maxResults=1', 'https://www.googleapis.com/books/v1/volumes?q=intitle:House%20of%20Striking%20Oaths+inauthor:Olivia%20Wildenstein&maxResults=1', \"https://www.googleapis.com/books/v1/volumes?q=intitle:The%20Liar's%20Crown+inauthor:Abigail%20Owen&maxResults=1\", 'https://www.googleapis.com/books/v1/volumes?q=intitle:The%20Cursed%20And%20The%20Broken+inauthor:Chloe%20Hodge&maxResults=1', 'https://www.googleapis.com/books/v1/volumes?q=intitle:Rule%20of%20Wolves+inauthor:Leigh%20Bardugo&maxResults=1', 'https://www.googleapis.com/books/v1/volumes?q=intitle:Claimed%20by%20the%20Horde%20King+inauthor:Zoey%20Draven&maxResults=1', 'https://www.googleapis.com/books/v1/volumes?q=intitle:The%20Starless%20Sea+inauthor:Erin%20Morgenstern&maxResults=1', 'https://www.googleapis.com/books/v1/volumes?q=intitle:Seduction+inauthor:Jaymin%20Eve&maxResults=1', 'https://www.googleapis.com/books/v1/volumes?q=intitle:Flame%20in%20the%20Mist+inauthor:Renee%20Ahdieh&maxResults=1', 'https://www.googleapis.com/books/v1/volumes?q=intitle:Rebel%20Witch+inauthor:Kristen%20Ciccarelli&maxResults=1', 'https://www.googleapis.com/books/v1/volumes?q=intitle:Ruby%20Fever+inauthor:Ilona%20Andrews&maxResults=1', 'https://www.googleapis.com/books/v1/volumes?q=intitle:Soul%20Eater+inauthor:Lily%20Mayne&maxResults=1', 'https://www.googleapis.com/books/v1/volumes?q=intitle:The%20Big%20A.S.S.%20Party+inauthor:Caroline%20Peckham&maxResults=1', 'https://www.googleapis.com/books/v1/volumes?q=intitle:The%20Orchid%20Throne+inauthor:Jeffe%20Kennedy&maxResults=1', 'https://www.googleapis.com/books/v1/volumes?q=intitle:Bonds%20of%20Cupidity+inauthor:Raven%20Kennedy&maxResults=1', 'https://www.googleapis.com/books/v1/volumes?q=intitle:A%20Reaper%20at%20the%20Gates+inauthor:Sabaa%20Tahir&maxResults=1', 'https://www.googleapis.com/books/v1/volumes?q=intitle:A%20Sorceress%20of%20His%20Own+inauthor:Dianne%20Duvall&maxResults=1', 'https://www.googleapis.com/books/v1/volumes?q=intitle:Falling%20Kingdoms+inauthor:Morgan%20Rhodes&maxResults=1', 'https://www.googleapis.com/books/v1/volumes?q=intitle:Firelight+inauthor:Kristen%20Callihan&maxResults=1', 'https://www.googleapis.com/books/v1/volumes?q=intitle:Magic%20Burns+inauthor:Ilona%20Andrews&maxResults=1', 'https://www.googleapis.com/books/v1/volumes?q=intitle:Spirit%20Bound+inauthor:Richelle%20Mead&maxResults=1', 'https://www.googleapis.com/books/v1/volumes?q=intitle:Blood%20Promise+inauthor:Richelle%20Mead&maxResults=1', 'https://www.googleapis.com/books/v1/volumes?q=intitle:One%20Foot%20in%20the%20Grave+inauthor:Jeaniene%20Frost&maxResults=1', 'https://www.googleapis.com/books/v1/volumes?q=intitle:Kiss%20of%20a%20Demon%20King+inauthor:Kresley%20Cole&maxResults=1', 'https://www.googleapis.com/books/v1/volumes?q=intitle:Haunting%20Adeline+inauthor:HD%20Carlton&maxResults=1', 'https://www.googleapis.com/books/v1/volumes?q=intitle:Deceived%20by%20the%20Gargoyles+inauthor:Lillian%20Lark&maxResults=1', 'https://www.googleapis.com/books/v1/volumes?q=intitle:Rebel%20of%20the%20Sands+inauthor:Alwyn%20Hamilton&maxResults=1', 'https://www.googleapis.com/books/v1/volumes?q=intitle:Seducing%20Destiny+inauthor:Amelia%20Hutchins&maxResults=1', 'https://www.googleapis.com/books/v1/volumes?q=intitle:Demon%20from%20the%20Dark+inauthor:Kresley%20Cole&maxResults=1', 'https://www.googleapis.com/books/v1/volumes?q=intitle:The%20Hunted%20Heir+inauthor:Holly%20Renee&maxResults=1', 'https://www.googleapis.com/books/v1/volumes?q=intitle:The%20Courting%20of%20Bristol%20Keats+inauthor:Mary%20E%20Pearson&maxResults=1', 'https://www.googleapis.com/books/v1/volumes?q=intitle:Fate%20of%20a%20Royal+inauthor:Meagan%20Brandy&maxResults=1', 'https://www.googleapis.com/books/v1/volumes?q=intitle:A%20Word%20so%20Fitly%20Spoken+inauthor:TA%20Lawrence&maxResults=1', 'https://www.googleapis.com/books/v1/volumes?q=intitle:Foul%20Lady%20Fortune+inauthor:Chloe%20Gong&maxResults=1', 'https://www.googleapis.com/books/v1/volumes?q=intitle:Blood%20Lands+inauthor:Stacey%20Marie%20Brown&maxResults=1', 'https://www.googleapis.com/books/v1/volumes?q=intitle:The%20Unseelie%20Crown+inauthor:Kathryn%20Ann%20Kingsley&maxResults=1', 'https://www.googleapis.com/books/v1/volumes?q=intitle:The%20Inheritance%20Games+inauthor:Jennifer%20Lynn%20Barnes&maxResults=1', 'https://www.googleapis.com/books/v1/volumes?q=intitle:Divine%20Blood+inauthor:Beck%20Michaels&maxResults=1', 'https://www.googleapis.com/books/v1/volumes?q=intitle:Children%20of%20Blood%20and%20Bone+inauthor:Tomi%20Adeyemi&maxResults=1', 'https://www.googleapis.com/books/v1/volumes?q=intitle:Frostblood+inauthor:Elly%20Blake&maxResults=1', 'https://www.googleapis.com/books/v1/volumes?q=intitle:Silence+inauthor:Becca%20Fitzpatrick&maxResults=1', 'https://www.googleapis.com/books/v1/volumes?q=intitle:Servant%20of%20Earth+inauthor:Sarah%20Hawley&maxResults=1', 'https://www.googleapis.com/books/v1/volumes?q=intitle:Heart%20of%20Night%20and%20Fire+inauthor:Nisha%20J%20Tuli&maxResults=1', 'https://www.googleapis.com/books/v1/volumes?q=intitle:Fate%20of%20the%20Sun%20King+inauthor:Nisha%20J%20Tuli&maxResults=1', 'https://www.googleapis.com/books/v1/volumes?q=intitle:A%20Curse%20of%20Queens+inauthor:Amanda%20Bouchet&maxResults=1', 'https://www.googleapis.com/books/v1/volumes?q=intitle:Stalked%20by%20the%20Kraken+inauthor:Lillian%20Lark&maxResults=1', \"https://www.googleapis.com/books/v1/volumes?q=intitle:Don't%20Hex%20and%20Drive+inauthor:Juliette%20Cross&maxResults=1\", 'https://www.googleapis.com/books/v1/volumes?q=intitle:Master%20of%20Salt%20&%20Bones+inauthor:Keri%20Lake&maxResults=1', 'https://www.googleapis.com/books/v1/volumes?q=intitle:Eternal%20Reign+inauthor:Caroline%20Peckham&maxResults=1', 'https://www.googleapis.com/books/v1/volumes?q=intitle:All%20the%20Stars%20and%20Teeth+inauthor:Adalyn%20Grace&maxResults=1', 'https://www.googleapis.com/books/v1/volumes?q=intitle:Pure+inauthor:Jennifer%20L%20Armentrout&maxResults=1', 'https://www.googleapis.com/books/v1/volumes?q=intitle:Bitterblue+inauthor:Kristin%20Cashore&maxResults=1', 'https://www.googleapis.com/books/v1/volumes?q=intitle:Caressed%20by%20Ice+inauthor:Nalini%20Singh&maxResults=1', 'https://www.googleapis.com/books/v1/volumes?q=intitle:Marked+inauthor:PC%20Cast&maxResults=1', 'https://www.googleapis.com/books/v1/volumes?q=intitle:Dark%20Desires%20After%20Dusk+inauthor:Kresley%20Cole&maxResults=1', 'https://www.googleapis.com/books/v1/volumes?q=intitle:Long%20Live%20Evil+inauthor:Sarah%20Rees%20Brennan&maxResults=1', 'https://www.googleapis.com/books/v1/volumes?q=intitle:The%20Dawn%20of%20the%20Cursed%20Queen+inauthor:Amber%20V%20Nicole&maxResults=1', \"https://www.googleapis.com/books/v1/volumes?q=intitle:The%20Flame%20King's%20Captive+inauthor:Chloe%20Chastaine&maxResults=1\", 'https://www.googleapis.com/books/v1/volumes?q=intitle:Forged%20by%20Malice+inauthor:Elizabeth%20Helen&maxResults=1', 'https://www.googleapis.com/books/v1/volumes?q=intitle:Starling%20House+inauthor:Alix%20E%20Harrow&maxResults=1', 'https://www.googleapis.com/books/v1/volumes?q=intitle:Psycho%20Beasts+inauthor:Jasmine%20Mas&maxResults=1', 'https://www.googleapis.com/books/v1/volumes?q=intitle:Ruthless%20Villains+inauthor:Marion%20Blackwood&maxResults=1', 'https://www.googleapis.com/books/v1/volumes?q=intitle:The%20House%20Witch+inauthor:Delemhach&maxResults=1', 'https://www.googleapis.com/books/v1/volumes?q=intitle:A%20Queen%20of%20Thieves%20&%20Chaos+inauthor:KA%20Tucker&maxResults=1', 'https://www.googleapis.com/books/v1/volumes?q=intitle:Ashes%20of%20Chaos+inauthor:Amelia%20Hutchins&maxResults=1', 'https://www.googleapis.com/books/v1/volumes?q=intitle:Down%20Comes%20the%20Night+inauthor:Allison%20Saft&maxResults=1', \"https://www.googleapis.com/books/v1/volumes?q=intitle:Crier's%20War+inauthor:Nina%20Varela&maxResults=1\", 'https://www.googleapis.com/books/v1/volumes?q=intitle:Queen%20of%20Air%20and%20Darkness+inauthor:Cassandra%20Clare&maxResults=1', 'https://www.googleapis.com/books/v1/volumes?q=intitle:Mistborn:%20The%20Final%20Empire+inauthor:Brandon%20Sanderson&maxResults=1', 'https://www.googleapis.com/books/v1/volumes?q=intitle:The%20Iron%20Daughter+inauthor:Julie%20Kagawa&maxResults=1', 'https://www.googleapis.com/books/v1/volumes?q=intitle:The%20Smoke%20Thief+inauthor:Shana%20Abe&maxResults=1', \"https://www.googleapis.com/books/v1/volumes?q=intitle:The%20Kraken's%20Sacrifice+inauthor:Katee%20Robert&maxResults=1\", 'https://www.googleapis.com/books/v1/volumes?q=intitle:Her%20Soul%20for%20Revenge+inauthor:Harley%20Laroux&maxResults=1', 'https://www.googleapis.com/books/v1/volumes?q=intitle:A%20Twist%20of%20the%20Blade+inauthor:SM%20Gaither&maxResults=1', 'https://www.googleapis.com/books/v1/volumes?q=intitle:A%20Game%20of%20Gods+inauthor:Scarlett%20St%20Clair&maxResults=1', 'https://www.googleapis.com/books/v1/volumes?q=intitle:We%20Free%20the%20Stars+inauthor:Hafsah%20Faizal&maxResults=1', \"https://www.googleapis.com/books/v1/volumes?q=intitle:Fae's%20Captive+inauthor:Lily%20Archer&maxResults=1\", 'https://www.googleapis.com/books/v1/volumes?q=intitle:Sin%20&%20Chocolate+inauthor:KF%20Breene&maxResults=1', 'https://www.googleapis.com/books/v1/volumes?q=intitle:Every%20Last%20Breath+inauthor:Jennifer%20L%20Armentrout&maxResults=1', 'https://www.googleapis.com/books/v1/volumes?q=intitle:Wicked%20Lovely+inauthor:Melissa%20Marr&maxResults=1', 'https://www.googleapis.com/books/v1/volumes?q=intitle:The%20Starlight%20Heir+inauthor:Amalie%20Howard&maxResults=1', 'https://www.googleapis.com/books/v1/volumes?q=intitle:A%20Reign%20of%20Rose+inauthor:Kate%20Golden&maxResults=1', 'https://www.googleapis.com/books/v1/volumes?q=intitle:The%20Mist%20Thief+inauthor:LJ%20Andrews&maxResults=1', 'https://www.googleapis.com/books/v1/volumes?q=intitle:A%20Court%20of%20Sugar%20and%20Spice+inauthor:Rebecca%20F%20Kenney&maxResults=1', 'https://www.googleapis.com/books/v1/volumes?q=intitle:Crown%20of%20Crimson+inauthor:Karina%20Halle&maxResults=1', 'https://www.googleapis.com/books/v1/volumes?q=intitle:Wed%20to%20the%20Wild%20God+inauthor:Ru&maxResults=1', 'https://www.googleapis.com/books/v1/volumes?q=intitle:Chain%20of%20Iron+inauthor:Cassandra%20Clare&maxResults=1', 'https://www.googleapis.com/books/v1/volumes?q=intitle:A%20Sky%20Beyond%20the%20Storm+inauthor:Sabaa%20Tahir&maxResults=1', 'https://www.googleapis.com/books/v1/volumes?q=intitle:Blade%20&%20Rose+inauthor:Miranda%20Honfleur&maxResults=1', 'https://www.googleapis.com/books/v1/volumes?q=intitle:The%20Star-Touched%20Queen+inauthor:Roshani%20Chokshi&maxResults=1', 'https://www.googleapis.com/books/v1/volumes?q=intitle:Lover%20Mine+inauthor:JR%20Ward&maxResults=1', 'https://www.googleapis.com/books/v1/volumes?q=intitle:Living%20Dead%20in%20Dallas+inauthor:Charlaine%20Harris&maxResults=1', 'https://www.googleapis.com/books/v1/volumes?q=intitle:Lover%20Enshrined+inauthor:JR%20Ward&maxResults=1', 'https://www.googleapis.com/books/v1/volumes?q=intitle:Immortal%20Dark+inauthor:Tigest%20Girma&maxResults=1', 'https://www.googleapis.com/books/v1/volumes?q=intitle:The%20Honey%20Witch+inauthor:Sydney%20J%20Shields&maxResults=1', 'https://www.googleapis.com/books/v1/volumes?q=intitle:Queen%20of%20Rot%20and%20Pain+inauthor:Liv%20Zander&maxResults=1', 'https://www.googleapis.com/books/v1/volumes?q=intitle:A%20Queen%20of%20Ruin+inauthor:KF%20Breene&maxResults=1', 'https://www.googleapis.com/books/v1/volumes?q=intitle:Iron%20Widow+inauthor:Xiran%20Jay%20Zhao&maxResults=1', 'https://www.googleapis.com/books/v1/volumes?q=intitle:The%20Girl%20of%20Fire%20and%20Thorns+inauthor:Rae%20Carson&maxResults=1', 'https://www.googleapis.com/books/v1/volumes?q=intitle:Of%20Blood%20and%20Aether+inauthor:Harper%20Hawthorne&maxResults=1', 'https://www.googleapis.com/books/v1/volumes?q=intitle:A%20Queen%20This%20Fierce%20and%20Deadly+inauthor:Stacia%20Stark&maxResults=1', 'https://www.googleapis.com/books/v1/volumes?q=intitle:The%20Hanging%20City+inauthor:Charlie%20N%20Holmberg&maxResults=1', \"https://www.googleapis.com/books/v1/volumes?q=intitle:Death's%20Obsession+inauthor:Avina%20St%20Graves&maxResults=1\", 'https://www.googleapis.com/books/v1/volumes?q=intitle:Prince%20of%20the%20Sorrows+inauthor:Kellen%20Graves&maxResults=1', 'https://www.googleapis.com/books/v1/volumes?q=intitle:Defend%20the%20Dawn+inauthor:Brigid%20Kemmerer&maxResults=1', 'https://www.googleapis.com/books/v1/volumes?q=intitle:Heart%20of%20the%20Sun%20Warrior+inauthor:Sue%20Lynn%20Tan&maxResults=1', 'https://www.googleapis.com/books/v1/volumes?q=intitle:So%20This%20Is%20Ever%20After+inauthor:FT%20Lukens&maxResults=1', 'https://www.googleapis.com/books/v1/volumes?q=intitle:The%20Secrets%20in%20Shadow%20and%20Blood+inauthor:Lana%20Pecherczyk&maxResults=1', 'https://www.googleapis.com/books/v1/volumes?q=intitle:Namesake+inauthor:Adrienne%20Young&maxResults=1', 'https://www.googleapis.com/books/v1/volumes?q=intitle:Reclaimed+inauthor:Jaymin%20Eve&maxResults=1', 'https://www.googleapis.com/books/v1/volumes?q=intitle:The%20Bone%20Witch+inauthor:Ivy%20Asher&maxResults=1', 'https://www.googleapis.com/books/v1/volumes?q=intitle:Deadly%20Dreams+inauthor:KJ%20Sutton&maxResults=1', 'https://www.googleapis.com/books/v1/volumes?q=intitle:The%20Beast%20of%20Blackmoor+inauthor:Milla%20Vane&maxResults=1', 'https://www.googleapis.com/books/v1/volumes?q=intitle:Shadow%20Me+inauthor:Tahereh%20Mafi&maxResults=1', 'https://www.googleapis.com/books/v1/volumes?q=intitle:Written%20in%20Red+inauthor:Anne%20Bishop&maxResults=1', 'https://www.googleapis.com/books/v1/volumes?q=intitle:Dragonfly%20in%20Amber+inauthor:Diana%20Gabaldon&maxResults=1', 'https://www.googleapis.com/books/v1/volumes?q=intitle:Finale+inauthor:Becca%20Fitzpatrick&maxResults=1', \"https://www.googleapis.com/books/v1/volumes?q=intitle:Archangel's%20Blade+inauthor:Nalini%20Singh&maxResults=1\", 'https://www.googleapis.com/books/v1/volumes?q=intitle:Pleasure%20of%20a%20Dark%20Prince+inauthor:Kresley%20Cole&maxResults=1', 'https://www.googleapis.com/books/v1/volumes?q=intitle:Troubled%20Waters+inauthor:Sharon%20Shinn&maxResults=1', 'https://www.googleapis.com/books/v1/volumes?q=intitle:Dreams%20of%20a%20Dark%20Warrior+inauthor:Kresley%20Cole&maxResults=1', \"https://www.googleapis.com/books/v1/volumes?q=intitle:The%20Time%20Traveler's%20Wife+inauthor:Audrey%20Niffenegger&maxResults=1\", \"https://www.googleapis.com/books/v1/volumes?q=intitle:The%20Ornithologist's%20Field%20Guide%20to%20Love+inauthor:India%20Holton&maxResults=1\", 'https://www.googleapis.com/books/v1/volumes?q=intitle:North%20Queen+inauthor:Nicola%20Tyche&maxResults=1', 'https://www.googleapis.com/books/v1/volumes?q=intitle:The%20Scepter+inauthor:J%20Bree&maxResults=1', 'https://www.googleapis.com/books/v1/volumes?q=intitle:Lady%20of%20Ashes+inauthor:Melissa%20K%20Roehrich&maxResults=1', \"https://www.googleapis.com/books/v1/volumes?q=intitle:The%20Tyrant%20Alpha's%20Rejected%20Mate+inauthor:Cate%20C%20Wells&maxResults=1\", 'https://www.googleapis.com/books/v1/volumes?q=intitle:Lord%20of%20Eternal%20Night+inauthor:Ben%20Alderson&maxResults=1', 'https://www.googleapis.com/books/v1/volumes?q=intitle:Caged%20Wolf+inauthor:Caroline%20Peckham&maxResults=1', 'https://www.googleapis.com/books/v1/volumes?q=intitle:Rage%20and%20Ruin+inauthor:Jennifer%20L%20Armentrout&maxResults=1', 'https://www.googleapis.com/books/v1/volumes?q=intitle:Dark%20Shores+inauthor:Danielle%20L%20Jensen&maxResults=1', 'https://www.googleapis.com/books/v1/volumes?q=intitle:Brave+inauthor:Jennifer%20L%20Armentrout&maxResults=1', 'https://www.googleapis.com/books/v1/volumes?q=intitle:Lover%20of%20Thorns%20and%20Holy%20Gods+inauthor:Grace%20Draven&maxResults=1', 'https://www.googleapis.com/books/v1/volumes?q=intitle:Hunted+inauthor:Meagan%20Spooner&maxResults=1', 'https://www.googleapis.com/books/v1/volumes?q=intitle:The%20Pages%20of%20the%20Mind+inauthor:Jeffe%20Kennedy&maxResults=1', 'https://www.googleapis.com/books/v1/volumes?q=intitle:Deity+inauthor:Jennifer%20L%20Armentrout&maxResults=1', 'https://www.googleapis.com/books/v1/volumes?q=intitle:Magic%20Slays+inauthor:Ilona%20Andrews&maxResults=1', 'https://www.googleapis.com/books/v1/volumes?q=intitle:The%20Fairy%20Godmother+inauthor:Mercedes%20Lackey&maxResults=1', 'https://www.googleapis.com/books/v1/volumes?q=intitle:Hostage%20to%20Pleasure+inauthor:Nalini%20Singh&maxResults=1', 'https://www.googleapis.com/books/v1/volumes?q=intitle:Filthy%20Rich%20Fae+inauthor:Geneva%20Lee&maxResults=1', 'https://www.googleapis.com/books/v1/volumes?q=intitle:The%20Wolf%20&%20the%20Wildflower+inauthor:Ella%20Fields&maxResults=1', 'https://www.googleapis.com/books/v1/volumes?q=intitle:The%20Kiss%20Curse+inauthor:Erin%20Sterling&maxResults=1', 'https://www.googleapis.com/books/v1/volumes?q=intitle:Promises%20and%20Pomegranates+inauthor:Sav%20R%20Miller&maxResults=1', 'https://www.googleapis.com/books/v1/volumes?q=intitle:Covet+inauthor:Tracy%20Wolff&maxResults=1', 'https://www.googleapis.com/books/v1/volumes?q=intitle:Bitterburn+inauthor:Ann%20Aguirre&maxResults=1', 'https://www.googleapis.com/books/v1/volumes?q=intitle:War%20of%20Hearts+inauthor:S%20Young&maxResults=1', 'https://www.googleapis.com/books/v1/volumes?q=intitle:Song%20of%20Blood%20&%20Stone+inauthor:L%20Penelope&maxResults=1', 'https://www.googleapis.com/books/v1/volumes?q=intitle:The%20Young%20Elites+inauthor:Marie%20Lu&maxResults=1', 'https://www.googleapis.com/books/v1/volumes?q=intitle:Apollyon+inauthor:Jennifer%20L%20Armentrout&maxResults=1', 'https://www.googleapis.com/books/v1/volumes?q=intitle:Torment+inauthor:Lauren%20Kate&maxResults=1', 'https://www.googleapis.com/books/v1/volumes?q=intitle:Skyshade+inauthor:Alex%20Aster&maxResults=1', 'https://www.googleapis.com/books/v1/volumes?q=intitle:Till%20Death+inauthor:Miranda%20Lyn&maxResults=1', 'https://www.googleapis.com/books/v1/volumes?q=intitle:The%20Familiar+inauthor:Leigh%20Bardugo&maxResults=1', 'https://www.googleapis.com/books/v1/volumes?q=intitle:Tress%20of%20the%20Emerald%20Sea+inauthor:Brandon%20Sanderson&maxResults=1', 'https://www.googleapis.com/books/v1/volumes?q=intitle:Barbarian%20Lover+inauthor:Ru&maxResults=1', 'https://www.googleapis.com/books/v1/volumes?q=intitle:The%20Calm%20Before%20the%20Storm+inauthor:Danielle%20L%20Jensen&maxResults=1', 'https://www.googleapis.com/books/v1/volumes?q=intitle:The%20Unseelie%20Throne+inauthor:Kathryn%20Ann%20Kingsley&maxResults=1', 'https://www.googleapis.com/books/v1/volumes?q=intitle:Ruins%20of%20Chaos+inauthor:Amelia%20Hutchins&maxResults=1', 'https://www.googleapis.com/books/v1/volumes?q=intitle:Reveal%20Me+inauthor:Tahereh%20Mafi&maxResults=1', 'https://www.googleapis.com/books/v1/volumes?q=intitle:Girls%20of%20Paper%20and%20Fire+inauthor:Natasha%20Ngan&maxResults=1', 'https://www.googleapis.com/books/v1/volumes?q=intitle:The%20Lightning-Struck%20Heart+inauthor:TJ%20Klune&maxResults=1', 'https://www.googleapis.com/books/v1/volumes?q=intitle:Sentinel+inauthor:Jennifer%20L%20Armentrout&maxResults=1', 'https://www.googleapis.com/books/v1/volumes?q=intitle:Heart%20of%20Obsidian+inauthor:Nalini%20Singh&maxResults=1', \"https://www.googleapis.com/books/v1/volumes?q=intitle:Shadow's%20Claim+inauthor:Kresley%20Cole&maxResults=1\", 'https://www.googleapis.com/books/v1/volumes?q=intitle:The%20Hundred%20Thousand%20Kingdoms+inauthor:NK%20Jemisin&maxResults=1', 'https://www.googleapis.com/books/v1/volumes?q=intitle:Mine%20to%20Possess+inauthor:Nalini%20Singh&maxResults=1', 'https://www.googleapis.com/books/v1/volumes?q=intitle:The%20Iron%20Queen+inauthor:Julie%20Kagawa&maxResults=1', 'https://www.googleapis.com/books/v1/volumes?q=intitle:Evermore+inauthor:Alyson%20Noel&maxResults=1', 'https://www.googleapis.com/books/v1/volumes?q=intitle:The%20Serpent%20and%20the%20Wolf+inauthor:Rebecca%20Robinson&maxResults=1', 'https://www.googleapis.com/books/v1/volumes?q=intitle:The%20God%20and%20the%20Gumiho+inauthor:Sophie%20Kim&maxResults=1', 'https://www.googleapis.com/books/v1/volumes?q=intitle:Twilight%20of%20Embers+inauthor:Tessa%20Hale&maxResults=1', 'https://www.googleapis.com/books/v1/volumes?q=intitle:Beyond%20the%20Veil+inauthor:Caroline%20Peckham&maxResults=1', 'https://www.googleapis.com/books/v1/volumes?q=intitle:Taken%20by%20the%20Dark%20Elf%20King+inauthor:Charlotte%20Swan&maxResults=1', 'https://www.googleapis.com/books/v1/volumes?q=intitle:The%20WitchSlayer+inauthor:Opal%20Reyne&maxResults=1', 'https://www.googleapis.com/books/v1/volumes?q=intitle:Heart%20of%20Silk%20and%20Shadows+inauthor:Lisette%20Marshall&maxResults=1', 'https://www.googleapis.com/books/v1/volumes?q=intitle:The%20Contortionist+inauthor:Kathryn%20Ann%20Kingsley&maxResults=1', 'https://www.googleapis.com/books/v1/volumes?q=intitle:A%20Song%20of%20Wraiths%20and%20Ruin+inauthor:Roseanne%20A%20Brown&maxResults=1', 'https://www.googleapis.com/books/v1/volumes?q=intitle:Gypsy%20Blood+inauthor:Kristy%20Cunning&maxResults=1', 'https://www.googleapis.com/books/v1/volumes?q=intitle:Poison%20Princess+inauthor:Kresley%20Cole&maxResults=1', \"https://www.googleapis.com/books/v1/volumes?q=intitle:Archangel's%20Storm+inauthor:Nalini%20Singh&maxResults=1\", 'https://www.googleapis.com/books/v1/volumes?q=intitle:Wyvern+inauthor:Grace%20Draven&maxResults=1', 'https://www.googleapis.com/books/v1/volumes?q=intitle:Kiss%20of%20Snow+inauthor:Nalini%20Singh&maxResults=1', 'https://www.googleapis.com/books/v1/volumes?q=intitle:Mockingjay+inauthor:Suzanne%20Collins&maxResults=1', 'https://www.googleapis.com/books/v1/volumes?q=intitle:Kiss%20of%20the%20Highlander+inauthor:Karen%20Marie%20Moning&maxResults=1', 'https://www.googleapis.com/books/v1/volumes?q=intitle:Summers%20at%20Castle%20Auburn+inauthor:Sharon%20Shinn&maxResults=1', 'https://www.googleapis.com/books/v1/volumes?q=intitle:Eclipse%20of%20the%20Crown+inauthor:AK%20Caggiano&maxResults=1', 'https://www.googleapis.com/books/v1/volumes?q=intitle:Spells%20for%20Forgetting+inauthor:Adrienne%20Young&maxResults=1', 'https://www.googleapis.com/books/v1/volumes?q=intitle:The%20Elf%20Tangent+inauthor:Lindsay%20Buroker&maxResults=1', 'https://www.googleapis.com/books/v1/volumes?q=intitle:Stolen%20by%20the%20Wolves+inauthor:Lyx%20Robinson&maxResults=1', 'https://www.googleapis.com/books/v1/volumes?q=intitle:Crimes%20of%20Cupidity+inauthor:Raven%20Kennedy&maxResults=1', \"https://www.googleapis.com/books/v1/volumes?q=intitle:Kushiel's%20Scion+inauthor:Jacqueline%20Carey&maxResults=1\", 'https://www.googleapis.com/books/v1/volumes?q=intitle:Wicked%20Ugly%20Bad+inauthor:Cassandra%20Gannon&maxResults=1', 'https://www.googleapis.com/books/v1/volumes?q=intitle:Red%20Rope%20of%20Fate+inauthor:KM%20Shea&maxResults=1', 'https://www.googleapis.com/books/v1/volumes?q=intitle:Last%20Dragon%20Standing+inauthor:GA%20Aiken&maxResults=1', 'https://www.googleapis.com/books/v1/volumes?q=intitle:The%20Dark%20Highlander+inauthor:Karen%20Marie%20Moning&maxResults=1', 'https://www.googleapis.com/books/v1/volumes?q=intitle:Between%20Life%20and%20Death+inauthor:Jaclyn%20Kot&maxResults=1', 'https://www.googleapis.com/books/v1/volumes?q=intitle:Tethered+inauthor:Elayna%20R%20Gallea&maxResults=1', 'https://www.googleapis.com/books/v1/volumes?q=intitle:Kiss%20of%20the%20Selkie+inauthor:Tessonja%20Odette&maxResults=1', 'https://www.googleapis.com/books/v1/volumes?q=intitle:Fire%20Heart+inauthor:Emma%20Hamm&maxResults=1', 'https://www.googleapis.com/books/v1/volumes?q=intitle:Grace%20and%20Glory+inauthor:Jennifer%20L%20Armentrout&maxResults=1', 'https://www.googleapis.com/books/v1/volumes?q=intitle:Kill%20the%20Queen+inauthor:Jennifer%20Estep&maxResults=1', 'https://www.googleapis.com/books/v1/volumes?q=intitle:The%20Kingpin%20of%20Camelot+inauthor:Cassandra%20Gannon&maxResults=1', 'https://www.googleapis.com/books/v1/volumes?q=intitle:One%20Fell%20Sweep+inauthor:Ilona%20Andrews&maxResults=1', 'https://www.googleapis.com/books/v1/volumes?q=intitle:Sweep%20in%20Peace+inauthor:Ilona%20Andrews&maxResults=1', 'https://www.googleapis.com/books/v1/volumes?q=intitle:Snow%20Like%20Ashes+inauthor:Sara%20Raasch&maxResults=1', 'https://www.googleapis.com/books/v1/volumes?q=intitle:Lover%20Unleashed+inauthor:JR%20Ward&maxResults=1', 'https://www.googleapis.com/books/v1/volumes?q=intitle:Passion+inauthor:Lauren%20Kate&maxResults=1', 'https://www.googleapis.com/books/v1/volumes?q=intitle:Ella%20Enchanted+inauthor:Gail%20Carson%20Levine&maxResults=1', \"https://www.googleapis.com/books/v1/volumes?q=intitle:The%20Mage's%20Daughter+inauthor:Lynn%20Kurland&maxResults=1\", 'https://www.googleapis.com/books/v1/volumes?q=intitle:Never%20Keep+inauthor:Caroline%20Peckham&maxResults=1', 'https://www.googleapis.com/books/v1/volumes?q=intitle:Shadow%20&%20Storms+inauthor:Helen%20Scheuerer&maxResults=1', 'https://www.googleapis.com/books/v1/volumes?q=intitle:The%20Half%20King+inauthor:Melissa%20Landers&maxResults=1', 'https://www.googleapis.com/books/v1/volumes?q=intitle:The%20Phoenix%20King+inauthor:Aparna%20Verma&maxResults=1', 'https://www.googleapis.com/books/v1/volumes?q=intitle:The%20Seven%20Year%20Slip+inauthor:Ashley%20Poston&maxResults=1', 'https://www.googleapis.com/books/v1/volumes?q=intitle:A%20Prince%20So%20Cruel+inauthor:Ingrid%20Seymour&maxResults=1', 'https://www.googleapis.com/books/v1/volumes?q=intitle:A%20Kingdom%20of%20Flame%20and%20Fury+inauthor:Whitney%20Dean&maxResults=1', 'https://www.googleapis.com/books/v1/volumes?q=intitle:The%20Beast+inauthor:Jenika%20Snow&maxResults=1', 'https://www.googleapis.com/books/v1/volumes?q=intitle:The%20Blood%20That%20Binds%20Us+inauthor:Erin%20Mainord&maxResults=1', 'https://www.googleapis.com/books/v1/volumes?q=intitle:The%20League%20of%20Gentlewomen%20Witches+inauthor:India%20Holton&maxResults=1', 'https://www.googleapis.com/books/v1/volumes?q=intitle:For%20the%20Throne+inauthor:Hannah%20F%20Whitten&maxResults=1', 'https://www.googleapis.com/books/v1/volumes?q=intitle:Masters%20of%20Death+inauthor:Olivie%20Blake&maxResults=1', 'https://www.googleapis.com/books/v1/volumes?q=intitle:Shadow%20Wings+inauthor:Raye%20Wagner&maxResults=1', 'https://www.googleapis.com/books/v1/volumes?q=intitle:The%20Beautiful%20Ones+inauthor:Silvia%20Moreno-Garcia&maxResults=1', 'https://www.googleapis.com/books/v1/volumes?q=intitle:MacRieve+inauthor:Kresley%20Cole&maxResults=1', 'https://www.googleapis.com/books/v1/volumes?q=intitle:The%20Unbecoming%20of%20Mara%20Dyer+inauthor:Michelle%20Hodkin&maxResults=1', 'https://www.googleapis.com/books/v1/volumes?q=intitle:Branded%20by%20Fire+inauthor:Nalini%20Singh&maxResults=1', 'https://www.googleapis.com/books/v1/volumes?q=intitle:Bayou%20Moon+inauthor:Ilona%20Andrews&maxResults=1', 'https://www.googleapis.com/books/v1/volumes?q=intitle:Archangel+inauthor:Sharon%20Shinn&maxResults=1', 'https://www.googleapis.com/books/v1/volumes?q=intitle:Spectacular+inauthor:Stephanie%20Garber&maxResults=1', \"https://www.googleapis.com/books/v1/volumes?q=intitle:Paladin's%20Faith+inauthor:T%20Kingfisher&maxResults=1\", 'https://www.googleapis.com/books/v1/volumes?q=intitle:A%20River%20of%20Golden%20Bones+inauthor:AK%20Mulford&maxResults=1', 'https://www.googleapis.com/books/v1/volumes?q=intitle:Court%20of%20Tricksters+inauthor:SL%20Prater&maxResults=1', 'https://www.googleapis.com/books/v1/volumes?q=intitle:Wretched+inauthor:Emily%20McIntire&maxResults=1', 'https://www.googleapis.com/books/v1/volumes?q=intitle:Raven%20Unveiled+inauthor:Grace%20Draven&maxResults=1', 'https://www.googleapis.com/books/v1/volumes?q=intitle:Night%20of%20Masks%20and%20Knives+inauthor:LJ%20Andrews&maxResults=1', 'https://www.googleapis.com/books/v1/volumes?q=intitle:The%20Unseelie%20King+inauthor:Kathryn%20Ann%20Kingsley&maxResults=1', 'https://www.googleapis.com/books/v1/volumes?q=intitle:To%20Snap%20a%20Silver%20Stem+inauthor:Sarah%20A%20Parker&maxResults=1', 'https://www.googleapis.com/books/v1/volumes?q=intitle:Little%20Thieves+inauthor:Margaret%20Owen&maxResults=1', 'https://www.googleapis.com/books/v1/volumes?q=intitle:Bloodmarked+inauthor:Tracy%20Deonn&maxResults=1', 'https://www.googleapis.com/books/v1/volumes?q=intitle:Renegades+inauthor:Marissa%20Meyer&maxResults=1', 'https://www.googleapis.com/books/v1/volumes?q=intitle:This%20Is%20How%20You%20Lose%20the%20Time%20War+inauthor:Amal%20El-Mohtar&maxResults=1', 'https://www.googleapis.com/books/v1/volumes?q=intitle:Soul%20in%20Darkness+inauthor:Wendy%20Higgins&maxResults=1', 'https://www.googleapis.com/books/v1/volumes?q=intitle:Sweep%20of%20the%20Blade+inauthor:Ilona%20Andrews&maxResults=1', 'https://www.googleapis.com/books/v1/volumes?q=intitle:Playing%20with%20Monsters+inauthor:Amelia%20Hutchins&maxResults=1', 'https://www.googleapis.com/books/v1/volumes?q=intitle:Dark%20Skye+inauthor:Kresley%20Cole&maxResults=1', 'https://www.googleapis.com/books/v1/volumes?q=intitle:Vengeance%20Born+inauthor:Kylie%20Griffin&maxResults=1', 'https://www.googleapis.com/books/v1/volumes?q=intitle:Dead%20to%20the%20World+inauthor:Charlaine%20Harris&maxResults=1', 'https://www.googleapis.com/books/v1/volumes?q=intitle:Club%20Dead+inauthor:Charlaine%20Harris&maxResults=1', 'https://www.googleapis.com/books/v1/volumes?q=intitle:Catching%20Fire+inauthor:Suzanne%20Collins&maxResults=1', 'https://www.googleapis.com/books/v1/volumes?q=intitle:The%20Horde%20King%20of%20Shadow+inauthor:Zoey%20Draven&maxResults=1', 'https://www.googleapis.com/books/v1/volumes?q=intitle:Yumi%20and%20the%20Nightmare%20Painter+inauthor:Brandon%20Sanderson&maxResults=1', 'https://www.googleapis.com/books/v1/volumes?q=intitle:The%20Throne%20of%20Honor%20and%20Blood+inauthor:J%20Bree&maxResults=1', 'https://www.googleapis.com/books/v1/volumes?q=intitle:Lady%20of%20Embers+inauthor:Melissa%20K%20Roehrich&maxResults=1', 'https://www.googleapis.com/books/v1/volumes?q=intitle:Rise%20of%20the%20Dawnbringer+inauthor:IA%20Takerian&maxResults=1', \"https://www.googleapis.com/books/v1/volumes?q=intitle:The%20Demon's%20Bargain+inauthor:Katee%20Robert&maxResults=1\", 'https://www.googleapis.com/books/v1/volumes?q=intitle:Shadow%20Lands+inauthor:Stacey%20Marie%20Brown&maxResults=1', \"https://www.googleapis.com/books/v1/volumes?q=intitle:The%20Gargoyle's%20Captive+inauthor:Katee%20Robert&maxResults=1\", 'https://www.googleapis.com/books/v1/volumes?q=intitle:Garden%20of%20Serpents+inauthor:CN%20Crawford&maxResults=1', 'https://www.googleapis.com/books/v1/volumes?q=intitle:Entranced+inauthor:Sylvia%20Mercedes&maxResults=1', \"https://www.googleapis.com/books/v1/volumes?q=intitle:Payback's%20a%20Witch+inauthor:Lana%20Harper&maxResults=1\", 'https://www.googleapis.com/books/v1/volumes?q=intitle:Crown%20of%20Chaos+inauthor:Amelia%20Hutchins&maxResults=1', 'https://www.googleapis.com/books/v1/volumes?q=intitle:A%20Deadly%20Education+inauthor:Naomi%20Novik&maxResults=1', 'https://www.googleapis.com/books/v1/volumes?q=intitle:The%20Gilded%20Wolves+inauthor:Roshani%20Chokshi&maxResults=1', 'https://www.googleapis.com/books/v1/volumes?q=intitle:A%20Wilderness%20of%20Glass+inauthor:Grace%20Draven&maxResults=1', 'https://www.googleapis.com/books/v1/volumes?q=intitle:Chain%20of%20Thorns+inauthor:Cassandra%20Clare&maxResults=1', 'https://www.googleapis.com/books/v1/volumes?q=intitle:The%20Girl%20in%20the%20Tower+inauthor:Katherine%20Arden&maxResults=1', 'https://www.googleapis.com/books/v1/volumes?q=intitle:Magic%20Rises+inauthor:Ilona%20Andrews&maxResults=1', 'https://www.googleapis.com/books/v1/volumes?q=intitle:Heartstone+inauthor:Elle%20Katharine%20White&maxResults=1', 'https://www.googleapis.com/books/v1/volumes?q=intitle:The%20Heir+inauthor:Kiera%20Cass&maxResults=1', 'https://www.googleapis.com/books/v1/volumes?q=intitle:Midnight%20Soul+inauthor:Kristen%20Ashley&maxResults=1', 'https://www.googleapis.com/books/v1/volumes?q=intitle:Legend+inauthor:Marie%20Lu&maxResults=1', 'https://www.googleapis.com/books/v1/volumes?q=intitle:Lover%20Reborn+inauthor:JR%20Ward&maxResults=1', 'https://www.googleapis.com/books/v1/volumes?q=intitle:Dead%20as%20a%20Doornail+inauthor:Charlaine%20Harris&maxResults=1', 'https://www.googleapis.com/books/v1/volumes?q=intitle:Acheron+inauthor:Sherrilyn%20Kenyon&maxResults=1', 'https://www.googleapis.com/books/v1/volumes?q=intitle:Night%20Embrace+inauthor:Sherrilyn%20Kenyon&maxResults=1', 'https://www.googleapis.com/books/v1/volumes?q=intitle:The%20Scattered%20Bones+inauthor:Nicole%20Scarano&maxResults=1', 'https://www.googleapis.com/books/v1/volumes?q=intitle:Embers%20in%20the%20Snow+inauthor:Anna%20Carven&maxResults=1', 'https://www.googleapis.com/books/v1/volumes?q=intitle:Gilded%20Wings+inauthor:Jaymin%20Eve&maxResults=1', 'https://www.googleapis.com/books/v1/volumes?q=intitle:Ruins%20of%20Sea%20and%20Souls+inauthor:Lisette%20Marshall&maxResults=1', 'https://www.googleapis.com/books/v1/volumes?q=intitle:The%20Broken%20Elf%20King+inauthor:Leia%20Stone&maxResults=1', 'https://www.googleapis.com/books/v1/volumes?q=intitle:The%20Last%20Daughter+inauthor:Alexis%20L%20Menard&maxResults=1', 'https://www.googleapis.com/books/v1/volumes?q=intitle:The%20Sin%20of%20Saints+inauthor:Lauren%20M%20Leasure&maxResults=1', 'https://www.googleapis.com/books/v1/volumes?q=intitle:The%20Hunt+inauthor:Frost%20Kay&maxResults=1', 'https://www.googleapis.com/books/v1/volumes?q=intitle:Bryony%20and%20Roses+inauthor:T%20Kingfisher&maxResults=1', \"https://www.googleapis.com/books/v1/volumes?q=intitle:Storm's%20Heart+inauthor:Thea%20Harrison&maxResults=1\", 'https://www.googleapis.com/books/v1/volumes?q=intitle:The%20Immortal%20Highlander+inauthor:Karen%20Marie%20Moning&maxResults=1', 'https://www.googleapis.com/books/v1/volumes?q=intitle:Worthy%20of%20Fate+inauthor:AN%20Caudle&maxResults=1', 'https://www.googleapis.com/books/v1/volumes?q=intitle:Soul%20of%20a%20Witch+inauthor:Harley%20Laroux&maxResults=1', 'https://www.googleapis.com/books/v1/volumes?q=intitle:A%20Dawn%20with%20the%20Wolf%20Knight+inauthor:Elise%20Kova&maxResults=1', 'https://www.googleapis.com/books/v1/volumes?q=intitle:Bring%20Me%20Your%20Midnight+inauthor:Rachel%20Griffin&maxResults=1', 'https://www.googleapis.com/books/v1/volumes?q=intitle:The%20Warrior%20Midwife+inauthor:EP%20Bali&maxResults=1', 'https://www.googleapis.com/books/v1/volumes?q=intitle:A%20Crown%20of%20Ivy%20and%20Glass+inauthor:Claire%20Legrand&maxResults=1', 'https://www.googleapis.com/books/v1/volumes?q=intitle:Lore%20Olympus:%20Volume%20Two+inauthor:Rachel%20Smythe&maxResults=1', 'https://www.googleapis.com/books/v1/volumes?q=intitle:The%20Poppy%20War+inauthor:RF%20Kuang&maxResults=1', 'https://www.googleapis.com/books/v1/volumes?q=intitle:The%20Midnight%20Bargain+inauthor:CL%20Polk&maxResults=1', 'https://www.googleapis.com/books/v1/volumes?q=intitle:Girl,%20Serpent,%20Thorn+inauthor:Melissa%20Bashardoust&maxResults=1', 'https://www.googleapis.com/books/v1/volumes?q=intitle:Three%20Dark%20Crowns+inauthor:Kendare%20Blake&maxResults=1', 'https://www.googleapis.com/books/v1/volumes?q=intitle:Chosen+inauthor:KF%20Breene&maxResults=1', 'https://www.googleapis.com/books/v1/volumes?q=intitle:Rapture+inauthor:Lauren%20Kate&maxResults=1', 'https://www.googleapis.com/books/v1/volumes?q=intitle:The%20Battle%20Sylph+inauthor:LJ%20McDonald&maxResults=1', 'https://www.googleapis.com/books/v1/volumes?q=intitle:The%20Darkest%20Kiss+inauthor:Gena%20Showalter&maxResults=1', 'https://www.googleapis.com/books/v1/volumes?q=intitle:A%20Kiss%20of%20Shadows+inauthor:Laurell%20K%20Hamilton&maxResults=1', 'https://www.googleapis.com/books/v1/volumes?q=intitle:Storm%20of%20Secrets%20and%20Sorrow+inauthor:Melissa%20K%20Roehrich&maxResults=1', 'https://www.googleapis.com/books/v1/volumes?q=intitle:To%20Kill%20a%20Shadow+inauthor:Katherine%20Quinn&maxResults=1', 'https://www.googleapis.com/books/v1/volumes?q=intitle:Of%20Shadow%20and%20Moonlight+inauthor:Luna%20Laurier&maxResults=1', 'https://www.googleapis.com/books/v1/volumes?q=intitle:Vow%20of%20the%20Shadow%20King+inauthor:Sylvia%20Mercedes&maxResults=1', 'https://www.googleapis.com/books/v1/volumes?q=intitle:Sweet%20Berries+inauthor:CM%20Nascosta&maxResults=1', 'https://www.googleapis.com/books/v1/volumes?q=intitle:The%20Darkening+inauthor:Sunya%20Mara&maxResults=1', \"https://www.googleapis.com/books/v1/volumes?q=intitle:Leviathan's%20Song+inauthor:Elsie%20Winters&maxResults=1\", 'https://www.googleapis.com/books/v1/volumes?q=intitle:Ensnared+inauthor:Tiffany%20Roberts&maxResults=1', 'https://www.googleapis.com/books/v1/volumes?q=intitle:Music%20of%20the%20Night+inauthor:Angela%20J%20Ford&maxResults=1', 'https://www.googleapis.com/books/v1/volumes?q=intitle:Of%20Goblins%20and%20Gold+inauthor:Emma%20Hamm&maxResults=1', 'https://www.googleapis.com/books/v1/volumes?q=intitle:Aerie+inauthor:SE%20Wendel&maxResults=1', 'https://www.googleapis.com/books/v1/volumes?q=intitle:Muse%20of%20Nightmares+inauthor:Laini%20Taylor&maxResults=1', \"https://www.googleapis.com/books/v1/volumes?q=intitle:Wayfarer's%20Keep+inauthor:TA%20White&maxResults=1\", 'https://www.googleapis.com/books/v1/volumes?q=intitle:Magic%20Breaks+inauthor:Ilona%20Andrews&maxResults=1', 'https://www.googleapis.com/books/v1/volumes?q=intitle:The%20Queen%20of%20the%20Tearling+inauthor:Erika%20Johansen&maxResults=1', 'https://www.googleapis.com/books/v1/volumes?q=intitle:Warcry+inauthor:Elizabeth%20Vaughan&maxResults=1', 'https://www.googleapis.com/books/v1/volumes?q=intitle:Switched+inauthor:Amanda%20Hocking&maxResults=1', 'https://www.googleapis.com/books/v1/volumes?q=intitle:Blood%20Bound+inauthor:Patricia%20Briggs&maxResults=1', 'https://www.googleapis.com/books/v1/volumes?q=intitle:Heart%20Mate+inauthor:Robin%20D%20Owens&maxResults=1', 'https://www.googleapis.com/books/v1/volumes?q=intitle:All%20Together%20Dead+inauthor:Charlaine%20Harris&maxResults=1', 'https://www.googleapis.com/books/v1/volumes?q=intitle:Vesselless+inauthor:Cortney%20L%20Winn&maxResults=1', 'https://www.googleapis.com/books/v1/volumes?q=intitle:Blood%20Oath+inauthor:Morgan%20B%20Lee&maxResults=1', 'https://www.googleapis.com/books/v1/volumes?q=intitle:Consort%20of%20Fire+inauthor:Kit%20Rocha&maxResults=1', 'https://www.googleapis.com/books/v1/volumes?q=intitle:Visions%20of%20Flesh%20and%20Blood:%20A%20Blood%20and%20Ash/Flesh%20and%20Fire%20Compendium+inauthor:Jennifer%20L%20Armentrout&maxResults=1', 'https://www.googleapis.com/books/v1/volumes?q=intitle:To%20Flame%20a%20Wild%20Flower+inauthor:Sarah%20A%20Parker&maxResults=1', 'https://www.googleapis.com/books/v1/volumes?q=intitle:A%20Taste%20of%20Poison+inauthor:Tessonja%20Odette&maxResults=1', 'https://www.googleapis.com/books/v1/volumes?q=intitle:Barbarian%20Mine+inauthor:Ru&maxResults=1', 'https://www.googleapis.com/books/v1/volumes?q=intitle:Tricky%20Magic+inauthor:LL%20Campbell&maxResults=1', 'https://www.googleapis.com/books/v1/volumes?q=intitle:A%20Throne%20of%20Feathers%20and%20Bone+inauthor:Shannon%20Mayer&maxResults=1', 'https://www.googleapis.com/books/v1/volumes?q=intitle:A%20Veil%20of%20Truth%20and%20Trickery+inauthor:Analeigh%20Ford&maxResults=1', 'https://www.googleapis.com/books/v1/volumes?q=intitle:Witches%20Get%20Stitches+inauthor:Juliette%20Cross&maxResults=1', 'https://www.googleapis.com/books/v1/volumes?q=intitle:Celestial+inauthor:Olivia%20Wildenstein&maxResults=1', 'https://www.googleapis.com/books/v1/volumes?q=intitle:Cursed%20Prince+inauthor:CN%20Crawford&maxResults=1', 'https://www.googleapis.com/books/v1/volumes?q=intitle:His%20Darkest%20Craving+inauthor:Tiffany%20Roberts&maxResults=1', 'https://www.googleapis.com/books/v1/volumes?q=intitle:Saphirblau+inauthor:Kerstin%20Gier&maxResults=1', 'https://www.googleapis.com/books/v1/volumes?q=intitle:Hidden%20Huntress+inauthor:Danielle%20L%20Jensen&maxResults=1', 'https://www.googleapis.com/books/v1/volumes?q=intitle:The%20Darkest%20Part%20of%20the%20Forest+inauthor:Holly%20Black&maxResults=1', 'https://www.googleapis.com/books/v1/volumes?q=intitle:The%20Light%20Within+inauthor:Grace%20Draven&maxResults=1', 'https://www.googleapis.com/books/v1/volumes?q=intitle:A%20Hint%20of%20Frost+inauthor:Hailey%20Edwards&maxResults=1', 'https://www.googleapis.com/books/v1/volumes?q=intitle:The%20Iron%20Knight+inauthor:Julie%20Kagawa&maxResults=1', 'https://www.googleapis.com/books/v1/volumes?q=intitle:The%20Dragon%20Who%20Loved%20Me+inauthor:GA%20Aiken&maxResults=1', 'https://www.googleapis.com/books/v1/volumes?q=intitle:Keturah%20and%20Lord%20Death+inauthor:Martine%20Leavitt&maxResults=1', 'https://www.googleapis.com/books/v1/volumes?q=intitle:Bitten+inauthor:Kelley%20Armstrong&maxResults=1', 'https://www.googleapis.com/books/v1/volumes?q=intitle:Spell%20of%20the%20Highlander+inauthor:Karen%20Marie%20Moning&maxResults=1', 'https://www.googleapis.com/books/v1/volumes?q=intitle:Bull%20Moon%20Rising+inauthor:Ru&maxResults=1', 'https://www.googleapis.com/books/v1/volumes?q=intitle:The%20Night%20Ends%20with%20Fire+inauthor:KX%20Song&maxResults=1', 'https://www.googleapis.com/books/v1/volumes?q=intitle:The%20Memory%20Puller+inauthor:Kris%20K%20Haines&maxResults=1', 'https://www.googleapis.com/books/v1/volumes?q=intitle:Lords%20of%20the%20Hunt+inauthor:Kate%20King&maxResults=1', 'https://www.googleapis.com/books/v1/volumes?q=intitle:Bound%20to%20the%20Dark%20Elf%20King+inauthor:Jessica%20Grayson&maxResults=1', 'https://www.googleapis.com/books/v1/volumes?q=intitle:The%20Call%20of%20the%20Void+inauthor:SM%20Gaither&maxResults=1', 'https://www.googleapis.com/books/v1/volumes?q=intitle:Evil%20Twin+inauthor:Kati%20Wilde&maxResults=1', 'https://www.googleapis.com/books/v1/volumes?q=intitle:Book%20of%20Night+inauthor:Holly%20Black&maxResults=1', 'https://www.googleapis.com/books/v1/volumes?q=intitle:Snowspelled+inauthor:Stephanie%20Burgis&maxResults=1', 'https://www.googleapis.com/books/v1/volumes?q=intitle:The%20Return+inauthor:Jennifer%20L%20Armentrout&maxResults=1', 'https://www.googleapis.com/books/v1/volumes?q=intitle:Voyager+inauthor:Diana%20Gabaldon&maxResults=1', 'https://www.googleapis.com/books/v1/volumes?q=intitle:The%20Assassin%20and%20the%20Pirate%20Lord+inauthor:Sarah%20J%20Maas&maxResults=1', 'https://www.googleapis.com/books/v1/volumes?q=intitle:The%20Burning%20Sky+inauthor:Sherry%20Thomas&maxResults=1', 'https://www.googleapis.com/books/v1/volumes?q=intitle:Scent%20of%20Magic+inauthor:Maria%20V%20Snyder&maxResults=1', 'https://www.googleapis.com/books/v1/volumes?q=intitle:Insurgent+inauthor:Veronica%20Roth&maxResults=1', 'https://www.googleapis.com/books/v1/volumes?q=intitle:How%20to%20Drive%20a%20Dragon%20Crazy+inauthor:GA%20Aiken&maxResults=1', 'https://www.googleapis.com/books/v1/volumes?q=intitle:Definitely%20Dead+inauthor:Charlaine%20Harris&maxResults=1', 'https://www.googleapis.com/books/v1/volumes?q=intitle:The%20Iron%20Duke+inauthor:Meljean%20Brook&maxResults=1', 'https://www.googleapis.com/books/v1/volumes?q=intitle:Wildwood%20Dancing+inauthor:Juliet%20Marillier&maxResults=1', \"https://www.googleapis.com/books/v1/volumes?q=intitle:At%20Grave's%20End+inauthor:Jeaniene%20Frost&maxResults=1\", 'https://www.googleapis.com/books/v1/volumes?q=intitle:The%20Witchwood%20Knot+inauthor:Olivia%20Atwater&maxResults=1', 'https://www.googleapis.com/books/v1/volumes?q=intitle:House%20of%20Ash%20and%20Shadow+inauthor:Leia%20Stone&maxResults=1', 'https://www.googleapis.com/books/v1/volumes?q=intitle:A%20Touch%20of%20Poison+inauthor:Clare%20Sager&maxResults=1', 'https://www.googleapis.com/books/v1/volumes?q=intitle:Bite%20the%20Woman%20That%20Feeds+inauthor:Penelope%20Barsetti&maxResults=1', 'https://www.googleapis.com/books/v1/volumes?q=intitle:Bound%20by%20Ravens+inauthor:Jesikah%20Sundin&maxResults=1', 'https://www.googleapis.com/books/v1/volumes?q=intitle:Crossed+inauthor:Emily%20McIntire&maxResults=1', 'https://www.googleapis.com/books/v1/volumes?q=intitle:The%20Sword+inauthor:J%20Bree&maxResults=1', 'https://www.googleapis.com/books/v1/volumes?q=intitle:Twisted+inauthor:Emily%20McIntire&maxResults=1', 'https://www.googleapis.com/books/v1/volumes?q=intitle:Cruel%20Seduction+inauthor:Katee%20Robert&maxResults=1', 'https://www.googleapis.com/books/v1/volumes?q=intitle:To%20Poison%20a%20King+inauthor:SG%20Prince&maxResults=1', 'https://www.googleapis.com/books/v1/volumes?q=intitle:A%20City%20of%20Flames+inauthor:Rina%20Vasquez&maxResults=1', 'https://www.googleapis.com/books/v1/volumes?q=intitle:Mortal%20Skin+inauthor:Lily%20Mayne&maxResults=1', 'https://www.googleapis.com/books/v1/volumes?q=intitle:A%20Restless%20Truth+inauthor:Freya%20Marske&maxResults=1', 'https://www.googleapis.com/books/v1/volumes?q=intitle:Resting%20Witch%20Face+inauthor:Juliette%20Cross&maxResults=1', 'https://www.googleapis.com/books/v1/volumes?q=intitle:Always%20Practice%20Safe%20Hex+inauthor:Juliette%20Cross&maxResults=1', 'https://www.googleapis.com/books/v1/volumes?q=intitle:Cast%20in%20Firelight+inauthor:Dana%20Swift&maxResults=1', 'https://www.googleapis.com/books/v1/volumes?q=intitle:The%20Fallen+inauthor:CN%20Crawford&maxResults=1', 'https://www.googleapis.com/books/v1/volumes?q=intitle:When%20Wishes%20Bleed+inauthor:Casey%20L%20Bond&maxResults=1', 'https://www.googleapis.com/books/v1/volumes?q=intitle:The%20Beginning%20of%20Everything+inauthor:Kristen%20Ashley&maxResults=1', 'https://www.googleapis.com/books/v1/volumes?q=intitle:Strength+inauthor:Jane%20Washington&maxResults=1', 'https://www.googleapis.com/books/v1/volumes?q=intitle:Depravity+inauthor:MJ%20Haag&maxResults=1', \"https://www.googleapis.com/books/v1/volumes?q=intitle:Dreamer's%20Pool+inauthor:Juliet%20Marillier&maxResults=1\", 'https://www.googleapis.com/books/v1/volumes?q=intitle:The%20Demon%20King+inauthor:Cinda%20Williams%20Chima&maxResults=1', 'https://www.googleapis.com/books/v1/volumes?q=intitle:Play%20of%20Passion+inauthor:Nalini%20Singh&maxResults=1', \"https://www.googleapis.com/books/v1/volumes?q=intitle:Naamah's%20Kiss+inauthor:Jacqueline%20Carey&maxResults=1\", 'https://www.googleapis.com/books/v1/volumes?q=intitle:From%20Dead%20to%20Worse+inauthor:Charlaine%20Harris&maxResults=1', 'https://www.googleapis.com/books/v1/volumes?q=intitle:Child%20of%20the%20Prophecy+inauthor:Juliet%20Marillier&maxResults=1', 'https://www.googleapis.com/books/v1/volumes?q=intitle:Night%20Play+inauthor:Sherrilyn%20Kenyon&maxResults=1', 'https://www.googleapis.com/books/v1/volumes?q=intitle:World%20After+inauthor:Susan%20Ee&maxResults=1', 'https://www.googleapis.com/books/v1/volumes?q=intitle:Hoarded%20by%20the%20Dragon+inauthor:Lillian%20Lark&maxResults=1', 'https://www.googleapis.com/books/v1/volumes?q=intitle:To%20Hunt%20a%20Demon%20King+inauthor:Madeleine%20Eliot&maxResults=1', 'https://www.googleapis.com/books/v1/volumes?q=intitle:Bend%20Her+inauthor:Cassie%20Alexander&maxResults=1', 'https://www.googleapis.com/books/v1/volumes?q=intitle:Lady%20of%20Starfire+inauthor:Melissa%20K%20Roehrich&maxResults=1', 'https://www.googleapis.com/books/v1/volumes?q=intitle:The%20Sea%20Witch:%20A%20Little%20Mermaid%20Retelling+inauthor:Rebecca%20F%20Kenney&maxResults=1', 'https://www.googleapis.com/books/v1/volumes?q=intitle:Court%20of%20Greed%20and%20Gold+inauthor:Eliza%20Raine&maxResults=1', 'https://www.googleapis.com/books/v1/volumes?q=intitle:Order%20of%20Scorpions+inauthor:Ivy%20Asher&maxResults=1', 'https://www.googleapis.com/books/v1/volumes?q=intitle:A%20Forest%20of%20Stars+inauthor:Linsey%20Hall&maxResults=1', 'https://www.googleapis.com/books/v1/volumes?q=intitle:A%20Throne%20of%20Shadows+inauthor:Tessonja%20Odette&maxResults=1', \"https://www.googleapis.com/books/v1/volumes?q=intitle:The%20Witches'%20Blade+inauthor:AK%20Mulford&maxResults=1\", 'https://www.googleapis.com/books/v1/volumes?q=intitle:Court+inauthor:Tracy%20Wolff&maxResults=1', 'https://www.googleapis.com/books/v1/volumes?q=intitle:Under%20the%20Whispering%20Door+inauthor:TJ%20Klune&maxResults=1', 'https://www.googleapis.com/books/v1/volumes?q=intitle:Crown%20of%20Coral%20and%20Pearl+inauthor:Mara%20Rutherford&maxResults=1', 'https://www.googleapis.com/books/v1/volumes?q=intitle:Rules%20of%20Redemption+inauthor:TA%20White&maxResults=1', 'https://www.googleapis.com/books/v1/volumes?q=intitle:Silk%20&%20Steel+inauthor:Ariana%20Nash&maxResults=1', 'https://www.googleapis.com/books/v1/volumes?q=intitle:Diamond%20Fire+inauthor:Ilona%20Andrews&maxResults=1', 'https://www.googleapis.com/books/v1/volumes?q=intitle:Onyx%20and%20Ivory+inauthor:Mindee%20Arnett&maxResults=1', 'https://www.googleapis.com/books/v1/volumes?q=intitle:The%20Falconer+inauthor:Elizabeth%20May&maxResults=1', \"https://www.googleapis.com/books/v1/volumes?q=intitle:Archangel's%20Legion+inauthor:Nalini%20Singh&maxResults=1\", 'https://www.googleapis.com/books/v1/volumes?q=intitle:Lover%20at%20Last+inauthor:JR%20Ward&maxResults=1', 'https://www.googleapis.com/books/v1/volumes?q=intitle:Princess%20of%20the%20Sword+inauthor:Lynn%20Kurland&maxResults=1', 'https://www.googleapis.com/books/v1/volumes?q=intitle:Dark%20Prince+inauthor:Christine%20Feehan&maxResults=1', 'https://www.googleapis.com/books/v1/volumes?q=intitle:Legacy+inauthor:Lois%20McMaster%20Bujold&maxResults=1', 'https://www.googleapis.com/books/v1/volumes?q=intitle:Pleasure%20Unbound+inauthor:Larissa%20Ione&maxResults=1', 'https://www.googleapis.com/books/v1/volumes?q=intitle:Hawksong+inauthor:Amelia%20Atwater-Rhodes&maxResults=1', \"https://www.googleapis.com/books/v1/volumes?q=intitle:Steel's%20Edge+inauthor:Ilona%20Andrews&maxResults=1\", 'https://www.googleapis.com/books/v1/volumes?q=intitle:Immortal+inauthor:Sue%20Lynn%20Tan&maxResults=1', 'https://www.googleapis.com/books/v1/volumes?q=intitle:The%20Alpha%20of%20Bleake%20Isle+inauthor:Kathryn%20Moon&maxResults=1', 'https://www.googleapis.com/books/v1/volumes?q=intitle:Swordcrossed+inauthor:Freya%20Marske&maxResults=1', 'https://www.googleapis.com/books/v1/volumes?q=intitle:Thorns%20of%20Frost+inauthor:Krista%20Street&maxResults=1', 'https://www.googleapis.com/books/v1/volumes?q=intitle:Kingdom%20of%20Claw+inauthor:Demi%20Winters&maxResults=1', 'https://www.googleapis.com/books/v1/volumes?q=intitle:Crown%20of%20Earth%20and%20Sky+inauthor:Emberly%20Ash&maxResults=1', 'https://www.googleapis.com/books/v1/volumes?q=intitle:Servant%20to%20the%20Spidae+inauthor:Ru&maxResults=1', 'https://www.googleapis.com/books/v1/volumes?q=intitle:Psycho%20Academy+inauthor:Jasmine%20Mas&maxResults=1', 'https://www.googleapis.com/books/v1/volumes?q=intitle:A%20Magic%20Steeped%20in%20Poison+inauthor:Judy%20I%20Lin&maxResults=1', 'https://www.googleapis.com/books/v1/volumes?q=intitle:Broken%20by%20the%20Horde%20King+inauthor:Zoey%20Draven&maxResults=1', 'https://www.googleapis.com/books/v1/volumes?q=intitle:The%20Queen%20of%20Traitors+inauthor:Laura%20Thalassa&maxResults=1', 'https://www.googleapis.com/books/v1/volumes?q=intitle:Everless+inauthor:Sara%20Holland&maxResults=1', 'https://www.googleapis.com/books/v1/volumes?q=intitle:Silver%20Silence+inauthor:Nalini%20Singh&maxResults=1', 'https://www.googleapis.com/books/v1/volumes?q=intitle:Smaragdgrun+inauthor:Kerstin%20Gier&maxResults=1', 'https://www.googleapis.com/books/v1/volumes?q=intitle:Fantasy%20of%20Fire+inauthor:Kelly%20St%20Clare&maxResults=1', 'https://www.googleapis.com/books/v1/volumes?q=intitle:Fantasy%20of%20Flight+inauthor:Kelly%20St%20Clare&maxResults=1', 'https://www.googleapis.com/books/v1/volumes?q=intitle:Sweet%20Evil+inauthor:Wendy%20Higgins&maxResults=1', 'https://www.googleapis.com/books/v1/volumes?q=intitle:Transcendence+inauthor:Shay%20Savage&maxResults=1', 'https://www.googleapis.com/books/v1/volumes?q=intitle:The%20Scribe+inauthor:Elizabeth%20Hunter&maxResults=1', 'https://www.googleapis.com/books/v1/volumes?q=intitle:The%20Assassin%20and%20the%20Empire+inauthor:Sarah%20J%20Maas&maxResults=1', 'https://www.googleapis.com/books/v1/volumes?q=intitle:The%20King+inauthor:JR%20Ward&maxResults=1', 'https://www.googleapis.com/books/v1/volumes?q=intitle:Bloodlines+inauthor:Richelle%20Mead&maxResults=1', 'https://www.googleapis.com/books/v1/volumes?q=intitle:Queen%20of%20the%20Darkness+inauthor:Anne%20Bishop&maxResults=1', 'https://www.googleapis.com/books/v1/volumes?q=intitle:Heir%20to%20the%20Shadows+inauthor:Anne%20Bishop&maxResults=1', 'https://www.googleapis.com/books/v1/volumes?q=intitle:Dead%20and%20Gone+inauthor:Charlaine%20Harris&maxResults=1', 'https://www.googleapis.com/books/v1/volumes?q=intitle:The%20Sword+inauthor:Jean%20Johnson&maxResults=1', 'https://www.googleapis.com/books/v1/volumes?q=intitle:Iron%20Kissed+inauthor:Patricia%20Briggs&maxResults=1', \"https://www.googleapis.com/books/v1/volumes?q=intitle:Fate's%20Edge+inauthor:Ilona%20Andrews&maxResults=1\", 'https://www.googleapis.com/books/v1/volumes?q=intitle:The%20King%20of%20Frost%20and%20Shadows+inauthor:Jen%20L%20Grey&maxResults=1', 'https://www.googleapis.com/books/v1/volumes?q=intitle:Girls%20Weekend+inauthor:CM%20Nascosta&maxResults=1', 'https://www.googleapis.com/books/v1/volumes?q=intitle:A%20Soul%20to%20Touch+inauthor:Opal%20Reyne&maxResults=1', 'https://www.googleapis.com/books/v1/volumes?q=intitle:Taken%20by%20Fate+inauthor:Shannon%20Mayer&maxResults=1', 'https://www.googleapis.com/books/v1/volumes?q=intitle:Dark%20Water%20Daughter+inauthor:HM%20Long&maxResults=1', 'https://www.googleapis.com/books/v1/volumes?q=intitle:Silver%20Under%20Nightfall+inauthor:Rin%20Chupeco&maxResults=1', 'https://www.googleapis.com/books/v1/volumes?q=intitle:Lore%20Olympus:%20Volume%20Three+inauthor:Rachel%20Smythe&maxResults=1', 'https://www.googleapis.com/books/v1/volumes?q=intitle:Forging%20Silver%20into%20Stars+inauthor:Brigid%20Kemmerer&maxResults=1', 'https://www.googleapis.com/books/v1/volumes?q=intitle:Fly%20with%20the%20Arrow+inauthor:Sarah%20KL%20Wilson&maxResults=1', 'https://www.googleapis.com/books/v1/volumes?q=intitle:Storm%20&%20Shield+inauthor:JD%20Evans&maxResults=1', 'https://www.googleapis.com/books/v1/volumes?q=intitle:Reborn+inauthor:Jaymin%20Eve&maxResults=1', 'https://www.googleapis.com/books/v1/volumes?q=intitle:Madness%20of%20the%20Horde%20King+inauthor:Zoey%20Draven&maxResults=1', 'https://www.googleapis.com/books/v1/volumes?q=intitle:His%20Secret%20Illuminations+inauthor:Scarlett%20Gale&maxResults=1', 'https://www.googleapis.com/books/v1/volumes?q=intitle:Winter+inauthor:Audrey%20Grey&maxResults=1', 'https://www.googleapis.com/books/v1/volumes?q=intitle:The%20Midsummer%20Bride+inauthor:Kati%20Wilde&maxResults=1', 'https://www.googleapis.com/books/v1/volumes?q=intitle:In%20The%20Darkest%20Midnight+inauthor:Grace%20Draven&maxResults=1', 'https://www.googleapis.com/books/v1/volumes?q=intitle:Carve%20the%20Mark+inauthor:Veronica%20Roth&maxResults=1', 'https://www.googleapis.com/books/v1/volumes?q=intitle:Sweet%20Ruin+inauthor:Kresley%20Cole&maxResults=1', 'https://www.googleapis.com/books/v1/volumes?q=intitle:City%20in%20Embers+inauthor:Stacey%20Marie%20Brown&maxResults=1', 'https://www.googleapis.com/books/v1/volumes?q=intitle:Guilty%20Pleasures+inauthor:Laurell%20K%20Hamilton&maxResults=1', \"https://www.googleapis.com/books/v1/volumes?q=intitle:Assassin's%20Gambit+inauthor:Amy%20Ra&maxResults=1\", 'https://www.googleapis.com/books/v1/volumes?q=intitle:My%20Lady%20Mage+inauthor:Alexis%20Morgan&maxResults=1', 'https://www.googleapis.com/books/v1/volumes?q=intitle:Tangle%20of%20Need+inauthor:Nalini%20Singh&maxResults=1', 'https://www.googleapis.com/books/v1/volumes?q=intitle:Dance%20with%20the%20Devil+inauthor:Sherrilyn%20Kenyon&maxResults=1', 'https://www.googleapis.com/books/v1/volumes?q=intitle:Empire%20of%20Flame%20and%20Thorns+inauthor:Marion%20Blackwood&maxResults=1', 'https://www.googleapis.com/books/v1/volumes?q=intitle:Shadows%20So%20Cruel+inauthor:Liv%20Zander&maxResults=1', \"https://www.googleapis.com/books/v1/volumes?q=intitle:Can't%20Spell%20Treason%20Without%20Tea+inauthor:Rebecca%20Thorne&maxResults=1\", 'https://www.googleapis.com/books/v1/volumes?q=intitle:A%20Game%20of%20Malice%20and%20Greed+inauthor:Caroline%20Peckham&maxResults=1', 'https://www.googleapis.com/books/v1/volumes?q=intitle:Draco%20Malfoy%20and%20the%20Mortifying%20Ordeal%20of%20Being%20in%20Love+inauthor:isthisselfcare&maxResults=1', 'https://www.googleapis.com/books/v1/volumes?q=intitle:Nettle%20&%20Bone+inauthor:T%20Kingfisher&maxResults=1', 'https://www.googleapis.com/books/v1/volumes?q=intitle:Crown%20of%20Darkness+inauthor:Bec%20McMaster&maxResults=1', 'https://www.googleapis.com/books/v1/volumes?q=intitle:Cemetery%20Boys+inauthor:Aiden%20Thomas&maxResults=1', 'https://www.googleapis.com/books/v1/volumes?q=intitle:The%20Midnight%20Bride+inauthor:Kati%20Wilde&maxResults=1', 'https://www.googleapis.com/books/v1/volumes?q=intitle:Stalking%20Jack%20the%20Ripper+inauthor:Kerri%20Maniscalco&maxResults=1', 'https://www.googleapis.com/books/v1/volumes?q=intitle:The%20Darkest%20Star+inauthor:Jennifer%20L%20Armentrout&maxResults=1', 'https://www.googleapis.com/books/v1/volumes?q=intitle:Mistake%20of%20Magic+inauthor:Alex%20Lidell&maxResults=1', \"https://www.googleapis.com/books/v1/volumes?q=intitle:Kushiel's%20Justice+inauthor:Jacqueline%20Carey&maxResults=1\", 'https://www.googleapis.com/books/v1/volumes?q=intitle:Three%20Trials+inauthor:Kristy%20Cunning&maxResults=1', \"https://www.googleapis.com/books/v1/volumes?q=intitle:The%20Traitor's%20Kiss+inauthor:Erin%20Beaty&maxResults=1\", 'https://www.googleapis.com/books/v1/volumes?q=intitle:The%20Last%20Namsara+inauthor:Kristen%20Ciccarelli&maxResults=1', 'https://www.googleapis.com/books/v1/volumes?q=intitle:How%20to%20Tame%20a%20Beast%20in%20Seven%20Days+inauthor:Kerrelyn%20Sparks&maxResults=1', 'https://www.googleapis.com/books/v1/volumes?q=intitle:The%20V%20Girl:%20A%20Coming%20of%20Age%20Story+inauthor:Mya%20Robarts&maxResults=1', 'https://www.googleapis.com/books/v1/volumes?q=intitle:The%20Crown+inauthor:Kiera%20Cass&maxResults=1', 'https://www.googleapis.com/books/v1/volumes?q=intitle:Drums%20of%20Autumn+inauthor:Diana%20Gabaldon&maxResults=1', 'https://www.googleapis.com/books/v1/volumes?q=intitle:Lord%20of%20the%20Abyss+inauthor:Nalini%20Singh&maxResults=1', 'https://www.googleapis.com/books/v1/volumes?q=intitle:Allegiant+inauthor:Veronica%20Roth&maxResults=1', 'https://www.googleapis.com/books/v1/volumes?q=intitle:Bonds%20of%20Justice+inauthor:Nalini%20Singh&maxResults=1', 'https://www.googleapis.com/books/v1/volumes?q=intitle:Born%20of%20Night+inauthor:Sherrilyn%20Kenyon&maxResults=1', 'https://www.googleapis.com/books/v1/volumes?q=intitle:Heir%20to%20Sevenwaters+inauthor:Juliet%20Marillier&maxResults=1', 'https://www.googleapis.com/books/v1/volumes?q=intitle:Kiss%20of%20Midnight+inauthor:Lara%20Adrian&maxResults=1', 'https://www.googleapis.com/books/v1/volumes?q=intitle:Hallowed%20Games+inauthor:CN%20Crawford&maxResults=1', 'https://www.googleapis.com/books/v1/volumes?q=intitle:Bound%20to%20the%20Shadow%20Prince+inauthor:Ru&maxResults=1', 'https://www.googleapis.com/books/v1/volumes?q=intitle:Lakesedge+inauthor:Lyndall%20Clipstone&maxResults=1', 'https://www.googleapis.com/books/v1/volumes?q=intitle:The%20Aspect%20of%20Essence+inauthor:Samantha%20Amstutz&maxResults=1', 'https://www.googleapis.com/books/v1/volumes?q=intitle:Bespelled+inauthor:Laura%20Thalassa&maxResults=1', 'https://www.googleapis.com/books/v1/volumes?q=intitle:A%20Wildflower%20in%20the%20Wind+inauthor:Megan%20Shade&maxResults=1', 'https://www.googleapis.com/books/v1/volumes?q=intitle:Bookshops%20&%20Bonedust+inauthor:Travis%20Baldree&maxResults=1', 'https://www.googleapis.com/books/v1/volumes?q=intitle:The%20Last%20Tale%20of%20the%20Flower%20Bride+inauthor:Roshani%20Chokshi&maxResults=1', 'https://www.googleapis.com/books/v1/volumes?q=intitle:Reign%20of%20Night+inauthor:Sara%20C%20Roethle&maxResults=1', \"https://www.googleapis.com/books/v1/volumes?q=intitle:Daindreth's%20Assassin+inauthor:Elisabeth%20Wheatley&maxResults=1\", 'https://www.googleapis.com/books/v1/volumes?q=intitle:Guardian%20of%20the%20Drowned%20Empire+inauthor:Frankie%20Diane%20Mallis&maxResults=1', 'https://www.googleapis.com/books/v1/volumes?q=intitle:A%20Legacy%20of%20Storms%20and%20Starlight+inauthor:Victoria%20J%20Price&maxResults=1', 'https://www.googleapis.com/books/v1/volumes?q=intitle:Taken+inauthor:Katerina%20Martinez&maxResults=1', 'https://www.googleapis.com/books/v1/volumes?q=intitle:Shattered%20Kingdom+inauthor:Angelina%20J%20Steffort&maxResults=1', 'https://www.googleapis.com/books/v1/volumes?q=intitle:Beautiful%20Nightmares+inauthor:KJ%20Sutton&maxResults=1', \"https://www.googleapis.com/books/v1/volumes?q=intitle:Parallel+inauthor:Elizabeth%20O'Roark&maxResults=1\", 'https://www.googleapis.com/books/v1/volumes?q=intitle:Wayward%20Son+inauthor:Rainbow%20Rowell&maxResults=1', 'https://www.googleapis.com/books/v1/volumes?q=intitle:Shadow%20of%20the%20Fox+inauthor:Julie%20Kagawa&maxResults=1', \"https://www.googleapis.com/books/v1/volumes?q=intitle:Kushiel's%20Mercy+inauthor:Jacqueline%20Carey&maxResults=1\", 'https://www.googleapis.com/books/v1/volumes?q=intitle:End%20of%20Days+inauthor:Susan%20Ee&maxResults=1', 'https://www.googleapis.com/books/v1/volumes?q=intitle:Under%20the%20Never%20Sky+inauthor:Veronica%20Rossi&maxResults=1', \"https://www.googleapis.com/books/v1/volumes?q=intitle:Tiger's%20Curse+inauthor:Colleen%20Houck&maxResults=1\", 'https://www.googleapis.com/books/v1/volumes?q=intitle:Destined%20for%20an%20Early%20Grave+inauthor:Jeaniene%20Frost&maxResults=1', 'https://www.googleapis.com/books/v1/volumes?q=intitle:Devil%20May%20Cry+inauthor:Sherrilyn%20Kenyon&maxResults=1', 'https://www.googleapis.com/books/v1/volumes?q=intitle:WarBride+inauthor:Sylvia%20Mercedes&maxResults=1', 'https://www.googleapis.com/books/v1/volumes?q=intitle:A%20Song%20to%20Drown%20Rivers+inauthor:Ann%20Liang&maxResults=1', 'https://www.googleapis.com/books/v1/volumes?q=intitle:Broken%20by%20Daylight+inauthor:Elizabeth%20Helen&maxResults=1', 'https://www.googleapis.com/books/v1/volumes?q=intitle:Sanctuary%20of%20the%20Shadow+inauthor:Aurora%20Ascher&maxResults=1', 'https://www.googleapis.com/books/v1/volumes?q=intitle:What%20Sleeps%20Within%20the%20Cove+inauthor:Harper%20L%20Woods&maxResults=1', \"https://www.googleapis.com/books/v1/volumes?q=intitle:The%20King's%20Captive+inauthor:KM%20Shea&maxResults=1\", 'https://www.googleapis.com/books/v1/volumes?q=intitle:When%20Gracie%20Met%20the%20Grump+inauthor:Mariana%20Zapata&maxResults=1', 'https://www.googleapis.com/books/v1/volumes?q=intitle:Aisling:%20Breath%20of%20the%20New%20Creature+inauthor:AE%20Jurgens&maxResults=1', 'https://www.googleapis.com/books/v1/volumes?q=intitle:Bite%20of%20Loyalty+inauthor:RL%20Caulder&maxResults=1', 'https://www.googleapis.com/books/v1/volumes?q=intitle:Game%20of%20Hate%20and%20Lies+inauthor:LJ%20Andrews&maxResults=1', 'https://www.googleapis.com/books/v1/volumes?q=intitle:Grim%20and%20Bear%20It+inauthor:Juliette%20Cross&maxResults=1', 'https://www.googleapis.com/books/v1/volumes?q=intitle:Charm+inauthor:Tracy%20Wolff&maxResults=1', 'https://www.googleapis.com/books/v1/volumes?q=intitle:Not%20the%20Witch%20You%20Wed+inauthor:April%20Asher&maxResults=1', 'https://www.googleapis.com/books/v1/volumes?q=intitle:Court%20of%20Dragons+inauthor:Frost%20Kay&maxResults=1', 'https://www.googleapis.com/books/v1/volumes?q=intitle:Blade%20of%20Secrets+inauthor:Tricia%20Levenseller&maxResults=1', 'https://www.googleapis.com/books/v1/volumes?q=intitle:Starlight+inauthor:Olivia%20Wildenstein&maxResults=1', 'https://www.googleapis.com/books/v1/volumes?q=intitle:The%20Librarian%20and%20the%20Orc+inauthor:Finley%20Fenn&maxResults=1', 'https://www.googleapis.com/books/v1/volumes?q=intitle:The%20Heiress%20and%20the%20Orc+inauthor:Finley%20Fenn&maxResults=1', 'https://www.googleapis.com/books/v1/volumes?q=intitle:Clockwork%20Boys+inauthor:T%20Kingfisher&maxResults=1', 'https://www.googleapis.com/books/v1/volumes?q=intitle:The%20Winter%20of%20the%20Witch+inauthor:Katherine%20Arden&maxResults=1', 'https://www.googleapis.com/books/v1/volumes?q=intitle:The%20Lost%20and%20the%20Chosen+inauthor:Ivy%20Asher&maxResults=1', 'https://www.googleapis.com/books/v1/volumes?q=intitle:Black%20Crown+inauthor:Raye%20Wagner&maxResults=1', 'https://www.googleapis.com/books/v1/volumes?q=intitle:Magic%20Triumphs+inauthor:Ilona%20Andrews&maxResults=1', \"https://www.googleapis.com/books/v1/volumes?q=intitle:Allison's%20Adventures%20in%20Underland+inauthor:CM%20Stunich&maxResults=1\", 'https://www.googleapis.com/books/v1/volumes?q=intitle:Scythe+inauthor:Neal%20Shusterman&maxResults=1', \"https://www.googleapis.com/books/v1/volumes?q=intitle:Archangel's%20Enigma+inauthor:Nalini%20Singh&maxResults=1\", 'https://www.googleapis.com/books/v1/volumes?q=intitle:Crimson%20Bound+inauthor:Rosamund%20Hodge&maxResults=1', 'https://www.googleapis.com/books/v1/volumes?q=intitle:The%20Darkest%20Minds+inauthor:Alexandra%20Bracken&maxResults=1', 'https://www.googleapis.com/books/v1/volumes?q=intitle:Twice%20Tempted+inauthor:Jeaniene%20Frost&maxResults=1', 'https://www.googleapis.com/books/v1/volumes?q=intitle:Seraphina+inauthor:Rachel%20Hartman&maxResults=1', 'https://www.googleapis.com/books/v1/volumes?q=intitle:First%20Grave%20on%20the%20Right+inauthor:Darynda%20Jones&maxResults=1', 'https://www.googleapis.com/books/v1/volumes?q=intitle:Delirium+inauthor:Lauren%20Oliver&maxResults=1', 'https://www.googleapis.com/books/v1/volumes?q=intitle:The%20Scorpio%20Races+inauthor:Maggie%20Stiefvater&maxResults=1', 'https://www.googleapis.com/books/v1/volumes?q=intitle:Blaze%20of%20Memory+inauthor:Nalini%20Singh&maxResults=1', 'https://www.googleapis.com/books/v1/volumes?q=intitle:Split%20or%20Swallow+inauthor:Lindsay%20Straube&maxResults=1', 'https://www.googleapis.com/books/v1/volumes?q=intitle:Autumn%20of%20the%20Grimoire+inauthor:JL%20Vampa&maxResults=1', 'https://www.googleapis.com/books/v1/volumes?q=intitle:Curious%20Tides+inauthor:Pascale%20Lacelle&maxResults=1', 'https://www.googleapis.com/books/v1/volumes?q=intitle:The%20Prince%20of%20Prohibition+inauthor:Marilyn%20Marks&maxResults=1'])"
      ]
     },
     "execution_count": 22,
     "metadata": {},
     "output_type": "execute_result"
    }
   ],
   "source": [
    "full_book_dictionary.keys()"
   ]
  },
  {
   "cell_type": "code",
   "execution_count": 50,
   "metadata": {},
   "outputs": [
    {
     "data": {
      "text/plain": [
       "api_link            https://www.googleapis.com/books/v1/volumes?q=...\n",
       "title                                     A Court of Thorns and Roses\n",
       "author                                                   Sarah J Maas\n",
       "avg_rating                                                       4.18\n",
       "count_of_ratings                                            3,459,145\n",
       "publisher                                       Bloomsbury Publishing\n",
       "published_date                                             2020-10-01\n",
       "description         The first instalment of the GLOBAL PHENOMENON ...\n",
       "page_count                                                        451\n",
       "isbn                                                    9781526634245\n",
       "maturity_rating                                            NOT_MATURE\n",
       "image_link          https://i.gr-assets.com/images/S/compressed.ph...\n",
       "Name: 0, dtype: object"
      ]
     },
     "execution_count": 50,
     "metadata": {},
     "output_type": "execute_result"
    }
   ],
   "source": [
    "val= 'https://www.googleapis.com/books/v1/volumes?q=intitle:A%20Court%20of%20Thorns%20and%20Roses+inauthor:Sarah%20J%20Maas&maxResults=1'\n",
    "\n",
    "pd.json_normalize(full_book_dictionary[val]).iloc[0]"
   ]
  },
  {
   "cell_type": "code",
   "execution_count": 51,
   "metadata": {},
   "outputs": [],
   "source": [
    "full_list= [] \n",
    "for key in full_book_dictionary.keys(): \n",
    "    val= full_book_dictionary[key]\n",
    "    if type(val) == type(None): \n",
    "        pass \n",
    "    else:\n",
    "       full_list.append(list(pd.json_normalize(val).iloc[0]))"
   ]
  },
  {
   "cell_type": "code",
   "execution_count": 97,
   "metadata": {},
   "outputs": [],
   "source": [
    "df2 = pd.DataFrame(full_list, columns = ['api', 'Title', 'Author', 'Rating', 'Count of Ratings', 'publisher', 'published_date', 'description', 'page_count', 'isbn', 'maturity_rating', 'image_link']) "
   ]
  },
  {
   "cell_type": "code",
   "execution_count": 55,
   "metadata": {},
   "outputs": [],
   "source": [
    "df2.to_csv(\"romantasy_data.csv\", index=False)"
   ]
  },
  {
   "cell_type": "code",
   "execution_count": 191,
   "metadata": {},
   "outputs": [],
   "source": [
    "#with open('romantasy_data.json', 'w') as f:\n",
    "#    json.dump(full_book_dictionary, f)"
   ]
  },
  {
   "cell_type": "code",
   "execution_count": 12,
   "metadata": {},
   "outputs": [],
   "source": [
    "# Open and read the JSON file\n",
    "#with open('romantasy_data.json', 'r') as file:\n",
    "#    full_book_dictionary = json.load(file)"
   ]
  },
  {
   "cell_type": "markdown",
   "metadata": {},
   "source": [
    "## clean romantasy data! "
   ]
  },
  {
   "cell_type": "code",
   "execution_count": null,
   "metadata": {},
   "outputs": [],
   "source": [
    "# NLP for title? \n",
    "# NLP for author? \n",
    "# average rating (scale between 0 and 1)\n",
    "# count of ratings -- convert to categorical? i.e. max \n",
    "# publisher -- categorical (?) EDA for how many \n",
    "# published_date -- split into year groupings? \n",
    "# decription -- NLP for sure \n",
    "# page_count -- categorical \n",
    "# maturity_rating -- binary \n",
    "# image_link -- use within CNN?"
   ]
  },
  {
   "cell_type": "code",
   "execution_count": null,
   "metadata": {},
   "outputs": [],
   "source": [
    "# also do NA checks!!! + fill in! "
   ]
  },
  {
   "cell_type": "code",
   "execution_count": 98,
   "metadata": {},
   "outputs": [
    {
     "data": {
      "text/plain": [
       "api                  object\n",
       "Title                object\n",
       "Author               object\n",
       "Rating              float64\n",
       "Count of Ratings     object\n",
       "publisher            object\n",
       "published_date       object\n",
       "description          object\n",
       "page_count           object\n",
       "isbn                 object\n",
       "maturity_rating      object\n",
       "image_link           object\n",
       "dtype: object"
      ]
     },
     "execution_count": 98,
     "metadata": {},
     "output_type": "execute_result"
    }
   ],
   "source": [
    "df2.dtypes"
   ]
  },
  {
   "cell_type": "code",
   "execution_count": 152,
   "metadata": {},
   "outputs": [
    {
     "data": {
      "text/plain": [
       "api                  0\n",
       "Title                0\n",
       "Author               0\n",
       "Rating               0\n",
       "Count of Ratings     0\n",
       "publisher            0\n",
       "published_date       4\n",
       "description         46\n",
       "page_count           0\n",
       "isbn                13\n",
       "maturity_rating      0\n",
       "image_link           0\n",
       "published_year       0\n",
       "dtype: int64"
      ]
     },
     "execution_count": 152,
     "metadata": {},
     "output_type": "execute_result"
    }
   ],
   "source": [
    "df2.replace(to_replace = \"N/A\", value = np.nan, inplace = True) # replace N/A with np.nan\n",
    "nan_counts = df2.isna().sum()\n",
    "nan_counts"
   ]
  },
  {
   "cell_type": "code",
   "execution_count": 109,
   "metadata": {},
   "outputs": [
    {
     "name": "stderr",
     "output_type": "stream",
     "text": [
      "/var/folders/09/l3m63nj90fg1l2jshjp_hd5w0000gn/T/ipykernel_28864/66946447.py:2: FutureWarning: In a future version of pandas, parsing datetimes with mixed time zones will raise an error unless `utc=True`. Please specify `utc=True` to opt in to the new behaviour and silence this warning. To create a `Series` with mixed offsets and `object` dtype, please use `apply` and `datetime.datetime.strptime`\n",
      "  df2['published_date']= pd.to_datetime(df2['published_date'], format='mixed')\n"
     ]
    }
   ],
   "source": [
    "# convert to datetime\n",
    "df2['published_date']= pd.to_datetime(df2['published_date'], format='mixed')\n",
    "df2['published_date']= pd.to_datetime(df2['published_date'], utc=True)"
   ]
  },
  {
   "cell_type": "code",
   "execution_count": 137,
   "metadata": {},
   "outputs": [],
   "source": [
    "df2['published_year'] = df2['published_date'].dt.year\n",
    "df2['published_year']= df2['published_year'].fillna(df2['published_year'].mean())"
   ]
  },
  {
   "cell_type": "code",
   "execution_count": 139,
   "metadata": {},
   "outputs": [],
   "source": [
    "df2['page_count']= df2['page_count'].fillna(df2['page_count'].mean()) # fill NA's with mean for page count! \n"
   ]
  },
  {
   "cell_type": "code",
   "execution_count": 244,
   "metadata": {},
   "outputs": [],
   "source": [
    "def get_cat_page_count(page_count): \n",
    "    if page_count < 300: \n",
    "       return \"<300\"\n",
    "    if page_count > 299 and page_count <450: \n",
    "        return \"300-450\"\n",
    "    if page_count >=450: \n",
    "        return \"450+\"\n"
   ]
  },
  {
   "cell_type": "code",
   "execution_count": 245,
   "metadata": {},
   "outputs": [
    {
     "data": {
      "text/plain": [
       "cleaned_page_count_v1\n",
       "300-450    407\n",
       "<300       403\n",
       "450+       256\n",
       "Name: count, dtype: int64"
      ]
     },
     "execution_count": 245,
     "metadata": {},
     "output_type": "execute_result"
    }
   ],
   "source": [
    "df2['cleaned_page_count_v1']= df2['page_count'].apply(get_cat_page_count)\n",
    "df2['cleaned_page_count_v1'].value_counts()\n"
   ]
  },
  {
   "cell_type": "code",
   "execution_count": 250,
   "metadata": {},
   "outputs": [],
   "source": [
    "df2['count_of_ratings']= df2['Count of Ratings'].str.replace(\",\", \"\")\n",
    "df2['count_of_ratings']= df2['count_of_ratings'].astype(int)\n"
   ]
  },
  {
   "cell_type": "code",
   "execution_count": 269,
   "metadata": {},
   "outputs": [],
   "source": [
    "def get_cat_ratings(rating): \n",
    "    if rating > 130000: \n",
    "       return 1\n",
    "    elif rating > 75000: \n",
    "        return 2 \n",
    "    elif rating > 50000: \n",
    "        return 3\n",
    "    elif rating > 25000: \n",
    "            return 4\n",
    "    elif rating > 10000: \n",
    "            return 5\n",
    "    else:\n",
    "         return 6\n"
   ]
  },
  {
   "cell_type": "code",
   "execution_count": 270,
   "metadata": {},
   "outputs": [
    {
     "data": {
      "text/plain": [
       "cleaned_count_ratings_v1\n",
       "5    230\n",
       "1    228\n",
       "6    204\n",
       "4    179\n",
       "2    123\n",
       "3    102\n",
       "Name: count, dtype: int64"
      ]
     },
     "execution_count": 270,
     "metadata": {},
     "output_type": "execute_result"
    }
   ],
   "source": [
    "df2['cleaned_count_ratings_v1']= df2['count_of_ratings'].apply(get_cat_ratings)\n",
    "df2['cleaned_count_ratings_v1'].value_counts()"
   ]
  },
  {
   "cell_type": "code",
   "execution_count": 273,
   "metadata": {},
   "outputs": [
    {
     "data": {
      "text/plain": [
       "mature\n",
       "0    1010\n",
       "1      56\n",
       "Name: count, dtype: int64"
      ]
     },
     "execution_count": 273,
     "metadata": {},
     "output_type": "execute_result"
    }
   ],
   "source": [
    "def get_mature(mature): \n",
    "    if mature == \"MATURE\": \n",
    "        return 1\n",
    "    else: \n",
    "        return 0 \n",
    "\n",
    "df2['mature']= df2['maturity_rating'].apply(get_mature)\n",
    "df2['mature'].value_counts()\n",
    "\n"
   ]
  },
  {
   "cell_type": "code",
   "execution_count": 142,
   "metadata": {},
   "outputs": [],
   "source": [
    "def get_cleaned_publisher(publisher_name): \n",
    "    publisher_name = publisher_name.lower()\n",
    "    if \"bloomsbury\" in publisher_name: \n",
    "        cleaned_publisher= \"bloomsbury\"\n",
    "    elif 'harper' in publisher_name: \n",
    "        cleaned_publisher= \"harper collins\"\n",
    "    elif 'entangled' in publisher_name: \n",
    "        cleaned_publisher= 'entangled'\n",
    "    elif 'kensington' in publisher_name: \n",
    "        cleaned_publisher = 'kensington'\n",
    "    elif 'penguin' in publisher_name or 'random house' in publisher_name: \n",
    "        cleaned_publisher = 'random house'\n",
    "    elif 'martin' in publisher_name: \n",
    "        cleaned_publisher='martin'\n",
    "    elif 'brown books' in publisher_name: \n",
    "        cleaned_publisher='little brown books'\n",
    "    else: \n",
    "        cleaned_publisher ='other'\n",
    "    return cleaned_publisher\n"
   ]
  },
  {
   "cell_type": "code",
   "execution_count": 150,
   "metadata": {},
   "outputs": [
    {
     "data": {
      "text/plain": [
       "publisher\n",
       "other                 778\n",
       "random house          128\n",
       "harper collins         78\n",
       "bloomsbury             24\n",
       "little brown books     22\n",
       "entangled              19\n",
       "kensington              9\n",
       "martin                  8\n",
       "Name: count, dtype: int64"
      ]
     },
     "execution_count": 150,
     "metadata": {},
     "output_type": "execute_result"
    }
   ],
   "source": [
    "# add back in string value! \n",
    "df2['publisher'].replace(to_replace = np.nan, value = \"N/A\", inplace = True) # replace N/A with np.nan\n",
    "\n",
    "df2['cleaned_publisher']= df2['publisher'].apply(get_cleaned_publisher)\n",
    "\n",
    "df2['cleaned_publisher'].value_counts()"
   ]
  },
  {
   "cell_type": "code",
   "execution_count": 151,
   "metadata": {},
   "outputs": [],
   "source": [
    "# Bloomsberg \n",
    "# Collins Harper Collings \n",
    "# Cambridge University Press\n",
    "# Entangled \n",
    "# Kensington\n",
    "# Penguin Random House \n",
    "# St Martin's Press\n",
    "# Little brown books \n",
    "# Other \n",
    "#np.unique(df2['publisher'])"
   ]
  },
  {
   "cell_type": "code",
   "execution_count": 170,
   "metadata": {},
   "outputs": [],
   "source": [
    "import re\n",
    "from nltk.corpus import stopwords\n",
    "from nltk.stem import WordNetLemmatizer\n",
    "from nltk.tokenize import word_tokenize\n",
    "import nltk\n"
   ]
  },
  {
   "cell_type": "code",
   "execution_count": 173,
   "metadata": {},
   "outputs": [
    {
     "name": "stdout",
     "output_type": "stream",
     "text": [
      "thrilling adventure touch mystery published\n"
     ]
    }
   ],
   "source": [
    "## now onto cleaning descriptions! \n",
    "\n",
    "def clean_text(text):\n",
    "    # Lowercase conversion\n",
    "    text = text.lower()\n",
    "    # Remove punctuation and special characters\n",
    "    text = re.sub(r'[^\\w\\s]', '', text)\n",
    "    # Remove numbers\n",
    "    text = re.sub(r'\\d+', '', text)\n",
    "    # Tokenize\n",
    "    tokens = word_tokenize(text)\n",
    "    # Remove stop words\n",
    "    stop_words = set(stopwords.words('english'))\n",
    "    tokens = [word for word in tokens if word not in stop_words]\n",
    "\n",
    "    # Lemmatization\n",
    "    lemmatizer = WordNetLemmatizer()\n",
    "    tokens = [lemmatizer.lemmatize(word) for word in tokens]\n",
    "    return ' '.join(tokens)\n",
    "\n",
    "cleaned_description = clean_text()\n"
   ]
  },
  {
   "cell_type": "code",
   "execution_count": 176,
   "metadata": {},
   "outputs": [],
   "source": [
    "# add back in string value! \n",
    "df2['description'].replace(to_replace = np.nan, value = \"N/A\", inplace = True) # replace N/A with np.nan\n",
    "\n",
    "df2['cleaned_description'] = df2['description'].apply(clean_text)"
   ]
  },
  {
   "cell_type": "code",
   "execution_count": 193,
   "metadata": {},
   "outputs": [],
   "source": [
    "df2['cleaned_author'] = df2['Author'].apply(clean_text)\n",
    "df2['cleaned_title'] = df2['Title'].apply(clean_text)"
   ]
  },
  {
   "cell_type": "code",
   "execution_count": 180,
   "metadata": {},
   "outputs": [],
   "source": [
    "from tensorflow.keras.preprocessing.text import Tokenizer\n",
    "from tensorflow.keras.preprocessing.sequence import pad_sequences"
   ]
  },
  {
   "cell_type": "code",
   "execution_count": 194,
   "metadata": {},
   "outputs": [],
   "source": [
    "\n",
    "corpus= list(df2['cleaned_description'])\n",
    "\n",
    "# Tokenize the text\n",
    "tokenizer = Tokenizer()\n",
    "tokenizer.fit_on_texts(corpus)\n",
    "word_index_description = tokenizer.word_index\n",
    "sequences = tokenizer.texts_to_sequences(corpus)\n",
    "\n",
    "# Pad sequences\n",
    "max_length = 256  # Fixed length for CNN input\n",
    "padded_sequences_description = pad_sequences(sequences, padding='post',  maxlen=max_length) \n"
   ]
  },
  {
   "cell_type": "code",
   "execution_count": 228,
   "metadata": {},
   "outputs": [],
   "source": [
    "corpus_author= list(df2['cleaned_author'])\n",
    "\n",
    "# Tokenize the text\n",
    "tokenizer2 = Tokenizer()\n",
    "tokenizer2.fit_on_texts(corpus_author)\n",
    "word_index_author = tokenizer2.texts_to_sequences\n",
    "sequences2 = tokenizer2.texts_to_sequences(corpus_author)\n",
    "\n",
    "# Pad sequences\n",
    "padded_sequences_author = pad_sequences(sequences2, padding='post') #,  maxlen=max_length) \n"
   ]
  },
  {
   "cell_type": "code",
   "execution_count": null,
   "metadata": {},
   "outputs": [],
   "source": [
    "corpus_title= list(df2['cleaned_title'])\n",
    "\n",
    "# Tokenize the text\n",
    "tokenizer3 = Tokenizer()\n",
    "tokenizer3.fit_on_texts(corpus_title)\n",
    "word_index_title = tokenizer3.texts_to_sequences\n",
    "sequences3 = tokenizer3.texts_to_sequences(corpus_title)\n",
    "\n",
    "# Pad sequences\n",
    "padded_sequences_title = pad_sequences(sequences3, padding='post') #,  maxlen=max_length) \n"
   ]
  },
  {
   "cell_type": "code",
   "execution_count": null,
   "metadata": {},
   "outputs": [],
   "source": [
    "# here are the features we have so far! last *big* hurdle would be to include image data! \n",
    "# ['cleaned_title', 'cleaned_author' , 'cleaned_description', 'cleaned_publisher', \n",
    "# 'cleaned_page_count_v1', 'cleaned_count_ratings_v1', 'published_year', 'mature'] "
   ]
  },
  {
   "cell_type": "code",
   "execution_count": 279,
   "metadata": {},
   "outputs": [
    {
     "data": {
      "text/html": [
       "<div>\n",
       "<style scoped>\n",
       "    .dataframe tbody tr th:only-of-type {\n",
       "        vertical-align: middle;\n",
       "    }\n",
       "\n",
       "    .dataframe tbody tr th {\n",
       "        vertical-align: top;\n",
       "    }\n",
       "\n",
       "    .dataframe thead th {\n",
       "        text-align: right;\n",
       "    }\n",
       "</style>\n",
       "<table border=\"1\" class=\"dataframe\">\n",
       "  <thead>\n",
       "    <tr style=\"text-align: right;\">\n",
       "      <th></th>\n",
       "      <th>cleaned_title</th>\n",
       "      <th>cleaned_author</th>\n",
       "      <th>Rating</th>\n",
       "      <th>Count of Ratings</th>\n",
       "      <th>cleaned_description</th>\n",
       "      <th>cleaned_publisher</th>\n",
       "      <th>cleaned_page_count_v1</th>\n",
       "      <th>cleaned_count_ratings_v1</th>\n",
       "      <th>published_year</th>\n",
       "      <th>mature</th>\n",
       "    </tr>\n",
       "  </thead>\n",
       "  <tbody>\n",
       "    <tr>\n",
       "      <th>0</th>\n",
       "      <td>court thorn rose</td>\n",
       "      <td>sarah j maas</td>\n",
       "      <td>4.18</td>\n",
       "      <td>3,459,145</td>\n",
       "      <td>first instalment global phenomenon tiktok sens...</td>\n",
       "      <td>bloomsbury</td>\n",
       "      <td>450+</td>\n",
       "      <td>1</td>\n",
       "      <td>2020.0</td>\n",
       "      <td>0</td>\n",
       "    </tr>\n",
       "    <tr>\n",
       "      <th>1</th>\n",
       "      <td>court mist fury</td>\n",
       "      <td>sarah j maas</td>\n",
       "      <td>4.65</td>\n",
       "      <td>2,625,974</td>\n",
       "      <td>new york time bestselling sequel sarah j maass...</td>\n",
       "      <td>bloomsbury</td>\n",
       "      <td>450+</td>\n",
       "      <td>1</td>\n",
       "      <td>2017.0</td>\n",
       "      <td>0</td>\n",
       "    </tr>\n",
       "    <tr>\n",
       "      <th>2</th>\n",
       "      <td>fourth wing</td>\n",
       "      <td>rebecca yarros</td>\n",
       "      <td>4.58</td>\n",
       "      <td>2,508,672</td>\n",
       "      <td>war grows deadly violet sorrengail join elite ...</td>\n",
       "      <td>entangled</td>\n",
       "      <td>&lt;300</td>\n",
       "      <td>1</td>\n",
       "      <td>2023.0</td>\n",
       "      <td>0</td>\n",
       "    </tr>\n",
       "    <tr>\n",
       "      <th>3</th>\n",
       "      <td>court wing ruin</td>\n",
       "      <td>sarah j maas</td>\n",
       "      <td>4.47</td>\n",
       "      <td>2,194,491</td>\n",
       "      <td>feyre must decide trust among high lord turn a...</td>\n",
       "      <td>bloomsbury</td>\n",
       "      <td>450+</td>\n",
       "      <td>1</td>\n",
       "      <td>2017.0</td>\n",
       "      <td>0</td>\n",
       "    </tr>\n",
       "    <tr>\n",
       "      <th>4</th>\n",
       "      <td>blood ash</td>\n",
       "      <td>jennifer l armentrout</td>\n",
       "      <td>4.22</td>\n",
       "      <td>708,676</td>\n",
       "      <td>captivating actionpacked blood ash sexy addict...</td>\n",
       "      <td>other</td>\n",
       "      <td>300-450</td>\n",
       "      <td>1</td>\n",
       "      <td>2020.0</td>\n",
       "      <td>0</td>\n",
       "    </tr>\n",
       "    <tr>\n",
       "      <th>...</th>\n",
       "      <td>...</td>\n",
       "      <td>...</td>\n",
       "      <td>...</td>\n",
       "      <td>...</td>\n",
       "      <td>...</td>\n",
       "      <td>...</td>\n",
       "      <td>...</td>\n",
       "      <td>...</td>\n",
       "      <td>...</td>\n",
       "      <td>...</td>\n",
       "    </tr>\n",
       "    <tr>\n",
       "      <th>1061</th>\n",
       "      <td>scorpio race</td>\n",
       "      <td>maggie stiefvater</td>\n",
       "      <td>4.10</td>\n",
       "      <td>111,812</td>\n",
       "      <td>every november scorpio race run beneath chalk ...</td>\n",
       "      <td>other</td>\n",
       "      <td>&lt;300</td>\n",
       "      <td>2</td>\n",
       "      <td>2022.0</td>\n",
       "      <td>0</td>\n",
       "    </tr>\n",
       "    <tr>\n",
       "      <th>1062</th>\n",
       "      <td>blaze memory</td>\n",
       "      <td>nalini singh</td>\n",
       "      <td>3.96</td>\n",
       "      <td>24,997</td>\n",
       "      <td>nalini singh return psychangeling world woman ...</td>\n",
       "      <td>other</td>\n",
       "      <td>300-450</td>\n",
       "      <td>5</td>\n",
       "      <td>2011.0</td>\n",
       "      <td>0</td>\n",
       "    </tr>\n",
       "    <tr>\n",
       "      <th>1063</th>\n",
       "      <td>split swallow</td>\n",
       "      <td>lindsay straube</td>\n",
       "      <td>3.83</td>\n",
       "      <td>5,662</td>\n",
       "      <td>internet sensation amazon bestseller lindsay s...</td>\n",
       "      <td>other</td>\n",
       "      <td>450+</td>\n",
       "      <td>6</td>\n",
       "      <td>2025.0</td>\n",
       "      <td>0</td>\n",
       "    </tr>\n",
       "    <tr>\n",
       "      <th>1064</th>\n",
       "      <td>autumn grimoire</td>\n",
       "      <td>jl vampa</td>\n",
       "      <td>4.05</td>\n",
       "      <td>3,185</td>\n",
       "      <td>witch cast spell others slay king mysterious g...</td>\n",
       "      <td>other</td>\n",
       "      <td>300-450</td>\n",
       "      <td>6</td>\n",
       "      <td>2022.0</td>\n",
       "      <td>0</td>\n",
       "    </tr>\n",
       "    <tr>\n",
       "      <th>1065</th>\n",
       "      <td>curious tide</td>\n",
       "      <td>pascale lacelle</td>\n",
       "      <td>3.81</td>\n",
       "      <td>10,090</td>\n",
       "      <td>teen mage emory must unravel truth behind secr...</td>\n",
       "      <td>other</td>\n",
       "      <td>450+</td>\n",
       "      <td>5</td>\n",
       "      <td>2024.0</td>\n",
       "      <td>0</td>\n",
       "    </tr>\n",
       "  </tbody>\n",
       "</table>\n",
       "<p>1066 rows × 10 columns</p>\n",
       "</div>"
      ],
      "text/plain": [
       "         cleaned_title         cleaned_author  Rating Count of Ratings  \\\n",
       "0     court thorn rose           sarah j maas    4.18        3,459,145   \n",
       "1      court mist fury           sarah j maas    4.65        2,625,974   \n",
       "2          fourth wing         rebecca yarros    4.58        2,508,672   \n",
       "3      court wing ruin           sarah j maas    4.47        2,194,491   \n",
       "4            blood ash  jennifer l armentrout    4.22          708,676   \n",
       "...                ...                    ...     ...              ...   \n",
       "1061      scorpio race      maggie stiefvater    4.10          111,812   \n",
       "1062      blaze memory           nalini singh    3.96           24,997   \n",
       "1063     split swallow        lindsay straube    3.83            5,662   \n",
       "1064   autumn grimoire               jl vampa    4.05            3,185   \n",
       "1065      curious tide        pascale lacelle    3.81           10,090   \n",
       "\n",
       "                                    cleaned_description cleaned_publisher  \\\n",
       "0     first instalment global phenomenon tiktok sens...        bloomsbury   \n",
       "1     new york time bestselling sequel sarah j maass...        bloomsbury   \n",
       "2     war grows deadly violet sorrengail join elite ...         entangled   \n",
       "3     feyre must decide trust among high lord turn a...        bloomsbury   \n",
       "4     captivating actionpacked blood ash sexy addict...             other   \n",
       "...                                                 ...               ...   \n",
       "1061  every november scorpio race run beneath chalk ...             other   \n",
       "1062  nalini singh return psychangeling world woman ...             other   \n",
       "1063  internet sensation amazon bestseller lindsay s...             other   \n",
       "1064  witch cast spell others slay king mysterious g...             other   \n",
       "1065  teen mage emory must unravel truth behind secr...             other   \n",
       "\n",
       "     cleaned_page_count_v1  cleaned_count_ratings_v1  published_year  mature  \n",
       "0                     450+                         1          2020.0       0  \n",
       "1                     450+                         1          2017.0       0  \n",
       "2                     <300                         1          2023.0       0  \n",
       "3                     450+                         1          2017.0       0  \n",
       "4                  300-450                         1          2020.0       0  \n",
       "...                    ...                       ...             ...     ...  \n",
       "1061                  <300                         2          2022.0       0  \n",
       "1062               300-450                         5          2011.0       0  \n",
       "1063                  450+                         6          2025.0       0  \n",
       "1064               300-450                         6          2022.0       0  \n",
       "1065                  450+                         5          2024.0       0  \n",
       "\n",
       "[1066 rows x 10 columns]"
      ]
     },
     "execution_count": 279,
     "metadata": {},
     "output_type": "execute_result"
    }
   ],
   "source": [
    "df2[['cleaned_title', 'cleaned_author' , 'Rating', \"Count of Ratings\", 'cleaned_description', 'cleaned_publisher', \n",
    "     'cleaned_page_count_v1', 'cleaned_count_ratings_v1', 'published_year', 'mature']]"
   ]
  },
  {
   "cell_type": "code",
   "execution_count": 282,
   "metadata": {},
   "outputs": [],
   "source": [
    "df2[['api', 'Title', 'cleaned_title', 'cleaned_author' , 'Rating', \"Count of Ratings\", 'cleaned_description', 'cleaned_publisher', \n",
    "     'cleaned_page_count_v1', 'cleaned_count_ratings_v1', 'published_year', 'mature']].to_csv(\"cleaned_romantasy_data.csv\", index=False)\n",
    "     "
   ]
  },
  {
   "cell_type": "code",
   "execution_count": null,
   "metadata": {},
   "outputs": [],
   "source": []
  },
  {
   "cell_type": "code",
   "execution_count": null,
   "metadata": {},
   "outputs": [],
   "source": []
  },
  {
   "cell_type": "code",
   "execution_count": null,
   "metadata": {},
   "outputs": [
    {
     "name": "stdout",
     "output_type": "stream",
     "text": [
      "https://www.googleapis.com/books/v1/volumes?q=intitle:Radiance+inauthor:Grace%20Draven&maxResults=1\n",
      "descr: https://www.googleapis.com/books/v1/volumes?q=intitle:A%20Shadow%20in%20the%20Ember+inauthor:Jennifer%20L%20Armentrout&maxResults=1\n",
      "image_link: https://www.googleapis.com/books/v1/volumes?q=intitle:A%20Shadow%20in%20the%20Ember+inauthor:Jennifer%20L%20Armentrout&maxResults=1\n",
      "https://www.googleapis.com/books/v1/volumes?q=intitle:Master%20of%20Crows+inauthor:Grace%20Draven&maxResults=1\n",
      "https://www.googleapis.com/books/v1/volumes?q=intitle:Entreat%20Me+inauthor:Grace%20Draven&maxResults=1\n",
      "descr: https://www.googleapis.com/books/v1/volumes?q=intitle:A%20Kingdom%20of%20Stars%20and%20Shadows+inauthor:Holly%20Renee&maxResults=1\n",
      "image_link: https://www.googleapis.com/books/v1/volumes?q=intitle:A%20Kingdom%20of%20Stars%20and%20Shadows+inauthor:Holly%20Renee&maxResults=1\n",
      "page_count: https://www.googleapis.com/books/v1/volumes?q=intitle:Eidolon+inauthor:Grace%20Draven&maxResults=1\n",
      "https://www.googleapis.com/books/v1/volumes?q=intitle:The%20Invisible%20Life%20of%20Addie%20LaRue+inauthor:Victoria%20E%20Schwab&maxResults=1\n"
     ]
    },
    {
     "ename": "HTTPError",
     "evalue": "HTTP Error 429: Too Many Requests",
     "output_type": "error",
     "traceback": [
      "\u001b[0;31m---------------------------------------------------------------------------\u001b[0m",
      "\u001b[0;31mHTTPError\u001b[0m                                 Traceback (most recent call last)",
      "Cell \u001b[0;32mIn[87], line 10\u001b[0m\n\u001b[1;32m      8\u001b[0m \u001b[38;5;66;03m# send a request and get a JSON response\u001b[39;00m\n\u001b[1;32m      9\u001b[0m \u001b[38;5;28;01mtry\u001b[39;00m: \n\u001b[0;32m---> 10\u001b[0m     resp \u001b[38;5;241m=\u001b[39m urlopen(api)\n\u001b[1;32m     11\u001b[0m \u001b[38;5;28;01mexcept\u001b[39;00m \u001b[38;5;167;01mUnicodeEncodeError\u001b[39;00m: \n\u001b[1;32m     12\u001b[0m     \u001b[38;5;28;01mpass\u001b[39;00m\n",
      "File \u001b[0;32m~/anaconda3/envs/RomantasyRec/lib/python3.12/urllib/request.py:215\u001b[0m, in \u001b[0;36murlopen\u001b[0;34m(url, data, timeout, cafile, capath, cadefault, context)\u001b[0m\n\u001b[1;32m    213\u001b[0m \u001b[38;5;28;01melse\u001b[39;00m:\n\u001b[1;32m    214\u001b[0m     opener \u001b[38;5;241m=\u001b[39m _opener\n\u001b[0;32m--> 215\u001b[0m \u001b[38;5;28;01mreturn\u001b[39;00m opener\u001b[38;5;241m.\u001b[39mopen(url, data, timeout)\n",
      "File \u001b[0;32m~/anaconda3/envs/RomantasyRec/lib/python3.12/urllib/request.py:521\u001b[0m, in \u001b[0;36mOpenerDirector.open\u001b[0;34m(self, fullurl, data, timeout)\u001b[0m\n\u001b[1;32m    519\u001b[0m \u001b[38;5;28;01mfor\u001b[39;00m processor \u001b[38;5;129;01min\u001b[39;00m \u001b[38;5;28mself\u001b[39m\u001b[38;5;241m.\u001b[39mprocess_response\u001b[38;5;241m.\u001b[39mget(protocol, []):\n\u001b[1;32m    520\u001b[0m     meth \u001b[38;5;241m=\u001b[39m \u001b[38;5;28mgetattr\u001b[39m(processor, meth_name)\n\u001b[0;32m--> 521\u001b[0m     response \u001b[38;5;241m=\u001b[39m meth(req, response)\n\u001b[1;32m    523\u001b[0m \u001b[38;5;28;01mreturn\u001b[39;00m response\n",
      "File \u001b[0;32m~/anaconda3/envs/RomantasyRec/lib/python3.12/urllib/request.py:630\u001b[0m, in \u001b[0;36mHTTPErrorProcessor.http_response\u001b[0;34m(self, request, response)\u001b[0m\n\u001b[1;32m    627\u001b[0m \u001b[38;5;66;03m# According to RFC 2616, \"2xx\" code indicates that the client's\u001b[39;00m\n\u001b[1;32m    628\u001b[0m \u001b[38;5;66;03m# request was successfully received, understood, and accepted.\u001b[39;00m\n\u001b[1;32m    629\u001b[0m \u001b[38;5;28;01mif\u001b[39;00m \u001b[38;5;129;01mnot\u001b[39;00m (\u001b[38;5;241m200\u001b[39m \u001b[38;5;241m<\u001b[39m\u001b[38;5;241m=\u001b[39m code \u001b[38;5;241m<\u001b[39m \u001b[38;5;241m300\u001b[39m):\n\u001b[0;32m--> 630\u001b[0m     response \u001b[38;5;241m=\u001b[39m \u001b[38;5;28mself\u001b[39m\u001b[38;5;241m.\u001b[39mparent\u001b[38;5;241m.\u001b[39merror(\n\u001b[1;32m    631\u001b[0m         \u001b[38;5;124m'\u001b[39m\u001b[38;5;124mhttp\u001b[39m\u001b[38;5;124m'\u001b[39m, request, response, code, msg, hdrs)\n\u001b[1;32m    633\u001b[0m \u001b[38;5;28;01mreturn\u001b[39;00m response\n",
      "File \u001b[0;32m~/anaconda3/envs/RomantasyRec/lib/python3.12/urllib/request.py:559\u001b[0m, in \u001b[0;36mOpenerDirector.error\u001b[0;34m(self, proto, *args)\u001b[0m\n\u001b[1;32m    557\u001b[0m \u001b[38;5;28;01mif\u001b[39;00m http_err:\n\u001b[1;32m    558\u001b[0m     args \u001b[38;5;241m=\u001b[39m (\u001b[38;5;28mdict\u001b[39m, \u001b[38;5;124m'\u001b[39m\u001b[38;5;124mdefault\u001b[39m\u001b[38;5;124m'\u001b[39m, \u001b[38;5;124m'\u001b[39m\u001b[38;5;124mhttp_error_default\u001b[39m\u001b[38;5;124m'\u001b[39m) \u001b[38;5;241m+\u001b[39m orig_args\n\u001b[0;32m--> 559\u001b[0m     \u001b[38;5;28;01mreturn\u001b[39;00m \u001b[38;5;28mself\u001b[39m\u001b[38;5;241m.\u001b[39m_call_chain(\u001b[38;5;241m*\u001b[39margs)\n",
      "File \u001b[0;32m~/anaconda3/envs/RomantasyRec/lib/python3.12/urllib/request.py:492\u001b[0m, in \u001b[0;36mOpenerDirector._call_chain\u001b[0;34m(self, chain, kind, meth_name, *args)\u001b[0m\n\u001b[1;32m    490\u001b[0m \u001b[38;5;28;01mfor\u001b[39;00m handler \u001b[38;5;129;01min\u001b[39;00m handlers:\n\u001b[1;32m    491\u001b[0m     func \u001b[38;5;241m=\u001b[39m \u001b[38;5;28mgetattr\u001b[39m(handler, meth_name)\n\u001b[0;32m--> 492\u001b[0m     result \u001b[38;5;241m=\u001b[39m func(\u001b[38;5;241m*\u001b[39margs)\n\u001b[1;32m    493\u001b[0m     \u001b[38;5;28;01mif\u001b[39;00m result \u001b[38;5;129;01mis\u001b[39;00m \u001b[38;5;129;01mnot\u001b[39;00m \u001b[38;5;28;01mNone\u001b[39;00m:\n\u001b[1;32m    494\u001b[0m         \u001b[38;5;28;01mreturn\u001b[39;00m result\n",
      "File \u001b[0;32m~/anaconda3/envs/RomantasyRec/lib/python3.12/urllib/request.py:639\u001b[0m, in \u001b[0;36mHTTPDefaultErrorHandler.http_error_default\u001b[0;34m(self, req, fp, code, msg, hdrs)\u001b[0m\n\u001b[1;32m    638\u001b[0m \u001b[38;5;28;01mdef\u001b[39;00m \u001b[38;5;21mhttp_error_default\u001b[39m(\u001b[38;5;28mself\u001b[39m, req, fp, code, msg, hdrs):\n\u001b[0;32m--> 639\u001b[0m     \u001b[38;5;28;01mraise\u001b[39;00m HTTPError(req\u001b[38;5;241m.\u001b[39mfull_url, code, msg, hdrs, fp)\n",
      "\u001b[0;31mHTTPError\u001b[0m: HTTP Error 429: Too Many Requests"
     ]
    }
   ],
   "source": [
    "## old version -- didn't use dict so would make new requests. \n",
    "for i in range(0, len(df)): \n",
    "    title= df.iloc[i][\"Title\"]\n",
    "    author= df.iloc[i][\"Author\"]\n",
    "    author= author.replace('.', '')\n",
    "    api = \"https://www.googleapis.com/books/v1/volumes?q=intitle:\" + str(title) +\"+inauthor:\" + str(author) +\"&maxResults=1\"\n",
    "    api= api.replace(\" \", \"%20\")\n",
    "    api.append(api_list_full)\n",
    "\n",
    "    # send a request and get a JSON response\n",
    "    try: \n",
    "        resp = urlopen(api)\n",
    "    except UnicodeEncodeError: \n",
    "        pass\n",
    "    # parse JSON into Python as a dictionary\n",
    "    try: \n",
    "        book = json.load(resp)\n",
    "    except JSONDecodeError: \n",
    "        print(\"json: \" + str(api))\n",
    "        pass \n",
    "\n",
    "    if book[\"totalItems\"] != 0: \n",
    "        book= book['items'][0] #-- not an index, just json quirk\n",
    "        try: \n",
    "            publisher= book['volumeInfo']['publisher']\n",
    "        except KeyError: \n",
    "            publisher = \"N/A\"\n",
    "        try: \n",
    "            published_date= book['volumeInfo']['publishedDate'] \n",
    "        except KeyError: \n",
    "            publisher = \"N/A\"\n",
    "        try: \n",
    "            description= book['volumeInfo']['description']\n",
    "        except KeyError: \n",
    "            description= 'N/A'\n",
    "            print(\"descr: \" + str(api))\n",
    "        try: \n",
    "            page_count=book['volumeInfo']['pageCount']\n",
    "        except KeyError: \n",
    "            page_count= 'N/A'\n",
    "            print(\"page_count: \" + str(api))\n",
    "        try: \n",
    "            isbn= book['volumeInfo']['industryIdentifiers'][0]['identifier']\n",
    "        except KeyError: \n",
    "            isbn= 'N/A'\n",
    "            print(\"isbn: \" + str(api))\n",
    "        try: \n",
    "            maturity_rating=book['volumeInfo']['maturityRating']\n",
    "        except KeyError: \n",
    "            maturity_rating=\"N/A\"\n",
    "        try: \n",
    "            image_link= book['volumeInfo']['imageLinks']['thumbnail'] \n",
    "        except KeyError: \n",
    "            image_link= 'N/A'\n",
    "            print(\"image_link: \" + str(api))\n",
    "        \n",
    "        book_data_full.append([api, title, df.iloc[i][\"Author\"], df.iloc[i][\"Rating\"], df.iloc[i][\"Count of Ratings\"], publisher, published_date, description, page_count, isbn, maturity_rating, image_link])   \n",
    "    else: \n",
    "        print(api)\n",
    "        pass\n",
    " "
   ]
  }
 ],
 "metadata": {
  "kernelspec": {
   "display_name": "RomantasyRec",
   "language": "python",
   "name": "python3"
  },
  "language_info": {
   "codemirror_mode": {
    "name": "ipython",
    "version": 3
   },
   "file_extension": ".py",
   "mimetype": "text/x-python",
   "name": "python",
   "nbconvert_exporter": "python",
   "pygments_lexer": "ipython3",
   "version": "3.12.8"
  }
 },
 "nbformat": 4,
 "nbformat_minor": 2
}
